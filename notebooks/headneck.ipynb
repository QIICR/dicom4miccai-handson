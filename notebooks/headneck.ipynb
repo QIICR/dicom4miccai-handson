{
 "cells": [
  {
   "cell_type": "markdown",
   "metadata": {},
   "source": [
    "# EXPLORATION OF TCIA QIN-HEADNECK DATA COLLECTION\n",
    "\n",
    "This is a Jupyter Notebook that demonstrates how Python can be used to explore the content of a publicly available DICOM dataset stored on The Cancer Imaging Archive (TCIA) and described here: https://wiki.cancerimagingarchive.net/display/Public/QIN-HEADNECK. \n",
    "\n",
    "This notebook was created as part of the preparations to the [DICOM4MICCAI tutorial](http://qiicr.org/dicom4miccai) at the [MICCAI 2017 conference](https://miccai2017.org) on Sept 10, 2017. \n",
    "\n",
    "The tutorial was organized by the [Quantitative Image Informatics for Cancer Research (QIICR)](http://qiicr.org) project funded by the [Informatics Technology for Cancer Research (ITCR)](https://itcr.nci.nih.gov/) program of the National Cancer Institute, award U24 CA180918.\n",
    "\n",
    "More pointers related to the material covered in this notebook:\n",
    "\n",
    "* DICOM4MICCAI gitbook https://qiicr.gitbooks.io/dicom4miccai-handson\n",
    "* dcmqi: conversion between DICOM and quantitative image analysis results https://github.com/QIICR/dcmqi\n",
    "* QIICR project GitHub organization: https://github.org/QIICR\n",
    "* QIICR home page: http://qiicr.org\n",
    "\n",
    "## Feedback\n",
    "\n",
    "Questions, comments, suggestions, corrections are welcomed!\n",
    "\n",
    "Please email `andrey.fedorov@gmail.com`, or [join the discussion on gitter]( https://gitter.im/QIICR/dcmqi)!"
   ]
  },
  {
   "cell_type": "markdown",
   "metadata": {},
   "source": [
    "# Table of Contents\n",
    "\n",
    "* <a href=\"#Introduction-and-prerequisites\">Introduction and prerequisites</a>\n",
    " * <a href=\"#Dataset-overview\">Dataset overview</a>\n",
    " * <a href=\"#Conversion-of-the-DICOM-dataset-into-tabular-form\">Conversion of the DICOM dataset into tabular form</a>\n",
    " * <a href=\"#Python-tools\">Python tools</a>\n",
    "* <a href=\"#Exploring-the-DICOM-stored-measurements\">Exploring the DICOM-stored measurements</a>\n",
    " * <a href=\"#Reading-measurements-from-DICOM-SR-derived-tables\">Reading measurements from DICOM SR derived tables</a>\n",
    " * <a href=\"#Linking-individual-measurements-with-the-images\">Linking individual measurements with the images</a>\n",
    "* <a href=\"#Further-reading\">Further reading</a>"
   ]
  },
  {
   "cell_type": "markdown",
   "metadata": {},
   "source": [
    "# Introduction and prerequisites\n",
    "\n",
    "The goal of this tutorial is to demonstrate how Python can be used to work with the data produced by quantitative image analysis and stored using the DICOM format. \n",
    "\n",
    "You don't need to know much about DICOM to follow along, but you will need to learn more if you want to use DICOM in your work. You will find pointers in the <a href=\"#Further-reading\">Further reading</a> section."
   ]
  },
  {
   "cell_type": "markdown",
   "metadata": {},
   "source": [
    "## DICOM Dataset overview\n",
    "\n",
    "The dataset used in this tutorial is discussed in detail in this publication:\n",
    "\n",
    "> Fedorov A., Clunie D., Ulrich E., Bauer C., Wahle A., Brown B., Onken M., Riesmeier J., Pieper S., Kikinis R., Buatti J., Beichel RR. _DICOM for quantitative imaging biomarker development: a standards based approach to sharing clinical data and structured PET/CT analysis results in head and neck cancer research_. PeerJ 4:e2057, 2016. DOI: [10.7717/peerj.2057](https://dx.doi.org/10.7717/peerj.2057)\n",
    "\n",
    "Here is a bird's eye view of the QIN-HEADNECK dataset: \n",
    "* 156 subjects with head and neck cancer\n",
    "* each subject had one or more PET/CT study (each study is expected to include a CT and a PET DICOM imaging series) for disease staging and treatment response assessment\n",
    "* images for a subset of 59 subjects were analyzed as follows:\n",
    " * primary tumor and the involved lymph nodes were segmented by each of the two readers, on two occasions, using [3D Slicer](http://slicer.org) both manually and using an interactive automated segmentation tool described in [(Beichel et al. 2016)](http://onlinelibrary.wiley.com/doi/10.1118/1.4948679/full)\n",
    " * the following reference regions used for PET normalization were segmented using automatic tools: cerebellum, liver and aortic arch\n",
    " * all segmentations were saved as DICOM Segmentation objects (DICOM SEG)\n",
    " * all PET images were normalized by Standardized Uptake Value (SUV) body weight \n",
    " * quantitative measurements were calculated from the PET images after applying Standardized Uptake Value (SUV) normalilzation for all the regions defined by the segmentations; SUV normalization factor for each DICOM series was saved into DICOM Real-World Value Mapping object (DICOM RWVM)\n",
    " * all resulting measurements were saved as DICOM Structured Report obects following [DICOM SR Template 1500](http://dicom.nema.org/medical/dicom/current/output/chtml/part16/chapter_A.html#sect_TID_1500)\n",
    "   \n",
    "![](https://dfzljdn9uc3pi.cloudfront.net/2016/2057/1/fig-1-2x.jpg)\n"
   ]
  },
  {
   "cell_type": "markdown",
   "metadata": {},
   "source": [
    "## Conversion of the DICOM dataset into tabular form\n",
    "\n",
    "The DICOM dataset was converted into a collection of tables using this converter script: https://github.com/QIICR/dcm2tables. The script extracts data elements from the DICOM files and stores them as a collection of tab-delimited text files that follow [this schema](https://app.quickdatabasediagrams.com/#/schema/_71V1H1AXEqqKWDnvx4VXw).\n",
    "\n",
    "You can download the collection of the extracted tables here: https://github.com/fedorov/dicom4miccai-handson/releases/download/untagged-f8d939ebd97e5895e439/QIN-HEADNECK-tables.zip. Unzip the file, note the location of the resulting directory, and set the value of the variable below to that location."
   ]
  },
  {
   "cell_type": "code",
   "execution_count": 1,
   "metadata": {
    "collapsed": true
   },
   "outputs": [],
   "source": [
    "tablesPath = '/home/jovyan/data/QIN-HEADNECK-Tables'\n",
    "#  set this to your location of the tables if running locally\n",
    "#tablesPath = '/Users/fedorov/github/dcm2tables/Tables'"
   ]
  },
  {
   "cell_type": "markdown",
   "metadata": {},
   "source": [
    "We will discuss the contents of the relevant specific tables generated by this script further in this notebook in the context."
   ]
  },
  {
   "cell_type": "markdown",
   "metadata": {},
   "source": [
    "## Python tools\n",
    "\n",
    "In this demonstration we will use the following Python packages:\n",
    "* Pandas for working with the tabular data\n",
    "* numpy for numerical operations\n",
    "* [matplotlib](https://matplotlib.org/index.html), [seaborn](https://seaborn.pydata.org/) and [bokeh](http://bokeh.pydata.org/en/latest/) for plotting\n",
    "\n",
    "**NOTE: there appears to be an issue using the (as of writing) latest 0.12.7 version of bokeh for some of the plotting operations in this notebook. If you are using a local installation of bokeh, you will need to make sure you are using bokeh 0.12.6!**\n",
    "\n",
    "If you are working with this notebook on your own system, you will need to install those packages as a prerequisite to import the packages!\n",
    "\n",
    "Run the cell below to confirm that all prerequisite packages are installed properly."
   ]
  },
  {
   "cell_type": "code",
   "execution_count": 2,
   "metadata": {},
   "outputs": [
    {
     "data": {
      "text/html": [
       "\n",
       "    <div class=\"bk-root\">\n",
       "        <a href=\"http://bokeh.pydata.org\" target=\"_blank\" class=\"bk-logo bk-logo-small bk-logo-notebook\"></a>\n",
       "        <span id=\"2bc7e5fe-8d63-4984-932e-f588c8b36a36\">Loading BokehJS ...</span>\n",
       "    </div>"
      ]
     },
     "metadata": {},
     "output_type": "display_data"
    },
    {
     "data": {
      "application/javascript": [
       "\n",
       "(function(global) {\n",
       "  function now() {\n",
       "    return new Date();\n",
       "  }\n",
       "\n",
       "  var force = true;\n",
       "\n",
       "  if (typeof (window._bokeh_onload_callbacks) === \"undefined\" || force === true) {\n",
       "    window._bokeh_onload_callbacks = [];\n",
       "    window._bokeh_is_loading = undefined;\n",
       "  }\n",
       "\n",
       "\n",
       "  \n",
       "  if (typeof (window._bokeh_timeout) === \"undefined\" || force === true) {\n",
       "    window._bokeh_timeout = Date.now() + 5000;\n",
       "    window._bokeh_failed_load = false;\n",
       "  }\n",
       "\n",
       "  var NB_LOAD_WARNING = {'data': {'text/html':\n",
       "     \"<div style='background-color: #fdd'>\\n\"+\n",
       "     \"<p>\\n\"+\n",
       "     \"BokehJS does not appear to have successfully loaded. If loading BokehJS from CDN, this \\n\"+\n",
       "     \"may be due to a slow or bad network connection. Possible fixes:\\n\"+\n",
       "     \"</p>\\n\"+\n",
       "     \"<ul>\\n\"+\n",
       "     \"<li>re-rerun `output_notebook()` to attempt to load from CDN again, or</li>\\n\"+\n",
       "     \"<li>use INLINE resources instead, as so:</li>\\n\"+\n",
       "     \"</ul>\\n\"+\n",
       "     \"<code>\\n\"+\n",
       "     \"from bokeh.resources import INLINE\\n\"+\n",
       "     \"output_notebook(resources=INLINE)\\n\"+\n",
       "     \"</code>\\n\"+\n",
       "     \"</div>\"}};\n",
       "\n",
       "  function display_loaded() {\n",
       "    if (window.Bokeh !== undefined) {\n",
       "      var el = document.getElementById(\"2bc7e5fe-8d63-4984-932e-f588c8b36a36\");\n",
       "      el.textContent = \"BokehJS \" + Bokeh.version + \" successfully loaded.\";\n",
       "    } else if (Date.now() < window._bokeh_timeout) {\n",
       "      setTimeout(display_loaded, 100)\n",
       "    }\n",
       "  }\n",
       "\n",
       "  function run_callbacks() {\n",
       "    try {\n",
       "      window._bokeh_onload_callbacks.forEach(function(callback) { callback() });\n",
       "    }\n",
       "    finally {\n",
       "      delete window._bokeh_onload_callbacks\n",
       "    }\n",
       "    console.info(\"Bokeh: all callbacks have finished\");\n",
       "  }\n",
       "\n",
       "  function load_libs(js_urls, callback) {\n",
       "    window._bokeh_onload_callbacks.push(callback);\n",
       "    if (window._bokeh_is_loading > 0) {\n",
       "      console.log(\"Bokeh: BokehJS is being loaded, scheduling callback at\", now());\n",
       "      return null;\n",
       "    }\n",
       "    if (js_urls == null || js_urls.length === 0) {\n",
       "      run_callbacks();\n",
       "      return null;\n",
       "    }\n",
       "    console.log(\"Bokeh: BokehJS not loaded, scheduling load and callback at\", now());\n",
       "    window._bokeh_is_loading = js_urls.length;\n",
       "    for (var i = 0; i < js_urls.length; i++) {\n",
       "      var url = js_urls[i];\n",
       "      var s = document.createElement('script');\n",
       "      s.src = url;\n",
       "      s.async = false;\n",
       "      s.onreadystatechange = s.onload = function() {\n",
       "        window._bokeh_is_loading--;\n",
       "        if (window._bokeh_is_loading === 0) {\n",
       "          console.log(\"Bokeh: all BokehJS libraries loaded\");\n",
       "          run_callbacks()\n",
       "        }\n",
       "      };\n",
       "      s.onerror = function() {\n",
       "        console.warn(\"failed to load library \" + url);\n",
       "      };\n",
       "      console.log(\"Bokeh: injecting script tag for BokehJS library: \", url);\n",
       "      document.getElementsByTagName(\"head\")[0].appendChild(s);\n",
       "    }\n",
       "  };var element = document.getElementById(\"2bc7e5fe-8d63-4984-932e-f588c8b36a36\");\n",
       "  if (element == null) {\n",
       "    console.log(\"Bokeh: ERROR: autoload.js configured with elementid '2bc7e5fe-8d63-4984-932e-f588c8b36a36' but no matching script tag was found. \")\n",
       "    return false;\n",
       "  }\n",
       "\n",
       "  var js_urls = [\"https://cdn.pydata.org/bokeh/release/bokeh-0.12.6.min.js\", \"https://cdn.pydata.org/bokeh/release/bokeh-widgets-0.12.6.min.js\"];\n",
       "\n",
       "  var inline_js = [\n",
       "    function(Bokeh) {\n",
       "      Bokeh.set_log_level(\"info\");\n",
       "    },\n",
       "    \n",
       "    function(Bokeh) {\n",
       "      \n",
       "    },\n",
       "    \n",
       "    function(Bokeh) {\n",
       "      \n",
       "      document.getElementById(\"2bc7e5fe-8d63-4984-932e-f588c8b36a36\").textContent = \"BokehJS is loading...\";\n",
       "    },\n",
       "    function(Bokeh) {\n",
       "      console.log(\"Bokeh: injecting CSS: https://cdn.pydata.org/bokeh/release/bokeh-0.12.6.min.css\");\n",
       "      Bokeh.embed.inject_css(\"https://cdn.pydata.org/bokeh/release/bokeh-0.12.6.min.css\");\n",
       "      console.log(\"Bokeh: injecting CSS: https://cdn.pydata.org/bokeh/release/bokeh-widgets-0.12.6.min.css\");\n",
       "      Bokeh.embed.inject_css(\"https://cdn.pydata.org/bokeh/release/bokeh-widgets-0.12.6.min.css\");\n",
       "    }\n",
       "  ];\n",
       "\n",
       "  function run_inline_js() {\n",
       "    \n",
       "    if ((window.Bokeh !== undefined) || (force === true)) {\n",
       "      for (var i = 0; i < inline_js.length; i++) {\n",
       "        inline_js[i](window.Bokeh);\n",
       "      }if (force === true) {\n",
       "        display_loaded();\n",
       "      }} else if (Date.now() < window._bokeh_timeout) {\n",
       "      setTimeout(run_inline_js, 100);\n",
       "    } else if (!window._bokeh_failed_load) {\n",
       "      console.log(\"Bokeh: BokehJS failed to load within specified timeout.\");\n",
       "      window._bokeh_failed_load = true;\n",
       "    } else if (force !== true) {\n",
       "      var cell = $(document.getElementById(\"2bc7e5fe-8d63-4984-932e-f588c8b36a36\")).parents('.cell').data().cell;\n",
       "      cell.output_area.append_execute_result(NB_LOAD_WARNING)\n",
       "    }\n",
       "\n",
       "  }\n",
       "\n",
       "  if (window._bokeh_is_loading === 0) {\n",
       "    console.log(\"Bokeh: BokehJS loaded, going straight to plotting\");\n",
       "    run_inline_js();\n",
       "  } else {\n",
       "    load_libs(js_urls, function() {\n",
       "      console.log(\"Bokeh: BokehJS plotting callback run at\", now());\n",
       "      run_inline_js();\n",
       "    });\n",
       "  }\n",
       "}(this));"
      ]
     },
     "metadata": {},
     "output_type": "display_data"
    }
   ],
   "source": [
    "import numpy as np\n",
    "import pandas as pd\n",
    "import matplotlib.pyplot as plt\n",
    "\n",
    "import seaborn as sns\n",
    "\n",
    "from bokeh.models import ColumnDataSource, OpenURL, TapTool\n",
    "from bokeh.plotting import figure, output_file, show\n",
    "from bokeh.io import output_notebook\n",
    "from bokeh.colors import RGB\n",
    "\n",
    "output_notebook()"
   ]
  },
  {
   "cell_type": "markdown",
   "metadata": {},
   "source": [
    "# Exploring the DICOM-stored measurements\n",
    "\n",
    "In this section we will explore the segmentation-derived measurements originally stored in DICOM SR documents. Specifically, we will create an interactive plot that summarizes the variability of segmentation across different users, sessions and segmentation tools involved. \n",
    "\n",
    "First, we will load various tables that will be needed for this task. You can always check out the schema of the tables extracted from the DICOM dataset at [this link](https://app.quickdatabasediagrams.com/#/schema/_71V1H1AXEqqKWDnvx4VXw).\n",
    "\n",
    "The flowchart below summarizes the sequence of steps and the tools involved in the processing throughout this tutorial.\n",
    "\n",
    "![](/notebooks/assets/processing-flowchart.jpg)"
   ]
  },
  {
   "cell_type": "markdown",
   "metadata": {},
   "source": [
    "## Preparing measurements from DICOM SR derived tables\n",
    "\n",
    "In this specific dataset, all SR documents correspond to the segmentation-based measurement reports. To be more specific, all of these SR documents follow the same Structured Reporting template TID 1500. The overall relationship between segmentations and the content of the SR documents is illustrated in the figure below.\n",
    "\n",
    "Each segmentation identifies a _finding_, which can be a primary neoplasm, a secondary neoplasm, or one of the reference regions. For each segmentatio} of the neoplasm done using each combination of `{User,Segmentation tool,Segmentation session}`, there is an SR document containing the measurements extracted from these segmentations. \n",
    "\n",
    "Each SR document contains one or more measurement groups. Within each SR document, measurements are organized hierarchically into _groups_, such that measurements derived from the segmentation of a single finding are located together. Some of the information about the measurements, common across all measurements in the group, is defined at the group level.\n",
    "\n",
    "![](/notebooks/assets/measurements-org.jpg)\n",
    "\n",
    "The conversion script generated separate table **`SR1500_MeasurementGroups`** for the measurement groups, where each row corresponds to a single measurement group."
   ]
  },
  {
   "cell_type": "code",
   "execution_count": 3,
   "metadata": {},
   "outputs": [
    {
     "data": {
      "text/plain": [
       "Index(['DeviceObserverName', 'FindingSite_CodeMeaning',\n",
       "       'FindingSite_CodeValue', 'FindingSite_CodingSchemeDesignator',\n",
       "       'Finding_CodeMeaning', 'Finding_CodeValue',\n",
       "       'Finding_CodingSchemeDesignator', 'ObserverType', 'PersonObserverName',\n",
       "       'SOPInstanceUID', 'TrackingIdentifier', 'TrackingUniqueIdentifier',\n",
       "       'activitySession', 'measurementMethod_CodeMeaning',\n",
       "       'measurementMethod_CodeValue',\n",
       "       'measurementMethod_CodingSchemeDesignator', 'timePoint'],\n",
       "      dtype='object')"
      ]
     },
     "execution_count": 3,
     "metadata": {},
     "output_type": "execute_result"
    }
   ],
   "source": [
    "SR1500_MeasurementGroups = pd.read_csv(tablesPath+'/SR1500_MeasurementGroups.tsv', sep='\\t', low_memory=False)\n",
    "SR1500_MeasurementGroups.columns"
   ]
  },
  {
   "cell_type": "markdown",
   "metadata": {},
   "source": [
    "... and another table for storing the individual measurements: **`SR1500_Measurements`**, one row per measurements."
   ]
  },
  {
   "cell_type": "code",
   "execution_count": 4,
   "metadata": {},
   "outputs": [
    {
     "data": {
      "text/plain": [
       "Index(['SOPInstanceUID', 'TrackingUniqueIdentifier',\n",
       "       'derivationModifier_CodeMeaning', 'derivationModifier_CodeValue',\n",
       "       'derivationModifier_CodingSchemeDesignator', 'quantity_CodeMeaning',\n",
       "       'quantity_CodeValue', 'quantity_CodingSchemeDesignator',\n",
       "       'units_CodeMeaning', 'units_CodeValue', 'units_CodingSchemeDesignator',\n",
       "       'value'],\n",
       "      dtype='object')"
      ]
     },
     "execution_count": 4,
     "metadata": {},
     "output_type": "execute_result"
    }
   ],
   "source": [
    "SR1500_Measurements = pd.read_csv(tablesPath+'/SR1500_Measurements.tsv', sep='\\t', low_memory=False)\n",
    "SR1500_Measurements.columns"
   ]
  },
  {
   "cell_type": "markdown",
   "metadata": {},
   "source": [
    "For our task, it is important to associate the group-level properties of the measurements (e.g., `activitySession` and `PersonObserverName`) with the individual measurements. We can accomplish this with a pandas `merge` operation, utilizing the combination of `SOPInstanceUID` and `TrackingUniqueIdentifier` as merge indices."
   ]
  },
  {
   "cell_type": "code",
   "execution_count": 5,
   "metadata": {},
   "outputs": [
    {
     "data": {
      "text/plain": [
       "(60531, 12)"
      ]
     },
     "execution_count": 5,
     "metadata": {},
     "output_type": "execute_result"
    }
   ],
   "source": [
    "SR1500_Measurements.shape"
   ]
  },
  {
   "cell_type": "code",
   "execution_count": 6,
   "metadata": {},
   "outputs": [
    {
     "data": {
      "text/plain": [
       "(60531, 27)"
      ]
     },
     "execution_count": 6,
     "metadata": {},
     "output_type": "execute_result"
    }
   ],
   "source": [
    "Measurements_merged = pd.merge(SR1500_Measurements,SR1500_MeasurementGroups,on=[\"SOPInstanceUID\",\"TrackingUniqueIdentifier\"])\n",
    "Measurements_merged.shape"
   ]
  },
  {
   "cell_type": "code",
   "execution_count": 7,
   "metadata": {},
   "outputs": [
    {
     "data": {
      "text/plain": [
       "Index(['SOPInstanceUID', 'TrackingUniqueIdentifier',\n",
       "       'derivationModifier_CodeMeaning', 'derivationModifier_CodeValue',\n",
       "       'derivationModifier_CodingSchemeDesignator', 'quantity_CodeMeaning',\n",
       "       'quantity_CodeValue', 'quantity_CodingSchemeDesignator',\n",
       "       'units_CodeMeaning', 'units_CodeValue', 'units_CodingSchemeDesignator',\n",
       "       'value', 'DeviceObserverName', 'FindingSite_CodeMeaning',\n",
       "       'FindingSite_CodeValue', 'FindingSite_CodingSchemeDesignator',\n",
       "       'Finding_CodeMeaning', 'Finding_CodeValue',\n",
       "       'Finding_CodingSchemeDesignator', 'ObserverType', 'PersonObserverName',\n",
       "       'TrackingIdentifier', 'activitySession',\n",
       "       'measurementMethod_CodeMeaning', 'measurementMethod_CodeValue',\n",
       "       'measurementMethod_CodingSchemeDesignator', 'timePoint'],\n",
       "      dtype='object')"
      ]
     },
     "execution_count": 7,
     "metadata": {},
     "output_type": "execute_result"
    }
   ],
   "source": [
    "Measurements_merged.columns"
   ]
  },
  {
   "cell_type": "markdown",
   "metadata": {},
   "source": [
    "There are different types of measurements, so let's first see what are they. Each measurement is defined by a combination of code tuples (read more about coding measurement quantities on p.18 of [this preprint article](https://peerj.com/preprints/1541/)). We can look at all combinations of these codes for the comprehensive list of measurements available."
   ]
  },
  {
   "cell_type": "code",
   "execution_count": 8,
   "metadata": {},
   "outputs": [
    {
     "data": {
      "text/plain": [
       "array(['SUVbw_Mean', 'SUVbw_Minimum', 'SUVbw_Maximum', 'Volume_nan',\n",
       "       'SUVbw_Standard Deviation', 'SUVbw_25th Percentile Value',\n",
       "       'SUVbw_Median', 'SUVbw_75th Percentile Value',\n",
       "       'SUVbw_Peak Value Within ROI', 'Total Lesion Glycolysis_nan',\n",
       "       'SUVbw_Upper Adjacent Value', 'SUVbw_RMS',\n",
       "       'Glycolysis Within First Quarter of Intensity Range_nan',\n",
       "       'Glycolysis Within Second Quarter of Intensity Range_nan',\n",
       "       'Glycolysis Within Third Quarter of Intensity Range_nan',\n",
       "       'Glycolysis Within Fourth Quarter of Intensity Range_nan',\n",
       "       'Percent Within First Quarter of Intensity Range_nan',\n",
       "       'Percent Within Second Quarter of Intensity Range_nan',\n",
       "       'Percent Within Third Quarter of Intensity Range_nan',\n",
       "       'Percent Within Fourth Quarter of Intensity Range_nan',\n",
       "       'Standardized Added Metabolic Activity_nan',\n",
       "       'Standardized Added Metabolic Activity Background_nan'], dtype=object)"
      ]
     },
     "execution_count": 8,
     "metadata": {},
     "output_type": "execute_result"
    }
   ],
   "source": [
    "(Measurements_merged[\"quantity_CodeMeaning\"].map(str)+\"_\"+Measurements_merged[\"derivationModifier_CodeMeaning\"].map(str)).unique()"
   ]
  },
  {
   "cell_type": "markdown",
   "metadata": {},
   "source": [
    "Let's start with the basics and look at the variability of the primary lesion volume measurement! \n",
    "\n",
    "We know that there multiple lesions for many of the subjects. All possible values for the finding are the following, and let's first consider only the primary lesion."
   ]
  },
  {
   "cell_type": "code",
   "execution_count": 9,
   "metadata": {},
   "outputs": [
    {
     "data": {
      "text/plain": [
       "array(['Reference Region', 'Neoplasm, Primary', 'Neoplasm, Secondary'], dtype=object)"
      ]
     },
     "execution_count": 9,
     "metadata": {},
     "output_type": "execute_result"
    }
   ],
   "source": [
    "Measurements_merged[\"Finding_CodeMeaning\"].unique()"
   ]
  },
  {
   "cell_type": "markdown",
   "metadata": {},
   "source": [
    "## Adding Composite Context"
   ]
  },
  {
   "cell_type": "markdown",
   "metadata": {},
   "source": [
    "We are almost ready to make the plot, but we are missing information about the patient for the individual measurements! This information is available in the **`CompositeContext`** table, which contains attributes related to the patient, study and series, and which should be present in every (valid!) DICOM file. This table contains one row per DICOM instance. Let's load and merge it with the individual measurements!"
   ]
  },
  {
   "cell_type": "code",
   "execution_count": 10,
   "metadata": {},
   "outputs": [
    {
     "data": {
      "text/plain": [
       "Index(['BodyPartExamined', 'ManufacturerModelName', 'Modality', 'PatientAge',\n",
       "       'PatientID', 'PatientName', 'PatientSex', 'PatientWeight',\n",
       "       'SOPClassUID', 'SOPInstanceUID', 'SeriesDate', 'SeriesDescription',\n",
       "       'SeriesInstanceUID', 'SeriesTime', 'SoftwareVersions', 'StudyDate',\n",
       "       'StudyDescription', 'StudyInstanceUID', 'StudyTime'],\n",
       "      dtype='object')"
      ]
     },
     "execution_count": 10,
     "metadata": {},
     "output_type": "execute_result"
    }
   ],
   "source": [
    "CompositeContext=pd.read_csv(tablesPath+'/CompositeContext.tsv', sep='\\t',low_memory=False)\n",
    "CompositeContext.columns"
   ]
  },
  {
   "cell_type": "code",
   "execution_count": 11,
   "metadata": {},
   "outputs": [
    {
     "data": {
      "text/plain": [
       "(60531, 27)"
      ]
     },
     "execution_count": 11,
     "metadata": {},
     "output_type": "execute_result"
    }
   ],
   "source": [
    "Measurements_merged.shape"
   ]
  },
  {
   "cell_type": "code",
   "execution_count": 14,
   "metadata": {},
   "outputs": [
    {
     "data": {
      "text/plain": [
       "(60531, 45)"
      ]
     },
     "execution_count": 14,
     "metadata": {},
     "output_type": "execute_result"
    }
   ],
   "source": [
    "Measurements_merged = pd.merge(Measurements_merged, CompositeContext, on=\"SOPInstanceUID\")\n",
    "Measurements_merged.shape"
   ]
  },
  {
   "cell_type": "code",
   "execution_count": 15,
   "metadata": {},
   "outputs": [
    {
     "data": {
      "text/plain": [
       "Index(['SOPInstanceUID', 'TrackingUniqueIdentifier',\n",
       "       'derivationModifier_CodeMeaning', 'derivationModifier_CodeValue',\n",
       "       'derivationModifier_CodingSchemeDesignator', 'quantity_CodeMeaning',\n",
       "       'quantity_CodeValue', 'quantity_CodingSchemeDesignator',\n",
       "       'units_CodeMeaning', 'units_CodeValue', 'units_CodingSchemeDesignator',\n",
       "       'value', 'DeviceObserverName', 'FindingSite_CodeMeaning',\n",
       "       'FindingSite_CodeValue', 'FindingSite_CodingSchemeDesignator',\n",
       "       'Finding_CodeMeaning', 'Finding_CodeValue',\n",
       "       'Finding_CodingSchemeDesignator', 'ObserverType', 'PersonObserverName',\n",
       "       'TrackingIdentifier', 'activitySession',\n",
       "       'measurementMethod_CodeMeaning', 'measurementMethod_CodeValue',\n",
       "       'measurementMethod_CodingSchemeDesignator', 'timePoint',\n",
       "       'BodyPartExamined', 'ManufacturerModelName', 'Modality', 'PatientAge',\n",
       "       'PatientID', 'PatientName', 'PatientSex', 'PatientWeight',\n",
       "       'SOPClassUID', 'SeriesDate', 'SeriesDescription', 'SeriesInstanceUID',\n",
       "       'SeriesTime', 'SoftwareVersions', 'StudyDate', 'StudyDescription',\n",
       "       'StudyInstanceUID', 'StudyTime'],\n",
       "      dtype='object')"
      ]
     },
     "execution_count": 15,
     "metadata": {},
     "output_type": "execute_result"
    }
   ],
   "source": [
    "Measurements_merged.columns"
   ]
  },
  {
   "cell_type": "markdown",
   "metadata": {},
   "source": [
    "Now we are finally ready to make the plot that summarizes the variability of segmentation across different users and sessions! Let's recap: we will prepare the plot based on the contents of the **`Measurements_merged`** pandas data frame, and will use the following items (all those details of the dataset are explained in the accompanying [manuscript](https://peerj.com/articles/2057/) that we mentioned in the opening of this notebook):\n",
    "\n",
    "* `PatientID` associates the measurements with the subjects in the dataset\n",
    "* the actual measurements are stored in the `value` column\n",
    "* we will consider the measurements of the lesion volume, these correspond to the rows that have the value `Volume` `quantity_CodeMeaning` \n",
    "* we will consider the measurements corresponding to the primary lesion, those correspond to the rows that have the value of `Neoplasm, Primary` in the `Finding_CodeMeaning` column\n",
    "* the identifier of the user performing the segmentation is in the `PersonObserverName` column\n",
    "* the identifier of the segmentation session is in the `activitySession` column\n",
    "\n",
    "All we have to do now is to subset the data frame, and make the plot!"
   ]
  },
  {
   "cell_type": "markdown",
   "metadata": {},
   "source": [
    "## Summary plot of the primary tumor volume measurements"
   ]
  },
  {
   "cell_type": "code",
   "execution_count": 16,
   "metadata": {},
   "outputs": [
    {
     "data": {
      "text/html": [
       "\n",
       "    <div class=\"bk-root\">\n",
       "        <a href=\"http://bokeh.pydata.org\" target=\"_blank\" class=\"bk-logo bk-logo-small bk-logo-notebook\"></a>\n",
       "        <span id=\"d69f4e37-53bb-41fa-8a96-ba8f5b7e544f\">Loading BokehJS ...</span>\n",
       "    </div>"
      ]
     },
     "metadata": {},
     "output_type": "display_data"
    },
    {
     "data": {
      "application/javascript": [
       "\n",
       "(function(global) {\n",
       "  function now() {\n",
       "    return new Date();\n",
       "  }\n",
       "\n",
       "  var force = true;\n",
       "\n",
       "  if (typeof (window._bokeh_onload_callbacks) === \"undefined\" || force === true) {\n",
       "    window._bokeh_onload_callbacks = [];\n",
       "    window._bokeh_is_loading = undefined;\n",
       "  }\n",
       "\n",
       "\n",
       "  \n",
       "  if (typeof (window._bokeh_timeout) === \"undefined\" || force === true) {\n",
       "    window._bokeh_timeout = Date.now() + 5000;\n",
       "    window._bokeh_failed_load = false;\n",
       "  }\n",
       "\n",
       "  var NB_LOAD_WARNING = {'data': {'text/html':\n",
       "     \"<div style='background-color: #fdd'>\\n\"+\n",
       "     \"<p>\\n\"+\n",
       "     \"BokehJS does not appear to have successfully loaded. If loading BokehJS from CDN, this \\n\"+\n",
       "     \"may be due to a slow or bad network connection. Possible fixes:\\n\"+\n",
       "     \"</p>\\n\"+\n",
       "     \"<ul>\\n\"+\n",
       "     \"<li>re-rerun `output_notebook()` to attempt to load from CDN again, or</li>\\n\"+\n",
       "     \"<li>use INLINE resources instead, as so:</li>\\n\"+\n",
       "     \"</ul>\\n\"+\n",
       "     \"<code>\\n\"+\n",
       "     \"from bokeh.resources import INLINE\\n\"+\n",
       "     \"output_notebook(resources=INLINE)\\n\"+\n",
       "     \"</code>\\n\"+\n",
       "     \"</div>\"}};\n",
       "\n",
       "  function display_loaded() {\n",
       "    if (window.Bokeh !== undefined) {\n",
       "      var el = document.getElementById(\"d69f4e37-53bb-41fa-8a96-ba8f5b7e544f\");\n",
       "      el.textContent = \"BokehJS \" + Bokeh.version + \" successfully loaded.\";\n",
       "    } else if (Date.now() < window._bokeh_timeout) {\n",
       "      setTimeout(display_loaded, 100)\n",
       "    }\n",
       "  }\n",
       "\n",
       "  function run_callbacks() {\n",
       "    try {\n",
       "      window._bokeh_onload_callbacks.forEach(function(callback) { callback() });\n",
       "    }\n",
       "    finally {\n",
       "      delete window._bokeh_onload_callbacks\n",
       "    }\n",
       "    console.info(\"Bokeh: all callbacks have finished\");\n",
       "  }\n",
       "\n",
       "  function load_libs(js_urls, callback) {\n",
       "    window._bokeh_onload_callbacks.push(callback);\n",
       "    if (window._bokeh_is_loading > 0) {\n",
       "      console.log(\"Bokeh: BokehJS is being loaded, scheduling callback at\", now());\n",
       "      return null;\n",
       "    }\n",
       "    if (js_urls == null || js_urls.length === 0) {\n",
       "      run_callbacks();\n",
       "      return null;\n",
       "    }\n",
       "    console.log(\"Bokeh: BokehJS not loaded, scheduling load and callback at\", now());\n",
       "    window._bokeh_is_loading = js_urls.length;\n",
       "    for (var i = 0; i < js_urls.length; i++) {\n",
       "      var url = js_urls[i];\n",
       "      var s = document.createElement('script');\n",
       "      s.src = url;\n",
       "      s.async = false;\n",
       "      s.onreadystatechange = s.onload = function() {\n",
       "        window._bokeh_is_loading--;\n",
       "        if (window._bokeh_is_loading === 0) {\n",
       "          console.log(\"Bokeh: all BokehJS libraries loaded\");\n",
       "          run_callbacks()\n",
       "        }\n",
       "      };\n",
       "      s.onerror = function() {\n",
       "        console.warn(\"failed to load library \" + url);\n",
       "      };\n",
       "      console.log(\"Bokeh: injecting script tag for BokehJS library: \", url);\n",
       "      document.getElementsByTagName(\"head\")[0].appendChild(s);\n",
       "    }\n",
       "  };var element = document.getElementById(\"d69f4e37-53bb-41fa-8a96-ba8f5b7e544f\");\n",
       "  if (element == null) {\n",
       "    console.log(\"Bokeh: ERROR: autoload.js configured with elementid 'd69f4e37-53bb-41fa-8a96-ba8f5b7e544f' but no matching script tag was found. \")\n",
       "    return false;\n",
       "  }\n",
       "\n",
       "  var js_urls = [\"https://cdn.pydata.org/bokeh/release/bokeh-0.12.6.min.js\", \"https://cdn.pydata.org/bokeh/release/bokeh-widgets-0.12.6.min.js\"];\n",
       "\n",
       "  var inline_js = [\n",
       "    function(Bokeh) {\n",
       "      Bokeh.set_log_level(\"info\");\n",
       "    },\n",
       "    \n",
       "    function(Bokeh) {\n",
       "      \n",
       "    },\n",
       "    \n",
       "    function(Bokeh) {\n",
       "      \n",
       "      document.getElementById(\"d69f4e37-53bb-41fa-8a96-ba8f5b7e544f\").textContent = \"BokehJS is loading...\";\n",
       "    },\n",
       "    function(Bokeh) {\n",
       "      console.log(\"Bokeh: injecting CSS: https://cdn.pydata.org/bokeh/release/bokeh-0.12.6.min.css\");\n",
       "      Bokeh.embed.inject_css(\"https://cdn.pydata.org/bokeh/release/bokeh-0.12.6.min.css\");\n",
       "      console.log(\"Bokeh: injecting CSS: https://cdn.pydata.org/bokeh/release/bokeh-widgets-0.12.6.min.css\");\n",
       "      Bokeh.embed.inject_css(\"https://cdn.pydata.org/bokeh/release/bokeh-widgets-0.12.6.min.css\");\n",
       "    }\n",
       "  ];\n",
       "\n",
       "  function run_inline_js() {\n",
       "    \n",
       "    if ((window.Bokeh !== undefined) || (force === true)) {\n",
       "      for (var i = 0; i < inline_js.length; i++) {\n",
       "        inline_js[i](window.Bokeh);\n",
       "      }if (force === true) {\n",
       "        display_loaded();\n",
       "      }} else if (Date.now() < window._bokeh_timeout) {\n",
       "      setTimeout(run_inline_js, 100);\n",
       "    } else if (!window._bokeh_failed_load) {\n",
       "      console.log(\"Bokeh: BokehJS failed to load within specified timeout.\");\n",
       "      window._bokeh_failed_load = true;\n",
       "    } else if (force !== true) {\n",
       "      var cell = $(document.getElementById(\"d69f4e37-53bb-41fa-8a96-ba8f5b7e544f\")).parents('.cell').data().cell;\n",
       "      cell.output_area.append_execute_result(NB_LOAD_WARNING)\n",
       "    }\n",
       "\n",
       "  }\n",
       "\n",
       "  if (window._bokeh_is_loading === 0) {\n",
       "    console.log(\"Bokeh: BokehJS loaded, going straight to plotting\");\n",
       "    run_inline_js();\n",
       "  } else {\n",
       "    load_libs(js_urls, function() {\n",
       "      console.log(\"Bokeh: BokehJS plotting callback run at\", now());\n",
       "      run_inline_js();\n",
       "    });\n",
       "  }\n",
       "}(this));"
      ]
     },
     "metadata": {},
     "output_type": "display_data"
    },
    {
     "name": "stdout",
     "output_type": "stream",
     "text": [
      "Identifiers of the users: ['User1' 'User2' 'User3']\n",
      "Identifiers of the activity sessions: [1 2]\n"
     ]
    }
   ],
   "source": [
    "from bokeh.models import ColumnDataSource, OpenURL, TapTool\n",
    "from bokeh.plotting import figure, output_file, show\n",
    "from bokeh.io import output_notebook\n",
    "from bokeh.colors import RGB\n",
    "\n",
    "from bokeh.models import HoverTool, PanTool, WheelZoomTool, BoxZoomTool, ResetTool, TapTool\n",
    "\n",
    "output_notebook()\n",
    "\n",
    "volume = []\n",
    "user = []\n",
    "method = []\n",
    "sesssion = []\n",
    "subject = []\n",
    "\n",
    "#SR_merged = pd.merge(SR_merged, segReferences)\n",
    "\n",
    "\n",
    "#subset = SR_merged[SR_merged[\"PersonObserverName\"]==\"User1\"]\n",
    "subset = Measurements_merged[Measurements_merged[\"Finding_CodeMeaning\"]==\"Neoplasm, Primary\"]\n",
    "subset = subset[subset[\"quantity_CodeMeaning\"]==\"Volume\"]\n",
    "\n",
    "print(\"Identifiers of the users: \"+str(subset[\"PersonObserverName\"].unique()))\n",
    "print(\"Identifiers of the activity sessions: \"+str(subset[\"activitySession\"].unique()))\n",
    "\n",
    "#subset = subset[subset[\"activitySession\"]==1]\n",
    "#subset = subset[subset[\"segmentationToolType\"]==\"SemiAuto\"]\n",
    "\n",
    "#subset.sort_values(\"value\", inplace=True)\n",
    "\n",
    "#subset=subset[subset[\"PatientID\"]==\"QIN-HEADNECK-01-0003\"]"
   ]
  },
  {
   "cell_type": "code",
   "execution_count": 17,
   "metadata": {},
   "outputs": [
    {
     "data": {
      "text/html": [
       "\n",
       "\n",
       "    <div class=\"bk-root\">\n",
       "        <div class=\"bk-plotdiv\" id=\"7d417aca-3a5a-4ca4-8a7c-2a9b6ff474af\"></div>\n",
       "    </div>\n",
       "<script type=\"text/javascript\">\n",
       "  \n",
       "  (function(global) {\n",
       "    function now() {\n",
       "      return new Date();\n",
       "    }\n",
       "  \n",
       "    var force = false;\n",
       "  \n",
       "    if (typeof (window._bokeh_onload_callbacks) === \"undefined\" || force === true) {\n",
       "      window._bokeh_onload_callbacks = [];\n",
       "      window._bokeh_is_loading = undefined;\n",
       "    }\n",
       "  \n",
       "  \n",
       "    \n",
       "    if (typeof (window._bokeh_timeout) === \"undefined\" || force === true) {\n",
       "      window._bokeh_timeout = Date.now() + 0;\n",
       "      window._bokeh_failed_load = false;\n",
       "    }\n",
       "  \n",
       "    var NB_LOAD_WARNING = {'data': {'text/html':\n",
       "       \"<div style='background-color: #fdd'>\\n\"+\n",
       "       \"<p>\\n\"+\n",
       "       \"BokehJS does not appear to have successfully loaded. If loading BokehJS from CDN, this \\n\"+\n",
       "       \"may be due to a slow or bad network connection. Possible fixes:\\n\"+\n",
       "       \"</p>\\n\"+\n",
       "       \"<ul>\\n\"+\n",
       "       \"<li>re-rerun `output_notebook()` to attempt to load from CDN again, or</li>\\n\"+\n",
       "       \"<li>use INLINE resources instead, as so:</li>\\n\"+\n",
       "       \"</ul>\\n\"+\n",
       "       \"<code>\\n\"+\n",
       "       \"from bokeh.resources import INLINE\\n\"+\n",
       "       \"output_notebook(resources=INLINE)\\n\"+\n",
       "       \"</code>\\n\"+\n",
       "       \"</div>\"}};\n",
       "  \n",
       "    function display_loaded() {\n",
       "      if (window.Bokeh !== undefined) {\n",
       "        var el = document.getElementById(\"7d417aca-3a5a-4ca4-8a7c-2a9b6ff474af\");\n",
       "        el.textContent = \"BokehJS \" + Bokeh.version + \" successfully loaded.\";\n",
       "      } else if (Date.now() < window._bokeh_timeout) {\n",
       "        setTimeout(display_loaded, 100)\n",
       "      }\n",
       "    }\n",
       "  \n",
       "    function run_callbacks() {\n",
       "      try {\n",
       "        window._bokeh_onload_callbacks.forEach(function(callback) { callback() });\n",
       "      }\n",
       "      finally {\n",
       "        delete window._bokeh_onload_callbacks\n",
       "      }\n",
       "      console.info(\"Bokeh: all callbacks have finished\");\n",
       "    }\n",
       "  \n",
       "    function load_libs(js_urls, callback) {\n",
       "      window._bokeh_onload_callbacks.push(callback);\n",
       "      if (window._bokeh_is_loading > 0) {\n",
       "        console.log(\"Bokeh: BokehJS is being loaded, scheduling callback at\", now());\n",
       "        return null;\n",
       "      }\n",
       "      if (js_urls == null || js_urls.length === 0) {\n",
       "        run_callbacks();\n",
       "        return null;\n",
       "      }\n",
       "      console.log(\"Bokeh: BokehJS not loaded, scheduling load and callback at\", now());\n",
       "      window._bokeh_is_loading = js_urls.length;\n",
       "      for (var i = 0; i < js_urls.length; i++) {\n",
       "        var url = js_urls[i];\n",
       "        var s = document.createElement('script');\n",
       "        s.src = url;\n",
       "        s.async = false;\n",
       "        s.onreadystatechange = s.onload = function() {\n",
       "          window._bokeh_is_loading--;\n",
       "          if (window._bokeh_is_loading === 0) {\n",
       "            console.log(\"Bokeh: all BokehJS libraries loaded\");\n",
       "            run_callbacks()\n",
       "          }\n",
       "        };\n",
       "        s.onerror = function() {\n",
       "          console.warn(\"failed to load library \" + url);\n",
       "        };\n",
       "        console.log(\"Bokeh: injecting script tag for BokehJS library: \", url);\n",
       "        document.getElementsByTagName(\"head\")[0].appendChild(s);\n",
       "      }\n",
       "    };var element = document.getElementById(\"7d417aca-3a5a-4ca4-8a7c-2a9b6ff474af\");\n",
       "    if (element == null) {\n",
       "      console.log(\"Bokeh: ERROR: autoload.js configured with elementid '7d417aca-3a5a-4ca4-8a7c-2a9b6ff474af' but no matching script tag was found. \")\n",
       "      return false;\n",
       "    }\n",
       "  \n",
       "    var js_urls = [];\n",
       "  \n",
       "    var inline_js = [\n",
       "      function(Bokeh) {\n",
       "        (function() {\n",
       "          var fn = function() {\n",
       "            var docs_json = {\"6c9d7507-5aae-4c6c-956c-9791ea48bacb\":{\"roots\":{\"references\":[{\"attributes\":{\"bottom_units\":\"screen\",\"fill_alpha\":{\"value\":0.5},\"fill_color\":{\"value\":\"lightgrey\"},\"left_units\":\"screen\",\"level\":\"overlay\",\"line_alpha\":{\"value\":1.0},\"line_color\":{\"value\":\"black\"},\"line_dash\":[4,4],\"line_width\":{\"value\":2},\"plot\":null,\"render_mode\":\"css\",\"right_units\":\"screen\",\"top_units\":\"screen\"},\"id\":\"4c82df44-4a72-45c5-862e-7c06da15a6c1\",\"type\":\"BoxAnnotation\"},{\"attributes\":{\"label\":{\"field\":\"labels\"},\"renderers\":[{\"id\":\"059b488e-e947-401e-b623-1de723cad799\",\"type\":\"GlyphRenderer\"}]},\"id\":\"a4d97c0a-f03e-49e4-9908-36721de730c6\",\"type\":\"LegendItem\"},{\"attributes\":{},\"id\":\"fdbc91fb-20ac-4fc8-815c-6b4f807e780a\",\"type\":\"BasicTicker\"},{\"attributes\":{\"below\":[{\"id\":\"8eafc665-1e50-4d4b-88b7-6779e4a64d8b\",\"type\":\"LinearAxis\"}],\"left\":[{\"id\":\"d0558eb6-1805-4711-98db-022f360d0443\",\"type\":\"CategoricalAxis\"}],\"renderers\":[{\"id\":\"8eafc665-1e50-4d4b-88b7-6779e4a64d8b\",\"type\":\"LinearAxis\"},{\"id\":\"e836ec74-1962-4739-bd2c-d7af672ccd69\",\"type\":\"Grid\"},{\"id\":\"d0558eb6-1805-4711-98db-022f360d0443\",\"type\":\"CategoricalAxis\"},{\"id\":\"53f5501a-75b7-4a4e-b6bb-37dffde50019\",\"type\":\"Grid\"},{\"id\":\"4c82df44-4a72-45c5-862e-7c06da15a6c1\",\"type\":\"BoxAnnotation\"},{\"id\":\"e78cfbc0-e48d-403a-9d76-9cbb3cd94afa\",\"type\":\"Legend\"},{\"id\":\"059b488e-e947-401e-b623-1de723cad799\",\"type\":\"GlyphRenderer\"}],\"title\":{\"id\":\"99c0c0f1-8af3-4abc-bad5-2352eeecddaa\",\"type\":\"Title\"},\"tool_events\":{\"id\":\"98b9f452-c324-47ac-8980-b8b0770d0fed\",\"type\":\"ToolEvents\"},\"toolbar\":{\"id\":\"9921900e-e3cf-4efa-be3a-371d1242d12b\",\"type\":\"Toolbar\"},\"x_range\":{\"id\":\"09feaf63-3a19-4c1b-9895-d77c19223ec6\",\"type\":\"Range1d\"},\"x_scale\":{\"id\":\"d516c1c5-b976-4fe1-9836-0fcdc67054b8\",\"type\":\"LinearScale\"},\"y_range\":{\"id\":\"81642894-dfb6-45a1-a9a9-5c1dede4359a\",\"type\":\"FactorRange\"},\"y_scale\":{\"id\":\"e8ea9964-4392-4e97-b007-805e2a630e02\",\"type\":\"CategoricalScale\"}},\"id\":\"5fe6ca59-98b6-4dd4-bff3-aa83b8edfd6c\",\"subtype\":\"Figure\",\"type\":\"Plot\"},{\"attributes\":{\"callback\":null,\"column_names\":[\"color\",\"x\",\"labels\",\"y\"],\"data\":{\"color\":[\"red\",\"red\",\"red\",\"red\",\"green\",\"green\",\"green\",\"green\",\"blue\",\"blue\",\"blue\",\"blue\",\"red\",\"red\",\"red\",\"red\",\"green\",\"green\",\"green\",\"green\",\"blue\",\"blue\",\"blue\",\"blue\",\"red\",\"red\",\"red\",\"red\",\"green\",\"green\",\"green\",\"green\",\"blue\",\"blue\",\"blue\",\"blue\",\"red\",\"red\",\"red\",\"red\",\"green\",\"green\",\"green\",\"green\",\"blue\",\"blue\",\"blue\",\"blue\",\"red\",\"red\",\"red\",\"red\",\"green\",\"green\",\"green\",\"green\",\"blue\",\"blue\",\"blue\",\"blue\",\"red\",\"red\",\"red\",\"red\",\"green\",\"green\",\"green\",\"green\",\"blue\",\"blue\",\"blue\",\"blue\",\"red\",\"red\",\"red\",\"red\",\"green\",\"green\",\"green\",\"green\",\"blue\",\"blue\",\"blue\",\"blue\",\"red\",\"red\",\"red\",\"red\",\"green\",\"green\",\"green\",\"green\",\"blue\",\"blue\",\"blue\",\"blue\",\"red\",\"red\",\"red\",\"red\",\"green\",\"green\",\"green\",\"green\",\"blue\",\"blue\",\"blue\",\"blue\",\"blue\",\"red\",\"red\",\"red\",\"red\",\"green\",\"green\",\"green\",\"green\",\"blue\",\"blue\",\"blue\",\"red\",\"red\",\"red\",\"green\",\"green\",\"green\",\"green\",\"blue\",\"blue\",\"blue\",\"blue\",\"red\",\"red\",\"red\",\"red\",\"red\",\"green\",\"green\",\"green\",\"green\",\"blue\",\"blue\",\"blue\",\"blue\",\"red\",\"red\",\"red\",\"red\",\"green\",\"green\",\"green\",\"green\",\"blue\",\"blue\",\"blue\",\"blue\",\"red\",\"red\",\"red\",\"red\",\"green\",\"green\",\"green\",\"green\",\"blue\",\"blue\",\"blue\",\"blue\",\"red\",\"red\",\"red\",\"red\",\"green\",\"green\",\"green\",\"green\",\"blue\",\"blue\",\"blue\",\"blue\",\"red\",\"red\",\"red\",\"green\",\"green\",\"green\",\"green\",\"blue\",\"blue\",\"blue\",\"blue\",\"red\",\"red\",\"red\",\"red\",\"red\",\"green\",\"green\",\"green\",\"green\",\"blue\",\"blue\",\"blue\",\"blue\",\"red\",\"red\",\"red\",\"red\",\"green\",\"green\",\"green\",\"green\",\"blue\",\"blue\",\"blue\",\"blue\",\"red\",\"red\",\"red\",\"red\",\"green\",\"green\",\"green\",\"green\",\"blue\",\"blue\",\"blue\",\"blue\",\"red\",\"red\",\"red\",\"red\",\"green\",\"green\",\"green\",\"green\",\"blue\",\"blue\",\"blue\",\"blue\",\"red\",\"red\",\"red\",\"red\",\"green\",\"green\",\"green\",\"green\",\"blue\",\"blue\",\"blue\",\"blue\",\"red\",\"red\",\"red\",\"red\",\"green\",\"green\",\"green\",\"green\",\"blue\",\"blue\",\"blue\",\"blue\",\"red\",\"red\",\"red\",\"red\",\"green\",\"green\",\"green\",\"green\",\"blue\",\"blue\",\"blue\",\"blue\",\"red\",\"red\",\"red\",\"red\",\"green\",\"green\",\"green\",\"green\",\"blue\",\"blue\",\"blue\",\"blue\",\"red\",\"red\",\"red\",\"red\",\"green\",\"green\",\"green\",\"green\",\"blue\",\"blue\",\"blue\",\"blue\",\"red\",\"red\",\"red\",\"red\",\"green\",\"green\",\"green\",\"green\",\"blue\",\"blue\",\"blue\",\"blue\",\"red\",\"red\",\"red\",\"red\",\"green\",\"green\",\"green\",\"green\",\"blue\",\"blue\",\"blue\",\"blue\",\"red\",\"red\",\"red\",\"red\",\"green\",\"green\",\"green\",\"green\",\"blue\",\"blue\",\"blue\",\"blue\",\"red\",\"red\",\"red\",\"red\",\"green\",\"green\",\"green\",\"green\",\"blue\",\"blue\",\"blue\",\"blue\",\"red\",\"red\",\"red\",\"red\",\"green\",\"green\",\"green\",\"green\",\"blue\",\"blue\",\"blue\",\"blue\",\"red\",\"red\",\"red\",\"red\",\"green\",\"green\",\"green\",\"green\",\"blue\",\"blue\",\"blue\",\"blue\",\"red\",\"red\",\"red\",\"red\",\"green\",\"green\",\"green\",\"green\",\"blue\",\"blue\",\"blue\",\"blue\",\"blue\",\"blue\",\"red\",\"red\",\"red\",\"red\",\"green\",\"green\",\"green\",\"green\",\"blue\",\"blue\",\"red\",\"red\",\"red\",\"red\",\"green\",\"green\",\"green\",\"green\",\"blue\",\"blue\",\"blue\",\"blue\",\"red\",\"red\",\"red\",\"red\",\"green\",\"green\",\"green\",\"green\",\"blue\",\"blue\",\"blue\",\"blue\",\"red\",\"red\",\"red\",\"red\",\"green\",\"green\",\"green\",\"green\",\"blue\",\"blue\",\"blue\",\"blue\",\"red\",\"red\",\"red\",\"red\",\"green\",\"green\",\"green\",\"green\",\"blue\",\"blue\",\"blue\",\"blue\",\"red\",\"red\",\"red\",\"red\",\"green\",\"green\",\"green\",\"green\",\"blue\",\"blue\",\"blue\",\"blue\",\"red\",\"red\",\"red\",\"red\",\"green\",\"green\",\"green\",\"green\",\"blue\",\"blue\",\"blue\",\"blue\",\"red\",\"red\",\"red\",\"red\",\"green\",\"green\",\"green\",\"green\",\"blue\",\"blue\",\"blue\",\"blue\",\"red\",\"red\",\"red\",\"red\",\"green\",\"green\",\"green\",\"green\",\"blue\",\"blue\",\"blue\",\"blue\",\"red\",\"red\",\"red\",\"red\",\"green\",\"green\",\"green\",\"green\",\"blue\",\"blue\",\"blue\",\"blue\",\"red\",\"red\",\"red\",\"red\",\"green\",\"green\",\"green\",\"green\",\"blue\",\"blue\",\"blue\",\"blue\",\"green\",\"green\",\"green\",\"green\",\"blue\",\"blue\",\"blue\",\"blue\",\"red\",\"red\",\"red\",\"red\",\"red\",\"red\",\"red\",\"red\",\"green\",\"green\",\"green\",\"green\",\"blue\",\"blue\",\"blue\",\"blue\",\"red\",\"red\",\"red\",\"red\",\"green\",\"green\",\"green\",\"green\",\"blue\",\"blue\",\"blue\",\"blue\",\"red\",\"red\",\"red\",\"red\",\"green\",\"green\",\"green\",\"green\",\"blue\",\"blue\",\"blue\",\"blue\",\"green\",\"blue\",\"blue\",\"blue\",\"blue\",\"red\",\"red\",\"red\",\"red\",\"green\",\"green\",\"green\",\"red\",\"red\",\"red\",\"red\",\"green\",\"green\",\"green\",\"green\",\"blue\",\"blue\",\"blue\",\"blue\",\"red\",\"red\",\"red\",\"red\",\"green\",\"green\",\"green\",\"green\",\"blue\",\"blue\",\"blue\",\"blue\",\"red\",\"red\",\"red\",\"red\",\"green\",\"green\",\"green\",\"green\",\"blue\",\"blue\",\"blue\",\"blue\",\"red\",\"red\",\"red\",\"red\",\"green\",\"green\",\"green\",\"green\",\"blue\",\"blue\",\"blue\",\"blue\",\"red\",\"red\",\"red\",\"red\",\"green\",\"green\",\"green\",\"green\",\"blue\",\"blue\",\"blue\",\"blue\",\"red\",\"red\",\"red\",\"red\",\"green\",\"green\",\"green\",\"green\",\"blue\",\"blue\",\"blue\",\"blue\",\"red\",\"red\",\"red\",\"red\",\"green\",\"green\",\"green\",\"green\",\"blue\",\"blue\",\"blue\",\"blue\",\"red\",\"red\",\"red\",\"red\",\"green\",\"green\",\"green\",\"green\",\"blue\",\"blue\",\"blue\",\"blue\",\"red\",\"red\",\"red\",\"red\",\"green\",\"green\",\"green\",\"green\",\"blue\",\"blue\",\"blue\",\"blue\",\"red\",\"red\",\"red\",\"red\",\"green\",\"green\",\"green\",\"green\",\"blue\",\"blue\",\"blue\",\"blue\",\"red\",\"red\",\"red\",\"red\",\"green\",\"green\",\"green\",\"green\",\"blue\",\"blue\",\"blue\",\"blue\"],\"labels\":[\"User1\",\"User1\",\"User1\",\"User1\",\"User2\",\"User2\",\"User2\",\"User2\",\"User3\",\"User3\",\"User3\",\"User3\",\"User1\",\"User1\",\"User1\",\"User1\",\"User2\",\"User2\",\"User2\",\"User2\",\"User3\",\"User3\",\"User3\",\"User3\",\"User1\",\"User1\",\"User1\",\"User1\",\"User2\",\"User2\",\"User2\",\"User2\",\"User3\",\"User3\",\"User3\",\"User3\",\"User1\",\"User1\",\"User1\",\"User1\",\"User2\",\"User2\",\"User2\",\"User2\",\"User3\",\"User3\",\"User3\",\"User3\",\"User1\",\"User1\",\"User1\",\"User1\",\"User2\",\"User2\",\"User2\",\"User2\",\"User3\",\"User3\",\"User3\",\"User3\",\"User1\",\"User1\",\"User1\",\"User1\",\"User2\",\"User2\",\"User2\",\"User2\",\"User3\",\"User3\",\"User3\",\"User3\",\"User1\",\"User1\",\"User1\",\"User1\",\"User2\",\"User2\",\"User2\",\"User2\",\"User3\",\"User3\",\"User3\",\"User3\",\"User1\",\"User1\",\"User1\",\"User1\",\"User2\",\"User2\",\"User2\",\"User2\",\"User3\",\"User3\",\"User3\",\"User3\",\"User1\",\"User1\",\"User1\",\"User1\",\"User2\",\"User2\",\"User2\",\"User2\",\"User3\",\"User3\",\"User3\",\"User3\",\"User3\",\"User1\",\"User1\",\"User1\",\"User1\",\"User2\",\"User2\",\"User2\",\"User2\",\"User3\",\"User3\",\"User3\",\"User1\",\"User1\",\"User1\",\"User2\",\"User2\",\"User2\",\"User2\",\"User3\",\"User3\",\"User3\",\"User3\",\"User1\",\"User1\",\"User1\",\"User1\",\"User1\",\"User2\",\"User2\",\"User2\",\"User2\",\"User3\",\"User3\",\"User3\",\"User3\",\"User1\",\"User1\",\"User1\",\"User1\",\"User2\",\"User2\",\"User2\",\"User2\",\"User3\",\"User3\",\"User3\",\"User3\",\"User1\",\"User1\",\"User1\",\"User1\",\"User2\",\"User2\",\"User2\",\"User2\",\"User3\",\"User3\",\"User3\",\"User3\",\"User1\",\"User1\",\"User1\",\"User1\",\"User2\",\"User2\",\"User2\",\"User2\",\"User3\",\"User3\",\"User3\",\"User3\",\"User1\",\"User1\",\"User1\",\"User2\",\"User2\",\"User2\",\"User2\",\"User3\",\"User3\",\"User3\",\"User3\",\"User1\",\"User1\",\"User1\",\"User1\",\"User1\",\"User2\",\"User2\",\"User2\",\"User2\",\"User3\",\"User3\",\"User3\",\"User3\",\"User1\",\"User1\",\"User1\",\"User1\",\"User2\",\"User2\",\"User2\",\"User2\",\"User3\",\"User3\",\"User3\",\"User3\",\"User1\",\"User1\",\"User1\",\"User1\",\"User2\",\"User2\",\"User2\",\"User2\",\"User3\",\"User3\",\"User3\",\"User3\",\"User1\",\"User1\",\"User1\",\"User1\",\"User2\",\"User2\",\"User2\",\"User2\",\"User3\",\"User3\",\"User3\",\"User3\",\"User1\",\"User1\",\"User1\",\"User1\",\"User2\",\"User2\",\"User2\",\"User2\",\"User3\",\"User3\",\"User3\",\"User3\",\"User1\",\"User1\",\"User1\",\"User1\",\"User2\",\"User2\",\"User2\",\"User2\",\"User3\",\"User3\",\"User3\",\"User3\",\"User1\",\"User1\",\"User1\",\"User1\",\"User2\",\"User2\",\"User2\",\"User2\",\"User3\",\"User3\",\"User3\",\"User3\",\"User1\",\"User1\",\"User1\",\"User1\",\"User2\",\"User2\",\"User2\",\"User2\",\"User3\",\"User3\",\"User3\",\"User3\",\"User1\",\"User1\",\"User1\",\"User1\",\"User2\",\"User2\",\"User2\",\"User2\",\"User3\",\"User3\",\"User3\",\"User3\",\"User1\",\"User1\",\"User1\",\"User1\",\"User2\",\"User2\",\"User2\",\"User2\",\"User3\",\"User3\",\"User3\",\"User3\",\"User1\",\"User1\",\"User1\",\"User1\",\"User2\",\"User2\",\"User2\",\"User2\",\"User3\",\"User3\",\"User3\",\"User3\",\"User1\",\"User1\",\"User1\",\"User1\",\"User2\",\"User2\",\"User2\",\"User2\",\"User3\",\"User3\",\"User3\",\"User3\",\"User1\",\"User1\",\"User1\",\"User1\",\"User2\",\"User2\",\"User2\",\"User2\",\"User3\",\"User3\",\"User3\",\"User3\",\"User1\",\"User1\",\"User1\",\"User1\",\"User2\",\"User2\",\"User2\",\"User2\",\"User3\",\"User3\",\"User3\",\"User3\",\"User1\",\"User1\",\"User1\",\"User1\",\"User2\",\"User2\",\"User2\",\"User2\",\"User3\",\"User3\",\"User3\",\"User3\",\"User1\",\"User1\",\"User1\",\"User1\",\"User2\",\"User2\",\"User2\",\"User2\",\"User3\",\"User3\",\"User3\",\"User3\",\"User3\",\"User3\",\"User1\",\"User1\",\"User1\",\"User1\",\"User2\",\"User2\",\"User2\",\"User2\",\"User3\",\"User3\",\"User1\",\"User1\",\"User1\",\"User1\",\"User2\",\"User2\",\"User2\",\"User2\",\"User3\",\"User3\",\"User3\",\"User3\",\"User1\",\"User1\",\"User1\",\"User1\",\"User2\",\"User2\",\"User2\",\"User2\",\"User3\",\"User3\",\"User3\",\"User3\",\"User1\",\"User1\",\"User1\",\"User1\",\"User2\",\"User2\",\"User2\",\"User2\",\"User3\",\"User3\",\"User3\",\"User3\",\"User1\",\"User1\",\"User1\",\"User1\",\"User2\",\"User2\",\"User2\",\"User2\",\"User3\",\"User3\",\"User3\",\"User3\",\"User1\",\"User1\",\"User1\",\"User1\",\"User2\",\"User2\",\"User2\",\"User2\",\"User3\",\"User3\",\"User3\",\"User3\",\"User1\",\"User1\",\"User1\",\"User1\",\"User2\",\"User2\",\"User2\",\"User2\",\"User3\",\"User3\",\"User3\",\"User3\",\"User1\",\"User1\",\"User1\",\"User1\",\"User2\",\"User2\",\"User2\",\"User2\",\"User3\",\"User3\",\"User3\",\"User3\",\"User1\",\"User1\",\"User1\",\"User1\",\"User2\",\"User2\",\"User2\",\"User2\",\"User3\",\"User3\",\"User3\",\"User3\",\"User1\",\"User1\",\"User1\",\"User1\",\"User2\",\"User2\",\"User2\",\"User2\",\"User3\",\"User3\",\"User3\",\"User3\",\"User1\",\"User1\",\"User1\",\"User1\",\"User2\",\"User2\",\"User2\",\"User2\",\"User3\",\"User3\",\"User3\",\"User3\",\"User2\",\"User2\",\"User2\",\"User2\",\"User3\",\"User3\",\"User3\",\"User3\",\"User1\",\"User1\",\"User1\",\"User1\",\"User1\",\"User1\",\"User1\",\"User1\",\"User2\",\"User2\",\"User2\",\"User2\",\"User3\",\"User3\",\"User3\",\"User3\",\"User1\",\"User1\",\"User1\",\"User1\",\"User2\",\"User2\",\"User2\",\"User2\",\"User3\",\"User3\",\"User3\",\"User3\",\"User1\",\"User1\",\"User1\",\"User1\",\"User2\",\"User2\",\"User2\",\"User2\",\"User3\",\"User3\",\"User3\",\"User3\",\"User2\",\"User3\",\"User3\",\"User3\",\"User3\",\"User1\",\"User1\",\"User1\",\"User1\",\"User2\",\"User2\",\"User2\",\"User1\",\"User1\",\"User1\",\"User1\",\"User2\",\"User2\",\"User2\",\"User2\",\"User3\",\"User3\",\"User3\",\"User3\",\"User1\",\"User1\",\"User1\",\"User1\",\"User2\",\"User2\",\"User2\",\"User2\",\"User3\",\"User3\",\"User3\",\"User3\",\"User1\",\"User1\",\"User1\",\"User1\",\"User2\",\"User2\",\"User2\",\"User2\",\"User3\",\"User3\",\"User3\",\"User3\",\"User1\",\"User1\",\"User1\",\"User1\",\"User2\",\"User2\",\"User2\",\"User2\",\"User3\",\"User3\",\"User3\",\"User3\",\"User1\",\"User1\",\"User1\",\"User1\",\"User2\",\"User2\",\"User2\",\"User2\",\"User3\",\"User3\",\"User3\",\"User3\",\"User1\",\"User1\",\"User1\",\"User1\",\"User2\",\"User2\",\"User2\",\"User2\",\"User3\",\"User3\",\"User3\",\"User3\",\"User1\",\"User1\",\"User1\",\"User1\",\"User2\",\"User2\",\"User2\",\"User2\",\"User3\",\"User3\",\"User3\",\"User3\",\"User1\",\"User1\",\"User1\",\"User1\",\"User2\",\"User2\",\"User2\",\"User2\",\"User3\",\"User3\",\"User3\",\"User3\",\"User1\",\"User1\",\"User1\",\"User1\",\"User2\",\"User2\",\"User2\",\"User2\",\"User3\",\"User3\",\"User3\",\"User3\",\"User1\",\"User1\",\"User1\",\"User1\",\"User2\",\"User2\",\"User2\",\"User2\",\"User3\",\"User3\",\"User3\",\"User3\",\"User1\",\"User1\",\"User1\",\"User1\",\"User2\",\"User2\",\"User2\",\"User2\",\"User3\",\"User3\",\"User3\",\"User3\"],\"x\":{\"__ndarray__\":\"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\",\"dtype\":\"float64\",\"shape\":[708]},\"y\":[\"QIN-HEADNECK-01-0003\",\"QIN-HEADNECK-01-0003\",\"QIN-HEADNECK-01-0003\",\"QIN-HEADNECK-01-0003\",\"QIN-HEADNECK-01-0003\",\"QIN-HEADNECK-01-0003\",\"QIN-HEADNECK-01-0003\",\"QIN-HEADNECK-01-0003\",\"QIN-HEADNECK-01-0003\",\"QIN-HEADNECK-01-0003\",\"QIN-HEADNECK-01-0003\",\"QIN-HEADNECK-01-0003\",\"QIN-HEADNECK-01-0017\",\"QIN-HEADNECK-01-0017\",\"QIN-HEADNECK-01-0017\",\"QIN-HEADNECK-01-0017\",\"QIN-HEADNECK-01-0017\",\"QIN-HEADNECK-01-0017\",\"QIN-HEADNECK-01-0017\",\"QIN-HEADNECK-01-0017\",\"QIN-HEADNECK-01-0017\",\"QIN-HEADNECK-01-0017\",\"QIN-HEADNECK-01-0017\",\"QIN-HEADNECK-01-0017\",\"QIN-HEADNECK-01-0024\",\"QIN-HEADNECK-01-0024\",\"QIN-HEADNECK-01-0024\",\"QIN-HEADNECK-01-0024\",\"QIN-HEADNECK-01-0024\",\"QIN-HEADNECK-01-0024\",\"QIN-HEADNECK-01-0024\",\"QIN-HEADNECK-01-0024\",\"QIN-HEADNECK-01-0024\",\"QIN-HEADNECK-01-0024\",\"QIN-HEADNECK-01-0024\",\"QIN-HEADNECK-01-0024\",\"QIN-HEADNECK-01-0026\",\"QIN-HEADNECK-01-0026\",\"QIN-HEADNECK-01-0026\",\"QIN-HEADNECK-01-0026\",\"QIN-HEADNECK-01-0026\",\"QIN-HEADNECK-01-0026\",\"QIN-HEADNECK-01-0026\",\"QIN-HEADNECK-01-0026\",\"QIN-HEADNECK-01-0026\",\"QIN-HEADNECK-01-0026\",\"QIN-HEADNECK-01-0026\",\"QIN-HEADNECK-01-0026\",\"QIN-HEADNECK-01-0028\",\"QIN-HEADNECK-01-0028\",\"QIN-HEADNECK-01-0028\",\"QIN-HEADNECK-01-0028\",\"QIN-HEADNECK-01-0028\",\"QIN-HEADNECK-01-0028\",\"QIN-HEADNECK-01-0028\",\"QIN-HEADNECK-01-0028\",\"QIN-HEADNECK-01-0028\",\"QIN-HEADNECK-01-0028\",\"QIN-HEADNECK-01-0028\",\"QIN-HEADNECK-01-0028\",\"QIN-HEADNECK-01-0034\",\"QIN-HEADNECK-01-0034\",\"QIN-HEADNECK-01-0034\",\"QIN-HEADNECK-01-0034\",\"QIN-HEADNECK-01-0034\",\"QIN-HEADNECK-01-0034\",\"QIN-HEADNECK-01-0034\",\"QIN-HEADNECK-01-0034\",\"QIN-HEADNECK-01-0034\",\"QIN-HEADNECK-01-0034\",\"QIN-HEADNECK-01-0034\",\"QIN-HEADNECK-01-0034\",\"QIN-HEADNECK-01-0041\",\"QIN-HEADNECK-01-0041\",\"QIN-HEADNECK-01-0041\",\"QIN-HEADNECK-01-0041\",\"QIN-HEADNECK-01-0041\",\"QIN-HEADNECK-01-0041\",\"QIN-HEADNECK-01-0041\",\"QIN-HEADNECK-01-0041\",\"QIN-HEADNECK-01-0041\",\"QIN-HEADNECK-01-0041\",\"QIN-HEADNECK-01-0041\",\"QIN-HEADNECK-01-0041\",\"QIN-HEADNECK-01-0046\",\"QIN-HEADNECK-01-0046\",\"QIN-HEADNECK-01-0046\",\"QIN-HEADNECK-01-0046\",\"QIN-HEADNECK-01-0046\",\"QIN-HEADNECK-01-0046\",\"QIN-HEADNECK-01-0046\",\"QIN-HEADNECK-01-0046\",\"QIN-HEADNECK-01-0046\",\"QIN-HEADNECK-01-0046\",\"QIN-HEADNECK-01-0046\",\"QIN-HEADNECK-01-0046\",\"QIN-HEADNECK-01-0047\",\"QIN-HEADNECK-01-0047\",\"QIN-HEADNECK-01-0047\",\"QIN-HEADNECK-01-0047\",\"QIN-HEADNECK-01-0047\",\"QIN-HEADNECK-01-0047\",\"QIN-HEADNECK-01-0047\",\"QIN-HEADNECK-01-0047\",\"QIN-HEADNECK-01-0047\",\"QIN-HEADNECK-01-0047\",\"QIN-HEADNECK-01-0047\",\"QIN-HEADNECK-01-0047\",\"QIN-HEADNECK-01-0055\",\"QIN-HEADNECK-01-0055\",\"QIN-HEADNECK-01-0055\",\"QIN-HEADNECK-01-0055\",\"QIN-HEADNECK-01-0055\",\"QIN-HEADNECK-01-0055\",\"QIN-HEADNECK-01-0055\",\"QIN-HEADNECK-01-0055\",\"QIN-HEADNECK-01-0055\",\"QIN-HEADNECK-01-0055\",\"QIN-HEADNECK-01-0055\",\"QIN-HEADNECK-01-0055\",\"QIN-HEADNECK-01-0057\",\"QIN-HEADNECK-01-0057\",\"QIN-HEADNECK-01-0057\",\"QIN-HEADNECK-01-0057\",\"QIN-HEADNECK-01-0057\",\"QIN-HEADNECK-01-0057\",\"QIN-HEADNECK-01-0057\",\"QIN-HEADNECK-01-0057\",\"QIN-HEADNECK-01-0057\",\"QIN-HEADNECK-01-0057\",\"QIN-HEADNECK-01-0057\",\"QIN-HEADNECK-01-0057\",\"QIN-HEADNECK-01-0060\",\"QIN-HEADNECK-01-0060\",\"QIN-HEADNECK-01-0060\",\"QIN-HEADNECK-01-0060\",\"QIN-HEADNECK-01-0060\",\"QIN-HEADNECK-01-0060\",\"QIN-HEADNECK-01-0060\",\"QIN-HEADNECK-01-0060\",\"QIN-HEADNECK-01-0060\",\"QIN-HEADNECK-01-0060\",\"QIN-HEADNECK-01-0060\",\"QIN-HEADNECK-01-0060\",\"QIN-HEADNECK-01-0062\",\"QIN-HEADNECK-01-0062\",\"QIN-HEADNECK-01-0062\",\"QIN-HEADNECK-01-0062\",\"QIN-HEADNECK-01-0062\",\"QIN-HEADNECK-01-0062\",\"QIN-HEADNECK-01-0062\",\"QIN-HEADNECK-01-0062\",\"QIN-HEADNECK-01-0062\",\"QIN-HEADNECK-01-0062\",\"QIN-HEADNECK-01-0062\",\"QIN-HEADNECK-01-0062\",\"QIN-HEADNECK-01-0064\",\"QIN-HEADNECK-01-0064\",\"QIN-HEADNECK-01-0064\",\"QIN-HEADNECK-01-0064\",\"QIN-HEADNECK-01-0064\",\"QIN-HEADNECK-01-0064\",\"QIN-HEADNECK-01-0064\",\"QIN-HEADNECK-01-0064\",\"QIN-HEADNECK-01-0064\",\"QIN-HEADNECK-01-0064\",\"QIN-HEADNECK-01-0064\",\"QIN-HEADNECK-01-0064\",\"QIN-HEADNECK-01-0065\",\"QIN-HEADNECK-01-0065\",\"QIN-HEADNECK-01-0065\",\"QIN-HEADNECK-01-0065\",\"QIN-HEADNECK-01-0065\",\"QIN-HEADNECK-01-0065\",\"QIN-HEADNECK-01-0065\",\"QIN-HEADNECK-01-0065\",\"QIN-HEADNECK-01-0065\",\"QIN-HEADNECK-01-0065\",\"QIN-HEADNECK-01-0065\",\"QIN-HEADNECK-01-0065\",\"QIN-HEADNECK-01-0067\",\"QIN-HEADNECK-01-0067\",\"QIN-HEADNECK-01-0067\",\"QIN-HEADNECK-01-0067\",\"QIN-HEADNECK-01-0067\",\"QIN-HEADNECK-01-0067\",\"QIN-HEADNECK-01-0067\",\"QIN-HEADNECK-01-0067\",\"QIN-HEADNECK-01-0067\",\"QIN-HEADNECK-01-0067\",\"QIN-HEADNECK-01-0067\",\"QIN-HEADNECK-01-0067\",\"QIN-HEADNECK-01-0071\",\"QIN-HEADNECK-01-0071\",\"QIN-HEADNECK-01-0071\",\"QIN-HEADNECK-01-0071\",\"QIN-HEADNECK-01-0071\",\"QIN-HEADNECK-01-0071\",\"QIN-HEADNECK-01-0071\",\"QIN-HEADNECK-01-0071\",\"QIN-HEADNECK-01-0071\",\"QIN-HEADNECK-01-0071\",\"QIN-HEADNECK-01-0071\",\"QIN-HEADNECK-01-0071\",\"QIN-HEADNECK-01-0074\",\"QIN-HEADNECK-01-0074\",\"QIN-HEADNECK-01-0074\",\"QIN-HEADNECK-01-0074\",\"QIN-HEADNECK-01-0074\",\"QIN-HEADNECK-01-0074\",\"QIN-HEADNECK-01-0074\",\"QIN-HEADNECK-01-0074\",\"QIN-HEADNECK-01-0074\",\"QIN-HEADNECK-01-0074\",\"QIN-HEADNECK-01-0074\",\"QIN-HEADNECK-01-0074\",\"QIN-HEADNECK-01-0079\",\"QIN-HEADNECK-01-0079\",\"QIN-HEADNECK-01-0079\",\"QIN-HEADNECK-01-0079\",\"QIN-HEADNECK-01-0079\",\"QIN-HEADNECK-01-0079\",\"QIN-HEADNECK-01-0079\",\"QIN-HEADNECK-01-0079\",\"QIN-HEADNECK-01-0079\",\"QIN-HEADNECK-01-0079\",\"QIN-HEADNECK-01-0079\",\"QIN-HEADNECK-01-0079\",\"QIN-HEADNECK-01-0081\",\"QIN-HEADNECK-01-0081\",\"QIN-HEADNECK-01-0081\",\"QIN-HEADNECK-01-0081\",\"QIN-HEADNECK-01-0081\",\"QIN-HEADNECK-01-0081\",\"QIN-HEADNECK-01-0081\",\"QIN-HEADNECK-01-0081\",\"QIN-HEADNECK-01-0081\",\"QIN-HEADNECK-01-0081\",\"QIN-HEADNECK-01-0081\",\"QIN-HEADNECK-01-0081\",\"QIN-HEADNECK-01-0086\",\"QIN-HEADNECK-01-0086\",\"QIN-HEADNECK-01-0086\",\"QIN-HEADNECK-01-0086\",\"QIN-HEADNECK-01-0086\",\"QIN-HEADNECK-01-0086\",\"QIN-HEADNECK-01-0086\",\"QIN-HEADNECK-01-0086\",\"QIN-HEADNECK-01-0086\",\"QIN-HEADNECK-01-0086\",\"QIN-HEADNECK-01-0086\",\"QIN-HEADNECK-01-0086\",\"QIN-HEADNECK-01-0089\",\"QIN-HEADNECK-01-0089\",\"QIN-HEADNECK-01-0089\",\"QIN-HEADNECK-01-0089\",\"QIN-HEADNECK-01-0089\",\"QIN-HEADNECK-01-0089\",\"QIN-HEADNECK-01-0089\",\"QIN-HEADNECK-01-0089\",\"QIN-HEADNECK-01-0089\",\"QIN-HEADNECK-01-0089\",\"QIN-HEADNECK-01-0089\",\"QIN-HEADNECK-01-0089\",\"QIN-HEADNECK-01-0091\",\"QIN-HEADNECK-01-0091\",\"QIN-HEADNECK-01-0091\",\"QIN-HEADNECK-01-0091\",\"QIN-HEADNECK-01-0091\",\"QIN-HEADNECK-01-0091\",\"QIN-HEADNECK-01-0091\",\"QIN-HEADNECK-01-0091\",\"QIN-HEADNECK-01-0091\",\"QIN-HEADNECK-01-0091\",\"QIN-HEADNECK-01-0091\",\"QIN-HEADNECK-01-0091\",\"QIN-HEADNECK-01-0098\",\"QIN-HEADNECK-01-0098\",\"QIN-HEADNECK-01-0098\",\"QIN-HEADNECK-01-0098\",\"QIN-HEADNECK-01-0098\",\"QIN-HEADNECK-01-0098\",\"QIN-HEADNECK-01-0098\",\"QIN-HEADNECK-01-0098\",\"QIN-HEADNECK-01-0098\",\"QIN-HEADNECK-01-0098\",\"QIN-HEADNECK-01-0098\",\"QIN-HEADNECK-01-0098\",\"QIN-HEADNECK-01-0100\",\"QIN-HEADNECK-01-0100\",\"QIN-HEADNECK-01-0100\",\"QIN-HEADNECK-01-0100\",\"QIN-HEADNECK-01-0100\",\"QIN-HEADNECK-01-0100\",\"QIN-HEADNECK-01-0100\",\"QIN-HEADNECK-01-0100\",\"QIN-HEADNECK-01-0100\",\"QIN-HEADNECK-01-0100\",\"QIN-HEADNECK-01-0100\",\"QIN-HEADNECK-01-0100\",\"QIN-HEADNECK-01-0112\",\"QIN-HEADNECK-01-0112\",\"QIN-HEADNECK-01-0112\",\"QIN-HEADNECK-01-0112\",\"QIN-HEADNECK-01-0112\",\"QIN-HEADNECK-01-0112\",\"QIN-HEADNECK-01-0112\",\"QIN-HEADNECK-01-0112\",\"QIN-HEADNECK-01-0112\",\"QIN-HEADNECK-01-0112\",\"QIN-HEADNECK-01-0112\",\"QIN-HEADNECK-01-0112\",\"QIN-HEADNECK-01-0115\",\"QIN-HEADNECK-01-0115\",\"QIN-HEADNECK-01-0115\",\"QIN-HEADNECK-01-0115\",\"QIN-HEADNECK-01-0115\",\"QIN-HEADNECK-01-0115\",\"QIN-HEADNECK-01-0115\",\"QIN-HEADNECK-01-0115\",\"QIN-HEADNECK-01-0115\",\"QIN-HEADNECK-01-0115\",\"QIN-HEADNECK-01-0115\",\"QIN-HEADNECK-01-0115\",\"QIN-HEADNECK-01-0116\",\"QIN-HEADNECK-01-0116\",\"QIN-HEADNECK-01-0116\",\"QIN-HEADNECK-01-0116\",\"QIN-HEADNECK-01-0116\",\"QIN-HEADNECK-01-0116\",\"QIN-HEADNECK-01-0116\",\"QIN-HEADNECK-01-0116\",\"QIN-HEADNECK-01-0116\",\"QIN-HEADNECK-01-0116\",\"QIN-HEADNECK-01-0116\",\"QIN-HEADNECK-01-0116\",\"QIN-HEADNECK-01-0118\",\"QIN-HEADNECK-01-0118\",\"QIN-HEADNECK-01-0118\",\"QIN-HEADNECK-01-0118\",\"QIN-HEADNECK-01-0118\",\"QIN-HEADNECK-01-0118\",\"QIN-HEADNECK-01-0118\",\"QIN-HEADNECK-01-0118\",\"QIN-HEADNECK-01-0118\",\"QIN-HEADNECK-01-0118\",\"QIN-HEADNECK-01-0118\",\"QIN-HEADNECK-01-0118\",\"QIN-HEADNECK-01-0120\",\"QIN-HEADNECK-01-0120\",\"QIN-HEADNECK-01-0120\",\"QIN-HEADNECK-01-0120\",\"QIN-HEADNECK-01-0120\",\"QIN-HEADNECK-01-0120\",\"QIN-HEADNECK-01-0120\",\"QIN-HEADNECK-01-0120\",\"QIN-HEADNECK-01-0120\",\"QIN-HEADNECK-01-0120\",\"QIN-HEADNECK-01-0120\",\"QIN-HEADNECK-01-0120\",\"QIN-HEADNECK-01-0127\",\"QIN-HEADNECK-01-0127\",\"QIN-HEADNECK-01-0127\",\"QIN-HEADNECK-01-0127\",\"QIN-HEADNECK-01-0127\",\"QIN-HEADNECK-01-0127\",\"QIN-HEADNECK-01-0127\",\"QIN-HEADNECK-01-0127\",\"QIN-HEADNECK-01-0127\",\"QIN-HEADNECK-01-0127\",\"QIN-HEADNECK-01-0127\",\"QIN-HEADNECK-01-0127\",\"QIN-HEADNECK-01-0129\",\"QIN-HEADNECK-01-0129\",\"QIN-HEADNECK-01-0129\",\"QIN-HEADNECK-01-0129\",\"QIN-HEADNECK-01-0129\",\"QIN-HEADNECK-01-0129\",\"QIN-HEADNECK-01-0129\",\"QIN-HEADNECK-01-0129\",\"QIN-HEADNECK-01-0129\",\"QIN-HEADNECK-01-0129\",\"QIN-HEADNECK-01-0129\",\"QIN-HEADNECK-01-0129\",\"QIN-HEADNECK-01-0131\",\"QIN-HEADNECK-01-0131\",\"QIN-HEADNECK-01-0131\",\"QIN-HEADNECK-01-0131\",\"QIN-HEADNECK-01-0131\",\"QIN-HEADNECK-01-0131\",\"QIN-HEADNECK-01-0131\",\"QIN-HEADNECK-01-0131\",\"QIN-HEADNECK-01-0131\",\"QIN-HEADNECK-01-0131\",\"QIN-HEADNECK-01-0131\",\"QIN-HEADNECK-01-0131\",\"QIN-HEADNECK-01-0135\",\"QIN-HEADNECK-01-0135\",\"QIN-HEADNECK-01-0135\",\"QIN-HEADNECK-01-0135\",\"QIN-HEADNECK-01-0135\",\"QIN-HEADNECK-01-0135\",\"QIN-HEADNECK-01-0135\",\"QIN-HEADNECK-01-0135\",\"QIN-HEADNECK-01-0135\",\"QIN-HEADNECK-01-0135\",\"QIN-HEADNECK-01-0135\",\"QIN-HEADNECK-01-0135\",\"QIN-HEADNECK-01-0137\",\"QIN-HEADNECK-01-0137\",\"QIN-HEADNECK-01-0137\",\"QIN-HEADNECK-01-0137\",\"QIN-HEADNECK-01-0137\",\"QIN-HEADNECK-01-0137\",\"QIN-HEADNECK-01-0137\",\"QIN-HEADNECK-01-0137\",\"QIN-HEADNECK-01-0137\",\"QIN-HEADNECK-01-0137\",\"QIN-HEADNECK-01-0137\",\"QIN-HEADNECK-01-0137\",\"QIN-HEADNECK-01-0139\",\"QIN-HEADNECK-01-0139\",\"QIN-HEADNECK-01-0139\",\"QIN-HEADNECK-01-0139\",\"QIN-HEADNECK-01-0139\",\"QIN-HEADNECK-01-0139\",\"QIN-HEADNECK-01-0139\",\"QIN-HEADNECK-01-0139\",\"QIN-HEADNECK-01-0139\",\"QIN-HEADNECK-01-0139\",\"QIN-HEADNECK-01-0139\",\"QIN-HEADNECK-01-0139\",\"QIN-HEADNECK-01-0140\",\"QIN-HEADNECK-01-0140\",\"QIN-HEADNECK-01-0140\",\"QIN-HEADNECK-01-0140\",\"QIN-HEADNECK-01-0140\",\"QIN-HEADNECK-01-0140\",\"QIN-HEADNECK-01-0140\",\"QIN-HEADNECK-01-0140\",\"QIN-HEADNECK-01-0140\",\"QIN-HEADNECK-01-0140\",\"QIN-HEADNECK-01-0140\",\"QIN-HEADNECK-01-0140\",\"QIN-HEADNECK-01-0157\",\"QIN-HEADNECK-01-0157\",\"QIN-HEADNECK-01-0157\",\"QIN-HEADNECK-01-0157\",\"QIN-HEADNECK-01-0157\",\"QIN-HEADNECK-01-0157\",\"QIN-HEADNECK-01-0157\",\"QIN-HEADNECK-01-0157\",\"QIN-HEADNECK-01-0157\",\"QIN-HEADNECK-01-0157\",\"QIN-HEADNECK-01-0157\",\"QIN-HEADNECK-01-0157\",\"QIN-HEADNECK-01-0164\",\"QIN-HEADNECK-01-0164\",\"QIN-HEADNECK-01-0164\",\"QIN-HEADNECK-01-0164\",\"QIN-HEADNECK-01-0164\",\"QIN-HEADNECK-01-0164\",\"QIN-HEADNECK-01-0164\",\"QIN-HEADNECK-01-0164\",\"QIN-HEADNECK-01-0164\",\"QIN-HEADNECK-01-0164\",\"QIN-HEADNECK-01-0164\",\"QIN-HEADNECK-01-0164\",\"QIN-HEADNECK-01-0165\",\"QIN-HEADNECK-01-0165\",\"QIN-HEADNECK-01-0165\",\"QIN-HEADNECK-01-0165\",\"QIN-HEADNECK-01-0165\",\"QIN-HEADNECK-01-0165\",\"QIN-HEADNECK-01-0165\",\"QIN-HEADNECK-01-0165\",\"QIN-HEADNECK-01-0165\",\"QIN-HEADNECK-01-0165\",\"QIN-HEADNECK-01-0165\",\"QIN-HEADNECK-01-0165\",\"QIN-HEADNECK-01-0172\",\"QIN-HEADNECK-01-0172\",\"QIN-HEADNECK-01-0172\",\"QIN-HEADNECK-01-0172\",\"QIN-HEADNECK-01-0172\",\"QIN-HEADNECK-01-0172\",\"QIN-HEADNECK-01-0172\",\"QIN-HEADNECK-01-0172\",\"QIN-HEADNECK-01-0172\",\"QIN-HEADNECK-01-0172\",\"QIN-HEADNECK-01-0172\",\"QIN-HEADNECK-01-0172\",\"QIN-HEADNECK-01-0180\",\"QIN-HEADNECK-01-0180\",\"QIN-HEADNECK-01-0180\",\"QIN-HEADNECK-01-0180\",\"QIN-HEADNECK-01-0180\",\"QIN-HEADNECK-01-0180\",\"QIN-HEADNECK-01-0180\",\"QIN-HEADNECK-01-0180\",\"QIN-HEADNECK-01-0180\",\"QIN-HEADNECK-01-0180\",\"QIN-HEADNECK-01-0180\",\"QIN-HEADNECK-01-0180\",\"QIN-HEADNECK-01-0184\",\"QIN-HEADNECK-01-0184\",\"QIN-HEADNECK-01-0184\",\"QIN-HEADNECK-01-0184\",\"QIN-HEADNECK-01-0184\",\"QIN-HEADNECK-01-0184\",\"QIN-HEADNECK-01-0184\",\"QIN-HEADNECK-01-0184\",\"QIN-HEADNECK-01-0184\",\"QIN-HEADNECK-01-0184\",\"QIN-HEADNECK-01-0184\",\"QIN-HEADNECK-01-0184\",\"QIN-HEADNECK-01-0186\",\"QIN-HEADNECK-01-0186\",\"QIN-HEADNECK-01-0186\",\"QIN-HEADNECK-01-0186\",\"QIN-HEADNECK-01-0186\",\"QIN-HEADNECK-01-0186\",\"QIN-HEADNECK-01-0186\",\"QIN-HEADNECK-01-0186\",\"QIN-HEADNECK-01-0186\",\"QIN-HEADNECK-01-0186\",\"QIN-HEADNECK-01-0186\",\"QIN-HEADNECK-01-0186\",\"QIN-HEADNECK-01-0190\",\"QIN-HEADNECK-01-0190\",\"QIN-HEADNECK-01-0190\",\"QIN-HEADNECK-01-0190\",\"QIN-HEADNECK-01-0190\",\"QIN-HEADNECK-01-0190\",\"QIN-HEADNECK-01-0190\",\"QIN-HEADNECK-01-0190\",\"QIN-HEADNECK-01-0190\",\"QIN-HEADNECK-01-0190\",\"QIN-HEADNECK-01-0190\",\"QIN-HEADNECK-01-0190\",\"QIN-HEADNECK-01-0199\",\"QIN-HEADNECK-01-0199\",\"QIN-HEADNECK-01-0199\",\"QIN-HEADNECK-01-0199\",\"QIN-HEADNECK-01-0199\",\"QIN-HEADNECK-01-0199\",\"QIN-HEADNECK-01-0199\",\"QIN-HEADNECK-01-0199\",\"QIN-HEADNECK-01-0199\",\"QIN-HEADNECK-01-0199\",\"QIN-HEADNECK-01-0199\",\"QIN-HEADNECK-01-0199\",\"QIN-HEADNECK-01-0200\",\"QIN-HEADNECK-01-0200\",\"QIN-HEADNECK-01-0200\",\"QIN-HEADNECK-01-0200\",\"QIN-HEADNECK-01-0200\",\"QIN-HEADNECK-01-0200\",\"QIN-HEADNECK-01-0200\",\"QIN-HEADNECK-01-0200\",\"QIN-HEADNECK-01-0200\",\"QIN-HEADNECK-01-0200\",\"QIN-HEADNECK-01-0200\",\"QIN-HEADNECK-01-0200\",\"QIN-HEADNECK-01-0201\",\"QIN-HEADNECK-01-0201\",\"QIN-HEADNECK-01-0201\",\"QIN-HEADNECK-01-0201\",\"QIN-HEADNECK-01-0201\",\"QIN-HEADNECK-01-0201\",\"QIN-HEADNECK-01-0201\",\"QIN-HEADNECK-01-0201\",\"QIN-HEADNECK-01-0201\",\"QIN-HEADNECK-01-0201\",\"QIN-HEADNECK-01-0201\",\"QIN-HEADNECK-01-0201\",\"QIN-HEADNECK-01-0203\",\"QIN-HEADNECK-01-0203\",\"QIN-HEADNECK-01-0203\",\"QIN-HEADNECK-01-0203\",\"QIN-HEADNECK-01-0203\",\"QIN-HEADNECK-01-0203\",\"QIN-HEADNECK-01-0203\",\"QIN-HEADNECK-01-0203\",\"QIN-HEADNECK-01-0203\",\"QIN-HEADNECK-01-0203\",\"QIN-HEADNECK-01-0203\",\"QIN-HEADNECK-01-0203\",\"QIN-HEADNECK-01-0212\",\"QIN-HEADNECK-01-0212\",\"QIN-HEADNECK-01-0212\",\"QIN-HEADNECK-01-0212\",\"QIN-HEADNECK-01-0212\",\"QIN-HEADNECK-01-0212\",\"QIN-HEADNECK-01-0212\",\"QIN-HEADNECK-01-0212\",\"QIN-HEADNECK-01-0212\",\"QIN-HEADNECK-01-0212\",\"QIN-HEADNECK-01-0212\",\"QIN-HEADNECK-01-0212\",\"QIN-HEADNECK-01-0214\",\"QIN-HEADNECK-01-0214\",\"QIN-HEADNECK-01-0214\",\"QIN-HEADNECK-01-0214\",\"QIN-HEADNECK-01-0214\",\"QIN-HEADNECK-01-0214\",\"QIN-HEADNECK-01-0214\",\"QIN-HEADNECK-01-0214\",\"QIN-HEADNECK-01-0214\",\"QIN-HEADNECK-01-0214\",\"QIN-HEADNECK-01-0214\",\"QIN-HEADNECK-01-0214\",\"QIN-HEADNECK-01-0220\",\"QIN-HEADNECK-01-0220\",\"QIN-HEADNECK-01-0220\",\"QIN-HEADNECK-01-0220\",\"QIN-HEADNECK-01-0220\",\"QIN-HEADNECK-01-0220\",\"QIN-HEADNECK-01-0220\",\"QIN-HEADNECK-01-0220\",\"QIN-HEADNECK-01-0220\",\"QIN-HEADNECK-01-0220\",\"QIN-HEADNECK-01-0220\",\"QIN-HEADNECK-01-0220\",\"QIN-HEADNECK-01-0222\",\"QIN-HEADNECK-01-0222\",\"QIN-HEADNECK-01-0222\",\"QIN-HEADNECK-01-0222\",\"QIN-HEADNECK-01-0222\",\"QIN-HEADNECK-01-0222\",\"QIN-HEADNECK-01-0222\",\"QIN-HEADNECK-01-0222\",\"QIN-HEADNECK-01-0222\",\"QIN-HEADNECK-01-0222\",\"QIN-HEADNECK-01-0222\",\"QIN-HEADNECK-01-0222\",\"QIN-HEADNECK-01-0224\",\"QIN-HEADNECK-01-0224\",\"QIN-HEADNECK-01-0224\",\"QIN-HEADNECK-01-0224\",\"QIN-HEADNECK-01-0224\",\"QIN-HEADNECK-01-0224\",\"QIN-HEADNECK-01-0224\",\"QIN-HEADNECK-01-0224\",\"QIN-HEADNECK-01-0224\",\"QIN-HEADNECK-01-0224\",\"QIN-HEADNECK-01-0224\",\"QIN-HEADNECK-01-0224\",\"QIN-HEADNECK-01-0228\",\"QIN-HEADNECK-01-0228\",\"QIN-HEADNECK-01-0228\",\"QIN-HEADNECK-01-0228\",\"QIN-HEADNECK-01-0228\",\"QIN-HEADNECK-01-0228\",\"QIN-HEADNECK-01-0228\",\"QIN-HEADNECK-01-0228\",\"QIN-HEADNECK-01-0228\",\"QIN-HEADNECK-01-0228\",\"QIN-HEADNECK-01-0228\",\"QIN-HEADNECK-01-0228\",\"QIN-HEADNECK-01-0239\",\"QIN-HEADNECK-01-0239\",\"QIN-HEADNECK-01-0239\",\"QIN-HEADNECK-01-0239\",\"QIN-HEADNECK-01-0239\",\"QIN-HEADNECK-01-0239\",\"QIN-HEADNECK-01-0239\",\"QIN-HEADNECK-01-0239\",\"QIN-HEADNECK-01-0239\",\"QIN-HEADNECK-01-0239\",\"QIN-HEADNECK-01-0239\",\"QIN-HEADNECK-01-0239\",\"QIN-HEADNECK-01-0244\",\"QIN-HEADNECK-01-0244\",\"QIN-HEADNECK-01-0244\",\"QIN-HEADNECK-01-0244\",\"QIN-HEADNECK-01-0244\",\"QIN-HEADNECK-01-0244\",\"QIN-HEADNECK-01-0244\",\"QIN-HEADNECK-01-0244\",\"QIN-HEADNECK-01-0244\",\"QIN-HEADNECK-01-0244\",\"QIN-HEADNECK-01-0244\",\"QIN-HEADNECK-01-0244\",\"QIN-HEADNECK-01-0275\",\"QIN-HEADNECK-01-0275\",\"QIN-HEADNECK-01-0275\",\"QIN-HEADNECK-01-0275\",\"QIN-HEADNECK-01-0275\",\"QIN-HEADNECK-01-0275\",\"QIN-HEADNECK-01-0275\",\"QIN-HEADNECK-01-0275\",\"QIN-HEADNECK-01-0275\",\"QIN-HEADNECK-01-0275\",\"QIN-HEADNECK-01-0275\",\"QIN-HEADNECK-01-0275\",\"QIN-HEADNECK-01-0366\",\"QIN-HEADNECK-01-0366\",\"QIN-HEADNECK-01-0366\",\"QIN-HEADNECK-01-0366\",\"QIN-HEADNECK-01-0366\",\"QIN-HEADNECK-01-0366\",\"QIN-HEADNECK-01-0366\",\"QIN-HEADNECK-01-0366\",\"QIN-HEADNECK-01-0366\",\"QIN-HEADNECK-01-0366\",\"QIN-HEADNECK-01-0366\",\"QIN-HEADNECK-01-0366\"]}},\"id\":\"ce3ce948-f167-4791-9fca-8748683ec6a6\",\"type\":\"ColumnDataSource\"},{\"attributes\":{\"overlay\":{\"id\":\"4c82df44-4a72-45c5-862e-7c06da15a6c1\",\"type\":\"BoxAnnotation\"},\"plot\":{\"id\":\"5fe6ca59-98b6-4dd4-bff3-aa83b8edfd6c\",\"subtype\":\"Figure\",\"type\":\"Plot\"}},\"id\":\"c3c24049-d88f-459c-8f20-f6599cdabd33\",\"type\":\"BoxZoomTool\"},{\"attributes\":{\"axis_label\":\"Volume, Milliliter\",\"formatter\":{\"id\":\"8599cfe9-f6ae-4cb0-b786-0961d531dbf8\",\"type\":\"BasicTickFormatter\"},\"plot\":{\"id\":\"5fe6ca59-98b6-4dd4-bff3-aa83b8edfd6c\",\"subtype\":\"Figure\",\"type\":\"Plot\"},\"ticker\":{\"id\":\"fdbc91fb-20ac-4fc8-815c-6b4f807e780a\",\"type\":\"BasicTicker\"}},\"id\":\"8eafc665-1e50-4d4b-88b7-6779e4a64d8b\",\"type\":\"LinearAxis\"},{\"attributes\":{\"active_drag\":\"auto\",\"active_inspect\":\"auto\",\"active_scroll\":\"auto\",\"active_tap\":\"auto\",\"tools\":[{\"id\":\"f78a234e-6c3e-4915-9a85-82c92777ace0\",\"type\":\"HoverTool\"},{\"id\":\"0415fa87-8ef9-4868-8a0c-778f8a844fc7\",\"type\":\"WheelZoomTool\"},{\"id\":\"c3c24049-d88f-459c-8f20-f6599cdabd33\",\"type\":\"BoxZoomTool\"},{\"id\":\"a5c17146-387c-4c13-860b-f7e6c4e09bf2\",\"type\":\"ResetTool\"},{\"id\":\"38ba5a8a-d892-48c8-981f-eeb50700628f\",\"type\":\"PanTool\"}]},\"id\":\"9921900e-e3cf-4efa-be3a-371d1242d12b\",\"type\":\"Toolbar\"},{\"attributes\":{\"dimension\":1,\"plot\":{\"id\":\"5fe6ca59-98b6-4dd4-bff3-aa83b8edfd6c\",\"subtype\":\"Figure\",\"type\":\"Plot\"},\"ticker\":{\"id\":\"8a6290d7-1b2c-4608-858d-b6011a0a902e\",\"type\":\"CategoricalTicker\"}},\"id\":\"53f5501a-75b7-4a4e-b6bb-37dffde50019\",\"type\":\"Grid\"},{\"attributes\":{\"data_source\":{\"id\":\"ce3ce948-f167-4791-9fca-8748683ec6a6\",\"type\":\"ColumnDataSource\"},\"glyph\":{\"id\":\"b5a62811-2582-48bb-be78-643e8c13f808\",\"type\":\"Circle\"},\"hover_glyph\":null,\"muted_glyph\":null,\"nonselection_glyph\":{\"id\":\"3208391c-1786-496f-b7d0-4e4f2237fd20\",\"type\":\"Circle\"},\"selection_glyph\":null},\"id\":\"059b488e-e947-401e-b623-1de723cad799\",\"type\":\"GlyphRenderer\"},{\"attributes\":{\"plot\":{\"id\":\"5fe6ca59-98b6-4dd4-bff3-aa83b8edfd6c\",\"subtype\":\"Figure\",\"type\":\"Plot\"},\"ticker\":{\"id\":\"fdbc91fb-20ac-4fc8-815c-6b4f807e780a\",\"type\":\"BasicTicker\"}},\"id\":\"e836ec74-1962-4739-bd2c-d7af672ccd69\",\"type\":\"Grid\"},{\"attributes\":{},\"id\":\"8a6290d7-1b2c-4608-858d-b6011a0a902e\",\"type\":\"CategoricalTicker\"},{\"attributes\":{},\"id\":\"8599cfe9-f6ae-4cb0-b786-0961d531dbf8\",\"type\":\"BasicTickFormatter\"},{\"attributes\":{\"callback\":null,\"plot\":{\"id\":\"5fe6ca59-98b6-4dd4-bff3-aa83b8edfd6c\",\"subtype\":\"Figure\",\"type\":\"Plot\"},\"tooltips\":[[\"(Volume, Subject)\",\"($x, $y)\"]]},\"id\":\"f78a234e-6c3e-4915-9a85-82c92777ace0\",\"type\":\"HoverTool\"},{\"attributes\":{},\"id\":\"e93f0aca-57b9-4b9c-bb24-39b6626c2967\",\"type\":\"CategoricalTickFormatter\"},{\"attributes\":{},\"id\":\"e8ea9964-4392-4e97-b007-805e2a630e02\",\"type\":\"CategoricalScale\"},{\"attributes\":{\"fill_color\":{\"field\":\"color\"},\"line_color\":{\"field\":\"color\"},\"x\":{\"field\":\"x\"},\"y\":{\"field\":\"y\"}},\"id\":\"b5a62811-2582-48bb-be78-643e8c13f808\",\"type\":\"Circle\"},{\"attributes\":{\"callback\":null,\"end\":98.4239,\"start\":1.10586},\"id\":\"09feaf63-3a19-4c1b-9895-d77c19223ec6\",\"type\":\"Range1d\"},{\"attributes\":{},\"id\":\"98b9f452-c324-47ac-8980-b8b0770d0fed\",\"type\":\"ToolEvents\"},{\"attributes\":{\"items\":[{\"id\":\"a4d97c0a-f03e-49e4-9908-36721de730c6\",\"type\":\"LegendItem\"}],\"location\":\"bottom_right\",\"plot\":{\"id\":\"5fe6ca59-98b6-4dd4-bff3-aa83b8edfd6c\",\"subtype\":\"Figure\",\"type\":\"Plot\"}},\"id\":\"e78cfbc0-e48d-403a-9d76-9cbb3cd94afa\",\"type\":\"Legend\"},{\"attributes\":{\"plot\":{\"id\":\"5fe6ca59-98b6-4dd4-bff3-aa83b8edfd6c\",\"subtype\":\"Figure\",\"type\":\"Plot\"}},\"id\":\"38ba5a8a-d892-48c8-981f-eeb50700628f\",\"type\":\"PanTool\"},{\"attributes\":{\"fill_alpha\":{\"value\":0.1},\"fill_color\":{\"value\":\"#1f77b4\"},\"line_alpha\":{\"value\":0.1},\"line_color\":{\"value\":\"#1f77b4\"},\"x\":{\"field\":\"x\"},\"y\":{\"field\":\"y\"}},\"id\":\"3208391c-1786-496f-b7d0-4e4f2237fd20\",\"type\":\"Circle\"},{\"attributes\":{\"axis_label\":\"PatientID\",\"formatter\":{\"id\":\"e93f0aca-57b9-4b9c-bb24-39b6626c2967\",\"type\":\"CategoricalTickFormatter\"},\"plot\":{\"id\":\"5fe6ca59-98b6-4dd4-bff3-aa83b8edfd6c\",\"subtype\":\"Figure\",\"type\":\"Plot\"},\"ticker\":{\"id\":\"8a6290d7-1b2c-4608-858d-b6011a0a902e\",\"type\":\"CategoricalTicker\"}},\"id\":\"d0558eb6-1805-4711-98db-022f360d0443\",\"type\":\"CategoricalAxis\"},{\"attributes\":{\"plot\":{\"id\":\"5fe6ca59-98b6-4dd4-bff3-aa83b8edfd6c\",\"subtype\":\"Figure\",\"type\":\"Plot\"}},\"id\":\"0415fa87-8ef9-4868-8a0c-778f8a844fc7\",\"type\":\"WheelZoomTool\"},{\"attributes\":{},\"id\":\"d516c1c5-b976-4fe1-9836-0fcdc67054b8\",\"type\":\"LinearScale\"},{\"attributes\":{\"plot\":null,\"text\":\"Variability of primary neoplasm volume by reader\"},\"id\":\"99c0c0f1-8af3-4abc-bad5-2352eeecddaa\",\"type\":\"Title\"},{\"attributes\":{\"callback\":null,\"factors\":[\"QIN-HEADNECK-01-0003\",\"QIN-HEADNECK-01-0003\",\"QIN-HEADNECK-01-0003\",\"QIN-HEADNECK-01-0003\",\"QIN-HEADNECK-01-0003\",\"QIN-HEADNECK-01-0003\",\"QIN-HEADNECK-01-0003\",\"QIN-HEADNECK-01-0003\",\"QIN-HEADNECK-01-0003\",\"QIN-HEADNECK-01-0003\",\"QIN-HEADNECK-01-0003\",\"QIN-HEADNECK-01-0003\",\"QIN-HEADNECK-01-0017\",\"QIN-HEADNECK-01-0017\",\"QIN-HEADNECK-01-0017\",\"QIN-HEADNECK-01-0017\",\"QIN-HEADNECK-01-0017\",\"QIN-HEADNECK-01-0017\",\"QIN-HEADNECK-01-0017\",\"QIN-HEADNECK-01-0017\",\"QIN-HEADNECK-01-0017\",\"QIN-HEADNECK-01-0017\",\"QIN-HEADNECK-01-0017\",\"QIN-HEADNECK-01-0017\",\"QIN-HEADNECK-01-0024\",\"QIN-HEADNECK-01-0024\",\"QIN-HEADNECK-01-0024\",\"QIN-HEADNECK-01-0024\",\"QIN-HEADNECK-01-0024\",\"QIN-HEADNECK-01-0024\",\"QIN-HEADNECK-01-0024\",\"QIN-HEADNECK-01-0024\",\"QIN-HEADNECK-01-0024\",\"QIN-HEADNECK-01-0024\",\"QIN-HEADNECK-01-0024\",\"QIN-HEADNECK-01-0024\",\"QIN-HEADNECK-01-0026\",\"QIN-HEADNECK-01-0026\",\"QIN-HEADNECK-01-0026\",\"QIN-HEADNECK-01-0026\",\"QIN-HEADNECK-01-0026\",\"QIN-HEADNECK-01-0026\",\"QIN-HEADNECK-01-0026\",\"QIN-HEADNECK-01-0026\",\"QIN-HEADNECK-01-0026\",\"QIN-HEADNECK-01-0026\",\"QIN-HEADNECK-01-0026\",\"QIN-HEADNECK-01-0026\",\"QIN-HEADNECK-01-0028\",\"QIN-HEADNECK-01-0028\",\"QIN-HEADNECK-01-0028\",\"QIN-HEADNECK-01-0028\",\"QIN-HEADNECK-01-0028\",\"QIN-HEADNECK-01-0028\",\"QIN-HEADNECK-01-0028\",\"QIN-HEADNECK-01-0028\",\"QIN-HEADNECK-01-0028\",\"QIN-HEADNECK-01-0028\",\"QIN-HEADNECK-01-0028\",\"QIN-HEADNECK-01-0028\",\"QIN-HEADNECK-01-0034\",\"QIN-HEADNECK-01-0034\",\"QIN-HEADNECK-01-0034\",\"QIN-HEADNECK-01-0034\",\"QIN-HEADNECK-01-0034\",\"QIN-HEADNECK-01-0034\",\"QIN-HEADNECK-01-0034\",\"QIN-HEADNECK-01-0034\",\"QIN-HEADNECK-01-0034\",\"QIN-HEADNECK-01-0034\",\"QIN-HEADNECK-01-0034\",\"QIN-HEADNECK-01-0034\",\"QIN-HEADNECK-01-0041\",\"QIN-HEADNECK-01-0041\",\"QIN-HEADNECK-01-0041\",\"QIN-HEADNECK-01-0041\",\"QIN-HEADNECK-01-0041\",\"QIN-HEADNECK-01-0041\",\"QIN-HEADNECK-01-0041\",\"QIN-HEADNECK-01-0041\",\"QIN-HEADNECK-01-0041\",\"QIN-HEADNECK-01-0041\",\"QIN-HEADNECK-01-0041\",\"QIN-HEADNECK-01-0041\",\"QIN-HEADNECK-01-0046\",\"QIN-HEADNECK-01-0046\",\"QIN-HEADNECK-01-0046\",\"QIN-HEADNECK-01-0046\",\"QIN-HEADNECK-01-0046\",\"QIN-HEADNECK-01-0046\",\"QIN-HEADNECK-01-0046\",\"QIN-HEADNECK-01-0046\",\"QIN-HEADNECK-01-0046\",\"QIN-HEADNECK-01-0046\",\"QIN-HEADNECK-01-0046\",\"QIN-HEADNECK-01-0046\",\"QIN-HEADNECK-01-0047\",\"QIN-HEADNECK-01-0047\",\"QIN-HEADNECK-01-0047\",\"QIN-HEADNECK-01-0047\",\"QIN-HEADNECK-01-0047\",\"QIN-HEADNECK-01-0047\",\"QIN-HEADNECK-01-0047\",\"QIN-HEADNECK-01-0047\",\"QIN-HEADNECK-01-0047\",\"QIN-HEADNECK-01-0047\",\"QIN-HEADNECK-01-0047\",\"QIN-HEADNECK-01-0047\",\"QIN-HEADNECK-01-0055\",\"QIN-HEADNECK-01-0055\",\"QIN-HEADNECK-01-0055\",\"QIN-HEADNECK-01-0055\",\"QIN-HEADNECK-01-0055\",\"QIN-HEADNECK-01-0055\",\"QIN-HEADNECK-01-0055\",\"QIN-HEADNECK-01-0055\",\"QIN-HEADNECK-01-0055\",\"QIN-HEADNECK-01-0055\",\"QIN-HEADNECK-01-0055\",\"QIN-HEADNECK-01-0055\",\"QIN-HEADNECK-01-0057\",\"QIN-HEADNECK-01-0057\",\"QIN-HEADNECK-01-0057\",\"QIN-HEADNECK-01-0057\",\"QIN-HEADNECK-01-0057\",\"QIN-HEADNECK-01-0057\",\"QIN-HEADNECK-01-0057\",\"QIN-HEADNECK-01-0057\",\"QIN-HEADNECK-01-0057\",\"QIN-HEADNECK-01-0057\",\"QIN-HEADNECK-01-0057\",\"QIN-HEADNECK-01-0057\",\"QIN-HEADNECK-01-0060\",\"QIN-HEADNECK-01-0060\",\"QIN-HEADNECK-01-0060\",\"QIN-HEADNECK-01-0060\",\"QIN-HEADNECK-01-0060\",\"QIN-HEADNECK-01-0060\",\"QIN-HEADNECK-01-0060\",\"QIN-HEADNECK-01-0060\",\"QIN-HEADNECK-01-0060\",\"QIN-HEADNECK-01-0060\",\"QIN-HEADNECK-01-0060\",\"QIN-HEADNECK-01-0060\",\"QIN-HEADNECK-01-0062\",\"QIN-HEADNECK-01-0062\",\"QIN-HEADNECK-01-0062\",\"QIN-HEADNECK-01-0062\",\"QIN-HEADNECK-01-0062\",\"QIN-HEADNECK-01-0062\",\"QIN-HEADNECK-01-0062\",\"QIN-HEADNECK-01-0062\",\"QIN-HEADNECK-01-0062\",\"QIN-HEADNECK-01-0062\",\"QIN-HEADNECK-01-0062\",\"QIN-HEADNECK-01-0062\",\"QIN-HEADNECK-01-0064\",\"QIN-HEADNECK-01-0064\",\"QIN-HEADNECK-01-0064\",\"QIN-HEADNECK-01-0064\",\"QIN-HEADNECK-01-0064\",\"QIN-HEADNECK-01-0064\",\"QIN-HEADNECK-01-0064\",\"QIN-HEADNECK-01-0064\",\"QIN-HEADNECK-01-0064\",\"QIN-HEADNECK-01-0064\",\"QIN-HEADNECK-01-0064\",\"QIN-HEADNECK-01-0064\",\"QIN-HEADNECK-01-0065\",\"QIN-HEADNECK-01-0065\",\"QIN-HEADNECK-01-0065\",\"QIN-HEADNECK-01-0065\",\"QIN-HEADNECK-01-0065\",\"QIN-HEADNECK-01-0065\",\"QIN-HEADNECK-01-0065\",\"QIN-HEADNECK-01-0065\",\"QIN-HEADNECK-01-0065\",\"QIN-HEADNECK-01-0065\",\"QIN-HEADNECK-01-0065\",\"QIN-HEADNECK-01-0065\",\"QIN-HEADNECK-01-0067\",\"QIN-HEADNECK-01-0067\",\"QIN-HEADNECK-01-0067\",\"QIN-HEADNECK-01-0067\",\"QIN-HEADNECK-01-0067\",\"QIN-HEADNECK-01-0067\",\"QIN-HEADNECK-01-0067\",\"QIN-HEADNECK-01-0067\",\"QIN-HEADNECK-01-0067\",\"QIN-HEADNECK-01-0067\",\"QIN-HEADNECK-01-0067\",\"QIN-HEADNECK-01-0067\",\"QIN-HEADNECK-01-0071\",\"QIN-HEADNECK-01-0071\",\"QIN-HEADNECK-01-0071\",\"QIN-HEADNECK-01-0071\",\"QIN-HEADNECK-01-0071\",\"QIN-HEADNECK-01-0071\",\"QIN-HEADNECK-01-0071\",\"QIN-HEADNECK-01-0071\",\"QIN-HEADNECK-01-0071\",\"QIN-HEADNECK-01-0071\",\"QIN-HEADNECK-01-0071\",\"QIN-HEADNECK-01-0071\",\"QIN-HEADNECK-01-0074\",\"QIN-HEADNECK-01-0074\",\"QIN-HEADNECK-01-0074\",\"QIN-HEADNECK-01-0074\",\"QIN-HEADNECK-01-0074\",\"QIN-HEADNECK-01-0074\",\"QIN-HEADNECK-01-0074\",\"QIN-HEADNECK-01-0074\",\"QIN-HEADNECK-01-0074\",\"QIN-HEADNECK-01-0074\",\"QIN-HEADNECK-01-0074\",\"QIN-HEADNECK-01-0074\",\"QIN-HEADNECK-01-0079\",\"QIN-HEADNECK-01-0079\",\"QIN-HEADNECK-01-0079\",\"QIN-HEADNECK-01-0079\",\"QIN-HEADNECK-01-0079\",\"QIN-HEADNECK-01-0079\",\"QIN-HEADNECK-01-0079\",\"QIN-HEADNECK-01-0079\",\"QIN-HEADNECK-01-0079\",\"QIN-HEADNECK-01-0079\",\"QIN-HEADNECK-01-0079\",\"QIN-HEADNECK-01-0079\",\"QIN-HEADNECK-01-0081\",\"QIN-HEADNECK-01-0081\",\"QIN-HEADNECK-01-0081\",\"QIN-HEADNECK-01-0081\",\"QIN-HEADNECK-01-0081\",\"QIN-HEADNECK-01-0081\",\"QIN-HEADNECK-01-0081\",\"QIN-HEADNECK-01-0081\",\"QIN-HEADNECK-01-0081\",\"QIN-HEADNECK-01-0081\",\"QIN-HEADNECK-01-0081\",\"QIN-HEADNECK-01-0081\",\"QIN-HEADNECK-01-0086\",\"QIN-HEADNECK-01-0086\",\"QIN-HEADNECK-01-0086\",\"QIN-HEADNECK-01-0086\",\"QIN-HEADNECK-01-0086\",\"QIN-HEADNECK-01-0086\",\"QIN-HEADNECK-01-0086\",\"QIN-HEADNECK-01-0086\",\"QIN-HEADNECK-01-0086\",\"QIN-HEADNECK-01-0086\",\"QIN-HEADNECK-01-0086\",\"QIN-HEADNECK-01-0086\",\"QIN-HEADNECK-01-0089\",\"QIN-HEADNECK-01-0089\",\"QIN-HEADNECK-01-0089\",\"QIN-HEADNECK-01-0089\",\"QIN-HEADNECK-01-0089\",\"QIN-HEADNECK-01-0089\",\"QIN-HEADNECK-01-0089\",\"QIN-HEADNECK-01-0089\",\"QIN-HEADNECK-01-0089\",\"QIN-HEADNECK-01-0089\",\"QIN-HEADNECK-01-0089\",\"QIN-HEADNECK-01-0089\",\"QIN-HEADNECK-01-0091\",\"QIN-HEADNECK-01-0091\",\"QIN-HEADNECK-01-0091\",\"QIN-HEADNECK-01-0091\",\"QIN-HEADNECK-01-0091\",\"QIN-HEADNECK-01-0091\",\"QIN-HEADNECK-01-0091\",\"QIN-HEADNECK-01-0091\",\"QIN-HEADNECK-01-0091\",\"QIN-HEADNECK-01-0091\",\"QIN-HEADNECK-01-0091\",\"QIN-HEADNECK-01-0091\",\"QIN-HEADNECK-01-0098\",\"QIN-HEADNECK-01-0098\",\"QIN-HEADNECK-01-0098\",\"QIN-HEADNECK-01-0098\",\"QIN-HEADNECK-01-0098\",\"QIN-HEADNECK-01-0098\",\"QIN-HEADNECK-01-0098\",\"QIN-HEADNECK-01-0098\",\"QIN-HEADNECK-01-0098\",\"QIN-HEADNECK-01-0098\",\"QIN-HEADNECK-01-0098\",\"QIN-HEADNECK-01-0098\",\"QIN-HEADNECK-01-0100\",\"QIN-HEADNECK-01-0100\",\"QIN-HEADNECK-01-0100\",\"QIN-HEADNECK-01-0100\",\"QIN-HEADNECK-01-0100\",\"QIN-HEADNECK-01-0100\",\"QIN-HEADNECK-01-0100\",\"QIN-HEADNECK-01-0100\",\"QIN-HEADNECK-01-0100\",\"QIN-HEADNECK-01-0100\",\"QIN-HEADNECK-01-0100\",\"QIN-HEADNECK-01-0100\",\"QIN-HEADNECK-01-0112\",\"QIN-HEADNECK-01-0112\",\"QIN-HEADNECK-01-0112\",\"QIN-HEADNECK-01-0112\",\"QIN-HEADNECK-01-0112\",\"QIN-HEADNECK-01-0112\",\"QIN-HEADNECK-01-0112\",\"QIN-HEADNECK-01-0112\",\"QIN-HEADNECK-01-0112\",\"QIN-HEADNECK-01-0112\",\"QIN-HEADNECK-01-0112\",\"QIN-HEADNECK-01-0112\",\"QIN-HEADNECK-01-0115\",\"QIN-HEADNECK-01-0115\",\"QIN-HEADNECK-01-0115\",\"QIN-HEADNECK-01-0115\",\"QIN-HEADNECK-01-0115\",\"QIN-HEADNECK-01-0115\",\"QIN-HEADNECK-01-0115\",\"QIN-HEADNECK-01-0115\",\"QIN-HEADNECK-01-0115\",\"QIN-HEADNECK-01-0115\",\"QIN-HEADNECK-01-0115\",\"QIN-HEADNECK-01-0115\",\"QIN-HEADNECK-01-0116\",\"QIN-HEADNECK-01-0116\",\"QIN-HEADNECK-01-0116\",\"QIN-HEADNECK-01-0116\",\"QIN-HEADNECK-01-0116\",\"QIN-HEADNECK-01-0116\",\"QIN-HEADNECK-01-0116\",\"QIN-HEADNECK-01-0116\",\"QIN-HEADNECK-01-0116\",\"QIN-HEADNECK-01-0116\",\"QIN-HEADNECK-01-0116\",\"QIN-HEADNECK-01-0116\",\"QIN-HEADNECK-01-0118\",\"QIN-HEADNECK-01-0118\",\"QIN-HEADNECK-01-0118\",\"QIN-HEADNECK-01-0118\",\"QIN-HEADNECK-01-0118\",\"QIN-HEADNECK-01-0118\",\"QIN-HEADNECK-01-0118\",\"QIN-HEADNECK-01-0118\",\"QIN-HEADNECK-01-0118\",\"QIN-HEADNECK-01-0118\",\"QIN-HEADNECK-01-0118\",\"QIN-HEADNECK-01-0118\",\"QIN-HEADNECK-01-0120\",\"QIN-HEADNECK-01-0120\",\"QIN-HEADNECK-01-0120\",\"QIN-HEADNECK-01-0120\",\"QIN-HEADNECK-01-0120\",\"QIN-HEADNECK-01-0120\",\"QIN-HEADNECK-01-0120\",\"QIN-HEADNECK-01-0120\",\"QIN-HEADNECK-01-0120\",\"QIN-HEADNECK-01-0120\",\"QIN-HEADNECK-01-0120\",\"QIN-HEADNECK-01-0120\",\"QIN-HEADNECK-01-0127\",\"QIN-HEADNECK-01-0127\",\"QIN-HEADNECK-01-0127\",\"QIN-HEADNECK-01-0127\",\"QIN-HEADNECK-01-0127\",\"QIN-HEADNECK-01-0127\",\"QIN-HEADNECK-01-0127\",\"QIN-HEADNECK-01-0127\",\"QIN-HEADNECK-01-0127\",\"QIN-HEADNECK-01-0127\",\"QIN-HEADNECK-01-0127\",\"QIN-HEADNECK-01-0127\",\"QIN-HEADNECK-01-0129\",\"QIN-HEADNECK-01-0129\",\"QIN-HEADNECK-01-0129\",\"QIN-HEADNECK-01-0129\",\"QIN-HEADNECK-01-0129\",\"QIN-HEADNECK-01-0129\",\"QIN-HEADNECK-01-0129\",\"QIN-HEADNECK-01-0129\",\"QIN-HEADNECK-01-0129\",\"QIN-HEADNECK-01-0129\",\"QIN-HEADNECK-01-0129\",\"QIN-HEADNECK-01-0129\",\"QIN-HEADNECK-01-0131\",\"QIN-HEADNECK-01-0131\",\"QIN-HEADNECK-01-0131\",\"QIN-HEADNECK-01-0131\",\"QIN-HEADNECK-01-0131\",\"QIN-HEADNECK-01-0131\",\"QIN-HEADNECK-01-0131\",\"QIN-HEADNECK-01-0131\",\"QIN-HEADNECK-01-0131\",\"QIN-HEADNECK-01-0131\",\"QIN-HEADNECK-01-0131\",\"QIN-HEADNECK-01-0131\",\"QIN-HEADNECK-01-0135\",\"QIN-HEADNECK-01-0135\",\"QIN-HEADNECK-01-0135\",\"QIN-HEADNECK-01-0135\",\"QIN-HEADNECK-01-0135\",\"QIN-HEADNECK-01-0135\",\"QIN-HEADNECK-01-0135\",\"QIN-HEADNECK-01-0135\",\"QIN-HEADNECK-01-0135\",\"QIN-HEADNECK-01-0135\",\"QIN-HEADNECK-01-0135\",\"QIN-HEADNECK-01-0135\",\"QIN-HEADNECK-01-0137\",\"QIN-HEADNECK-01-0137\",\"QIN-HEADNECK-01-0137\",\"QIN-HEADNECK-01-0137\",\"QIN-HEADNECK-01-0137\",\"QIN-HEADNECK-01-0137\",\"QIN-HEADNECK-01-0137\",\"QIN-HEADNECK-01-0137\",\"QIN-HEADNECK-01-0137\",\"QIN-HEADNECK-01-0137\",\"QIN-HEADNECK-01-0137\",\"QIN-HEADNECK-01-0137\",\"QIN-HEADNECK-01-0139\",\"QIN-HEADNECK-01-0139\",\"QIN-HEADNECK-01-0139\",\"QIN-HEADNECK-01-0139\",\"QIN-HEADNECK-01-0139\",\"QIN-HEADNECK-01-0139\",\"QIN-HEADNECK-01-0139\",\"QIN-HEADNECK-01-0139\",\"QIN-HEADNECK-01-0139\",\"QIN-HEADNECK-01-0139\",\"QIN-HEADNECK-01-0139\",\"QIN-HEADNECK-01-0139\",\"QIN-HEADNECK-01-0140\",\"QIN-HEADNECK-01-0140\",\"QIN-HEADNECK-01-0140\",\"QIN-HEADNECK-01-0140\",\"QIN-HEADNECK-01-0140\",\"QIN-HEADNECK-01-0140\",\"QIN-HEADNECK-01-0140\",\"QIN-HEADNECK-01-0140\",\"QIN-HEADNECK-01-0140\",\"QIN-HEADNECK-01-0140\",\"QIN-HEADNECK-01-0140\",\"QIN-HEADNECK-01-0140\",\"QIN-HEADNECK-01-0157\",\"QIN-HEADNECK-01-0157\",\"QIN-HEADNECK-01-0157\",\"QIN-HEADNECK-01-0157\",\"QIN-HEADNECK-01-0157\",\"QIN-HEADNECK-01-0157\",\"QIN-HEADNECK-01-0157\",\"QIN-HEADNECK-01-0157\",\"QIN-HEADNECK-01-0157\",\"QIN-HEADNECK-01-0157\",\"QIN-HEADNECK-01-0157\",\"QIN-HEADNECK-01-0157\",\"QIN-HEADNECK-01-0164\",\"QIN-HEADNECK-01-0164\",\"QIN-HEADNECK-01-0164\",\"QIN-HEADNECK-01-0164\",\"QIN-HEADNECK-01-0164\",\"QIN-HEADNECK-01-0164\",\"QIN-HEADNECK-01-0164\",\"QIN-HEADNECK-01-0164\",\"QIN-HEADNECK-01-0164\",\"QIN-HEADNECK-01-0164\",\"QIN-HEADNECK-01-0164\",\"QIN-HEADNECK-01-0164\",\"QIN-HEADNECK-01-0165\",\"QIN-HEADNECK-01-0165\",\"QIN-HEADNECK-01-0165\",\"QIN-HEADNECK-01-0165\",\"QIN-HEADNECK-01-0165\",\"QIN-HEADNECK-01-0165\",\"QIN-HEADNECK-01-0165\",\"QIN-HEADNECK-01-0165\",\"QIN-HEADNECK-01-0165\",\"QIN-HEADNECK-01-0165\",\"QIN-HEADNECK-01-0165\",\"QIN-HEADNECK-01-0165\",\"QIN-HEADNECK-01-0172\",\"QIN-HEADNECK-01-0172\",\"QIN-HEADNECK-01-0172\",\"QIN-HEADNECK-01-0172\",\"QIN-HEADNECK-01-0172\",\"QIN-HEADNECK-01-0172\",\"QIN-HEADNECK-01-0172\",\"QIN-HEADNECK-01-0172\",\"QIN-HEADNECK-01-0172\",\"QIN-HEADNECK-01-0172\",\"QIN-HEADNECK-01-0172\",\"QIN-HEADNECK-01-0172\",\"QIN-HEADNECK-01-0180\",\"QIN-HEADNECK-01-0180\",\"QIN-HEADNECK-01-0180\",\"QIN-HEADNECK-01-0180\",\"QIN-HEADNECK-01-0180\",\"QIN-HEADNECK-01-0180\",\"QIN-HEADNECK-01-0180\",\"QIN-HEADNECK-01-0180\",\"QIN-HEADNECK-01-0180\",\"QIN-HEADNECK-01-0180\",\"QIN-HEADNECK-01-0180\",\"QIN-HEADNECK-01-0180\",\"QIN-HEADNECK-01-0184\",\"QIN-HEADNECK-01-0184\",\"QIN-HEADNECK-01-0184\",\"QIN-HEADNECK-01-0184\",\"QIN-HEADNECK-01-0184\",\"QIN-HEADNECK-01-0184\",\"QIN-HEADNECK-01-0184\",\"QIN-HEADNECK-01-0184\",\"QIN-HEADNECK-01-0184\",\"QIN-HEADNECK-01-0184\",\"QIN-HEADNECK-01-0184\",\"QIN-HEADNECK-01-0184\",\"QIN-HEADNECK-01-0186\",\"QIN-HEADNECK-01-0186\",\"QIN-HEADNECK-01-0186\",\"QIN-HEADNECK-01-0186\",\"QIN-HEADNECK-01-0186\",\"QIN-HEADNECK-01-0186\",\"QIN-HEADNECK-01-0186\",\"QIN-HEADNECK-01-0186\",\"QIN-HEADNECK-01-0186\",\"QIN-HEADNECK-01-0186\",\"QIN-HEADNECK-01-0186\",\"QIN-HEADNECK-01-0186\",\"QIN-HEADNECK-01-0190\",\"QIN-HEADNECK-01-0190\",\"QIN-HEADNECK-01-0190\",\"QIN-HEADNECK-01-0190\",\"QIN-HEADNECK-01-0190\",\"QIN-HEADNECK-01-0190\",\"QIN-HEADNECK-01-0190\",\"QIN-HEADNECK-01-0190\",\"QIN-HEADNECK-01-0190\",\"QIN-HEADNECK-01-0190\",\"QIN-HEADNECK-01-0190\",\"QIN-HEADNECK-01-0190\",\"QIN-HEADNECK-01-0199\",\"QIN-HEADNECK-01-0199\",\"QIN-HEADNECK-01-0199\",\"QIN-HEADNECK-01-0199\",\"QIN-HEADNECK-01-0199\",\"QIN-HEADNECK-01-0199\",\"QIN-HEADNECK-01-0199\",\"QIN-HEADNECK-01-0199\",\"QIN-HEADNECK-01-0199\",\"QIN-HEADNECK-01-0199\",\"QIN-HEADNECK-01-0199\",\"QIN-HEADNECK-01-0199\",\"QIN-HEADNECK-01-0200\",\"QIN-HEADNECK-01-0200\",\"QIN-HEADNECK-01-0200\",\"QIN-HEADNECK-01-0200\",\"QIN-HEADNECK-01-0200\",\"QIN-HEADNECK-01-0200\",\"QIN-HEADNECK-01-0200\",\"QIN-HEADNECK-01-0200\",\"QIN-HEADNECK-01-0200\",\"QIN-HEADNECK-01-0200\",\"QIN-HEADNECK-01-0200\",\"QIN-HEADNECK-01-0200\",\"QIN-HEADNECK-01-0201\",\"QIN-HEADNECK-01-0201\",\"QIN-HEADNECK-01-0201\",\"QIN-HEADNECK-01-0201\",\"QIN-HEADNECK-01-0201\",\"QIN-HEADNECK-01-0201\",\"QIN-HEADNECK-01-0201\",\"QIN-HEADNECK-01-0201\",\"QIN-HEADNECK-01-0201\",\"QIN-HEADNECK-01-0201\",\"QIN-HEADNECK-01-0201\",\"QIN-HEADNECK-01-0201\",\"QIN-HEADNECK-01-0203\",\"QIN-HEADNECK-01-0203\",\"QIN-HEADNECK-01-0203\",\"QIN-HEADNECK-01-0203\",\"QIN-HEADNECK-01-0203\",\"QIN-HEADNECK-01-0203\",\"QIN-HEADNECK-01-0203\",\"QIN-HEADNECK-01-0203\",\"QIN-HEADNECK-01-0203\",\"QIN-HEADNECK-01-0203\",\"QIN-HEADNECK-01-0203\",\"QIN-HEADNECK-01-0203\",\"QIN-HEADNECK-01-0212\",\"QIN-HEADNECK-01-0212\",\"QIN-HEADNECK-01-0212\",\"QIN-HEADNECK-01-0212\",\"QIN-HEADNECK-01-0212\",\"QIN-HEADNECK-01-0212\",\"QIN-HEADNECK-01-0212\",\"QIN-HEADNECK-01-0212\",\"QIN-HEADNECK-01-0212\",\"QIN-HEADNECK-01-0212\",\"QIN-HEADNECK-01-0212\",\"QIN-HEADNECK-01-0212\",\"QIN-HEADNECK-01-0214\",\"QIN-HEADNECK-01-0214\",\"QIN-HEADNECK-01-0214\",\"QIN-HEADNECK-01-0214\",\"QIN-HEADNECK-01-0214\",\"QIN-HEADNECK-01-0214\",\"QIN-HEADNECK-01-0214\",\"QIN-HEADNECK-01-0214\",\"QIN-HEADNECK-01-0214\",\"QIN-HEADNECK-01-0214\",\"QIN-HEADNECK-01-0214\",\"QIN-HEADNECK-01-0214\",\"QIN-HEADNECK-01-0220\",\"QIN-HEADNECK-01-0220\",\"QIN-HEADNECK-01-0220\",\"QIN-HEADNECK-01-0220\",\"QIN-HEADNECK-01-0220\",\"QIN-HEADNECK-01-0220\",\"QIN-HEADNECK-01-0220\",\"QIN-HEADNECK-01-0220\",\"QIN-HEADNECK-01-0220\",\"QIN-HEADNECK-01-0220\",\"QIN-HEADNECK-01-0220\",\"QIN-HEADNECK-01-0220\",\"QIN-HEADNECK-01-0222\",\"QIN-HEADNECK-01-0222\",\"QIN-HEADNECK-01-0222\",\"QIN-HEADNECK-01-0222\",\"QIN-HEADNECK-01-0222\",\"QIN-HEADNECK-01-0222\",\"QIN-HEADNECK-01-0222\",\"QIN-HEADNECK-01-0222\",\"QIN-HEADNECK-01-0222\",\"QIN-HEADNECK-01-0222\",\"QIN-HEADNECK-01-0222\",\"QIN-HEADNECK-01-0222\",\"QIN-HEADNECK-01-0224\",\"QIN-HEADNECK-01-0224\",\"QIN-HEADNECK-01-0224\",\"QIN-HEADNECK-01-0224\",\"QIN-HEADNECK-01-0224\",\"QIN-HEADNECK-01-0224\",\"QIN-HEADNECK-01-0224\",\"QIN-HEADNECK-01-0224\",\"QIN-HEADNECK-01-0224\",\"QIN-HEADNECK-01-0224\",\"QIN-HEADNECK-01-0224\",\"QIN-HEADNECK-01-0224\",\"QIN-HEADNECK-01-0228\",\"QIN-HEADNECK-01-0228\",\"QIN-HEADNECK-01-0228\",\"QIN-HEADNECK-01-0228\",\"QIN-HEADNECK-01-0228\",\"QIN-HEADNECK-01-0228\",\"QIN-HEADNECK-01-0228\",\"QIN-HEADNECK-01-0228\",\"QIN-HEADNECK-01-0228\",\"QIN-HEADNECK-01-0228\",\"QIN-HEADNECK-01-0228\",\"QIN-HEADNECK-01-0228\",\"QIN-HEADNECK-01-0239\",\"QIN-HEADNECK-01-0239\",\"QIN-HEADNECK-01-0239\",\"QIN-HEADNECK-01-0239\",\"QIN-HEADNECK-01-0239\",\"QIN-HEADNECK-01-0239\",\"QIN-HEADNECK-01-0239\",\"QIN-HEADNECK-01-0239\",\"QIN-HEADNECK-01-0239\",\"QIN-HEADNECK-01-0239\",\"QIN-HEADNECK-01-0239\",\"QIN-HEADNECK-01-0239\",\"QIN-HEADNECK-01-0244\",\"QIN-HEADNECK-01-0244\",\"QIN-HEADNECK-01-0244\",\"QIN-HEADNECK-01-0244\",\"QIN-HEADNECK-01-0244\",\"QIN-HEADNECK-01-0244\",\"QIN-HEADNECK-01-0244\",\"QIN-HEADNECK-01-0244\",\"QIN-HEADNECK-01-0244\",\"QIN-HEADNECK-01-0244\",\"QIN-HEADNECK-01-0244\",\"QIN-HEADNECK-01-0244\",\"QIN-HEADNECK-01-0275\",\"QIN-HEADNECK-01-0275\",\"QIN-HEADNECK-01-0275\",\"QIN-HEADNECK-01-0275\",\"QIN-HEADNECK-01-0275\",\"QIN-HEADNECK-01-0275\",\"QIN-HEADNECK-01-0275\",\"QIN-HEADNECK-01-0275\",\"QIN-HEADNECK-01-0275\",\"QIN-HEADNECK-01-0275\",\"QIN-HEADNECK-01-0275\",\"QIN-HEADNECK-01-0275\",\"QIN-HEADNECK-01-0366\",\"QIN-HEADNECK-01-0366\",\"QIN-HEADNECK-01-0366\",\"QIN-HEADNECK-01-0366\",\"QIN-HEADNECK-01-0366\",\"QIN-HEADNECK-01-0366\",\"QIN-HEADNECK-01-0366\",\"QIN-HEADNECK-01-0366\",\"QIN-HEADNECK-01-0366\",\"QIN-HEADNECK-01-0366\",\"QIN-HEADNECK-01-0366\",\"QIN-HEADNECK-01-0366\"]},\"id\":\"81642894-dfb6-45a1-a9a9-5c1dede4359a\",\"type\":\"FactorRange\"},{\"attributes\":{\"plot\":{\"id\":\"5fe6ca59-98b6-4dd4-bff3-aa83b8edfd6c\",\"subtype\":\"Figure\",\"type\":\"Plot\"}},\"id\":\"a5c17146-387c-4c13-860b-f7e6c4e09bf2\",\"type\":\"ResetTool\"}],\"root_ids\":[\"5fe6ca59-98b6-4dd4-bff3-aa83b8edfd6c\"]},\"title\":\"Bokeh Application\",\"version\":\"0.12.6\"}};\n",
       "            var render_items = [{\"docid\":\"6c9d7507-5aae-4c6c-956c-9791ea48bacb\",\"elementid\":\"7d417aca-3a5a-4ca4-8a7c-2a9b6ff474af\",\"modelid\":\"5fe6ca59-98b6-4dd4-bff3-aa83b8edfd6c\"}];\n",
       "            \n",
       "            Bokeh.embed.embed_items(docs_json, render_items);\n",
       "          };\n",
       "          if (document.readyState != \"loading\") fn();\n",
       "          else document.addEventListener(\"DOMContentLoaded\", fn);\n",
       "        })();\n",
       "      },\n",
       "      function(Bokeh) {\n",
       "      }\n",
       "    ];\n",
       "  \n",
       "    function run_inline_js() {\n",
       "      \n",
       "      if ((window.Bokeh !== undefined) || (force === true)) {\n",
       "        for (var i = 0; i < inline_js.length; i++) {\n",
       "          inline_js[i](window.Bokeh);\n",
       "        }if (force === true) {\n",
       "          display_loaded();\n",
       "        }} else if (Date.now() < window._bokeh_timeout) {\n",
       "        setTimeout(run_inline_js, 100);\n",
       "      } else if (!window._bokeh_failed_load) {\n",
       "        console.log(\"Bokeh: BokehJS failed to load within specified timeout.\");\n",
       "        window._bokeh_failed_load = true;\n",
       "      } else if (force !== true) {\n",
       "        var cell = $(document.getElementById(\"7d417aca-3a5a-4ca4-8a7c-2a9b6ff474af\")).parents('.cell').data().cell;\n",
       "        cell.output_area.append_execute_result(NB_LOAD_WARNING)\n",
       "      }\n",
       "  \n",
       "    }\n",
       "  \n",
       "    if (window._bokeh_is_loading === 0) {\n",
       "      console.log(\"Bokeh: BokehJS loaded, going straight to plotting\");\n",
       "      run_inline_js();\n",
       "    } else {\n",
       "      load_libs(js_urls, function() {\n",
       "        console.log(\"Bokeh: BokehJS plotting callback run at\", now());\n",
       "        run_inline_js();\n",
       "      });\n",
       "    }\n",
       "  }(this));\n",
       "</script>"
      ]
     },
     "metadata": {},
     "output_type": "display_data"
    }
   ],
   "source": [
    "volumes = subset[\"value\"].values\n",
    "observers = subset[\"PersonObserverName\"].values\n",
    "subjects = subset[\"PatientID\"].values\n",
    "\n",
    "#subset[\"segmentationToolType\"].unique()\n",
    "\n",
    "colormap = {'User1': 'red', 'User2': 'green', 'User3': 'blue'}\n",
    "colors = [colormap[x] for x in subset['PersonObserverName'].tolist()]\n",
    "\n",
    "source = ColumnDataSource(data=dict(\n",
    "    x=volumes,\n",
    "    y=subjects,\n",
    "    color=colors,\n",
    "    labels = subset[\"PersonObserverName\"].tolist()\n",
    "    ))\n",
    "\n",
    "hover = HoverTool(tooltips=[\n",
    "    (\"(Volume, Subject)\", \"($x, $y)\")\n",
    "])\n",
    "\n",
    "wZoom = WheelZoomTool()\n",
    "bZoom = BoxZoomTool()\n",
    "reset = ResetTool()\n",
    "pan = PanTool()\n",
    "\n",
    "p = figure(x_range=[np.min(volumes),np.max(volumes)], y_range=subjects.tolist(), \\\n",
    "           tools = [hover, wZoom, bZoom, reset, pan], \\\n",
    "           title=\"Variability of primary neoplasm volume by reader\")\n",
    "p.yaxis.axis_label = \"PatientID\"\n",
    "p.xaxis.axis_label = subset[\"quantity_CodeMeaning\"].values[0]+', '+subset['units_CodeMeaning'].values[0]\n",
    "\n",
    "p.circle('x','y',color='color',source=source, legend='labels')\n",
    "\n",
    "p.legend.location = \"bottom_right\"\n",
    "\n",
    "show(p)"
   ]
  },
  {
   "cell_type": "markdown",
   "metadata": {},
   "source": [
    "Note that there are 4, not 2, circles for each reader. The reason is that each lesion was segmented on 2 occasions using both manual and automated segmentation tools. \n",
    "\n",
    "You can figure the type of tool used and highlight the segmentations produced by the automated tools as a challenge - it is all in DICOM ;-)"
   ]
  },
  {
   "cell_type": "markdown",
   "metadata": {},
   "source": [
    "## Linking individual measurements with the images\n",
    "\n",
    "One of the cool things about DICOM is that it the storage objects are inherently cross-linked with each other. There are attributes that allow us to keep track of the relationships of the objects in the study and series, identification of the objects that belong to the same patient, dates that allow to track evolution of the disease over time.\n",
    "\n",
    "Derived DICOM objects, such as segmentations and measurements, also have the capability to store pointers to the images that were used to derive those segmentations/measurements. Given the measurements SR document, we can trace the related evidence via the unique identifiers it contains!\n",
    "\n",
    "For the dataset in hand, information about the references was stored by the `dcm2tables` conversion script into the **`References`** table."
   ]
  },
  {
   "cell_type": "code",
   "execution_count": 18,
   "metadata": {},
   "outputs": [
    {
     "data": {
      "text/plain": [
       "Index(['ReferencedSOPClassUID', 'ReferencedSOPInstanceUID', 'SOPInstanceUID',\n",
       "       'SeriesInstanceUID'],\n",
       "      dtype='object')"
      ]
     },
     "execution_count": 18,
     "metadata": {},
     "output_type": "execute_result"
    }
   ],
   "source": [
    "References=pd.read_csv(tablesPath+'/References.tsv', sep='\\t', low_memory=False)\n",
    "References.columns"
   ]
  },
  {
   "cell_type": "markdown",
   "metadata": {},
   "source": [
    "This table allows to identify all DICOM instances (`ReferencedSOPInstanceUID`) for a given instance (`SOPInstanceUID`) and its class UID, which uniquely identifies the type of DICOM object. Therefore, we can find all DICOM Segmentations referenced from the DICOM Structured report containing individual measurements, given the DICOM Structured Report `SOPInstanceUID`.\n",
    "\n",
    "**NOTE**: these references are not always mandated! You may not find them in the DICOM objects you encounter \"in the wild\"! :-("
   ]
  },
  {
   "cell_type": "code",
   "execution_count": 19,
   "metadata": {
    "collapsed": true
   },
   "outputs": [],
   "source": [
    "# 1.2.840.10008.5.1.4.1.1.66.4 is the SOPClassUID corresponding to the DICOM Segmentation image object\n",
    "segReferences = References[References[\"ReferencedSOPClassUID\"]=='1.2.840.10008.5.1.4.1.1.66.4']\n",
    "segReferences = segReferences[[\"SOPInstanceUID\",\"SeriesInstanceUID\"]].rename(columns={\"SeriesInstanceUID\":\"ReferencedSeriesInstanceUID\"})"
   ]
  },
  {
   "cell_type": "code",
   "execution_count": 20,
   "metadata": {},
   "outputs": [
    {
     "data": {
      "text/plain": [
       "(60531, 45)"
      ]
     },
     "execution_count": 20,
     "metadata": {},
     "output_type": "execute_result"
    }
   ],
   "source": [
    "# I am not a pandas expert, so just to be safe, I check that the dimensions of the data frame \n",
    "# do not change after the merge operation ...\n",
    "Measurements_merged.shape"
   ]
  },
  {
   "cell_type": "code",
   "execution_count": 21,
   "metadata": {},
   "outputs": [
    {
     "data": {
      "text/plain": [
       "(60531, 46)"
      ]
     },
     "execution_count": 21,
     "metadata": {},
     "output_type": "execute_result"
    }
   ],
   "source": [
    "Measurements_merged = pd.merge(Measurements_merged, segReferences)\n",
    "Measurements_merged.shape"
   ]
  },
  {
   "cell_type": "markdown",
   "metadata": {},
   "source": [
    "Now we have the pointer to the `SOPInstanceUID` of the segmentation used to calculate the measurement, for each measurement!\n",
    "\n",
    "To complete the integration, we will use the two more magic ingredients!\n",
    "\n",
    "1. Web application based on the open source zero-footprint Cornerstone web viewer developed by the [OHIF](https://github.com/ohif) project: https://pieper.github.io/dcmjs/examples/qiicr/index-dev.html. This application allows to browse the content of the QIN-HEADNECK dataset, and render the PET images with the segmentation overlay. A version of this application takes the `SeriesInstanceUID` of the DICOM Segmentation, and dereferences it to get the PET series, download everything to your browser, and do the rendering. Kudos to [Steve Pieper](https://github.com/pieper), [Erik Ziegler](https://github.com/swederik), [OHIF](https://github.com/ohif) and the [Cornerstone](https://github.com/chafey/cornerstone) team for developing this app!\n",
    "\n",
    "2. \"Tap tool\" provided by Bokeh out of the box that can be configured to redirect clicks on the plot to open a URL: http://bokeh.pydata.org/en/latest/docs/user_guide/interaction/callbacks.html#openurl. I am very impressed by Bokeh!"
   ]
  },
  {
   "cell_type": "code",
   "execution_count": 22,
   "metadata": {},
   "outputs": [
    {
     "data": {
      "text/html": [
       "\n",
       "\n",
       "    <div class=\"bk-root\">\n",
       "        <div class=\"bk-plotdiv\" id=\"d22cfb76-ce4b-42e9-9333-b4b7244a809f\"></div>\n",
       "    </div>\n",
       "<script type=\"text/javascript\">\n",
       "  \n",
       "  (function(global) {\n",
       "    function now() {\n",
       "      return new Date();\n",
       "    }\n",
       "  \n",
       "    var force = false;\n",
       "  \n",
       "    if (typeof (window._bokeh_onload_callbacks) === \"undefined\" || force === true) {\n",
       "      window._bokeh_onload_callbacks = [];\n",
       "      window._bokeh_is_loading = undefined;\n",
       "    }\n",
       "  \n",
       "  \n",
       "    \n",
       "    if (typeof (window._bokeh_timeout) === \"undefined\" || force === true) {\n",
       "      window._bokeh_timeout = Date.now() + 0;\n",
       "      window._bokeh_failed_load = false;\n",
       "    }\n",
       "  \n",
       "    var NB_LOAD_WARNING = {'data': {'text/html':\n",
       "       \"<div style='background-color: #fdd'>\\n\"+\n",
       "       \"<p>\\n\"+\n",
       "       \"BokehJS does not appear to have successfully loaded. If loading BokehJS from CDN, this \\n\"+\n",
       "       \"may be due to a slow or bad network connection. Possible fixes:\\n\"+\n",
       "       \"</p>\\n\"+\n",
       "       \"<ul>\\n\"+\n",
       "       \"<li>re-rerun `output_notebook()` to attempt to load from CDN again, or</li>\\n\"+\n",
       "       \"<li>use INLINE resources instead, as so:</li>\\n\"+\n",
       "       \"</ul>\\n\"+\n",
       "       \"<code>\\n\"+\n",
       "       \"from bokeh.resources import INLINE\\n\"+\n",
       "       \"output_notebook(resources=INLINE)\\n\"+\n",
       "       \"</code>\\n\"+\n",
       "       \"</div>\"}};\n",
       "  \n",
       "    function display_loaded() {\n",
       "      if (window.Bokeh !== undefined) {\n",
       "        var el = document.getElementById(\"d22cfb76-ce4b-42e9-9333-b4b7244a809f\");\n",
       "        el.textContent = \"BokehJS \" + Bokeh.version + \" successfully loaded.\";\n",
       "      } else if (Date.now() < window._bokeh_timeout) {\n",
       "        setTimeout(display_loaded, 100)\n",
       "      }\n",
       "    }\n",
       "  \n",
       "    function run_callbacks() {\n",
       "      try {\n",
       "        window._bokeh_onload_callbacks.forEach(function(callback) { callback() });\n",
       "      }\n",
       "      finally {\n",
       "        delete window._bokeh_onload_callbacks\n",
       "      }\n",
       "      console.info(\"Bokeh: all callbacks have finished\");\n",
       "    }\n",
       "  \n",
       "    function load_libs(js_urls, callback) {\n",
       "      window._bokeh_onload_callbacks.push(callback);\n",
       "      if (window._bokeh_is_loading > 0) {\n",
       "        console.log(\"Bokeh: BokehJS is being loaded, scheduling callback at\", now());\n",
       "        return null;\n",
       "      }\n",
       "      if (js_urls == null || js_urls.length === 0) {\n",
       "        run_callbacks();\n",
       "        return null;\n",
       "      }\n",
       "      console.log(\"Bokeh: BokehJS not loaded, scheduling load and callback at\", now());\n",
       "      window._bokeh_is_loading = js_urls.length;\n",
       "      for (var i = 0; i < js_urls.length; i++) {\n",
       "        var url = js_urls[i];\n",
       "        var s = document.createElement('script');\n",
       "        s.src = url;\n",
       "        s.async = false;\n",
       "        s.onreadystatechange = s.onload = function() {\n",
       "          window._bokeh_is_loading--;\n",
       "          if (window._bokeh_is_loading === 0) {\n",
       "            console.log(\"Bokeh: all BokehJS libraries loaded\");\n",
       "            run_callbacks()\n",
       "          }\n",
       "        };\n",
       "        s.onerror = function() {\n",
       "          console.warn(\"failed to load library \" + url);\n",
       "        };\n",
       "        console.log(\"Bokeh: injecting script tag for BokehJS library: \", url);\n",
       "        document.getElementsByTagName(\"head\")[0].appendChild(s);\n",
       "      }\n",
       "    };var element = document.getElementById(\"d22cfb76-ce4b-42e9-9333-b4b7244a809f\");\n",
       "    if (element == null) {\n",
       "      console.log(\"Bokeh: ERROR: autoload.js configured with elementid 'd22cfb76-ce4b-42e9-9333-b4b7244a809f' but no matching script tag was found. \")\n",
       "      return false;\n",
       "    }\n",
       "  \n",
       "    var js_urls = [];\n",
       "  \n",
       "    var inline_js = [\n",
       "      function(Bokeh) {\n",
       "        (function() {\n",
       "          var fn = function() {\n",
       "            var docs_json = {\"89a79d59-3422-4a59-8bb1-d99baf503b5e\":{\"roots\":{\"references\":[{\"attributes\":{\"plot\":{\"id\":\"5b1d3571-6450-4c3d-911d-cee09a5ff0c1\",\"subtype\":\"Figure\",\"type\":\"Plot\"},\"ticker\":{\"id\":\"e93fea3a-351e-411f-af8c-2935acea0f2a\",\"type\":\"BasicTicker\"}},\"id\":\"3bdee3f9-fbe1-4670-bd34-b8d729541e86\",\"type\":\"Grid\"},{\"attributes\":{},\"id\":\"2d0c9428-96ad-424c-9fe0-cec33a3ea93d\",\"type\":\"ToolEvents\"},{\"attributes\":{},\"id\":\"7ea252dd-e38f-46e5-91d9-99506699e8c3\",\"type\":\"CategoricalTicker\"},{\"attributes\":{\"axis_label\":\"Volume, Milliliter\",\"formatter\":{\"id\":\"4eca7045-4526-42bf-9e50-97fd1a9eeb6d\",\"type\":\"BasicTickFormatter\"},\"plot\":{\"id\":\"5b1d3571-6450-4c3d-911d-cee09a5ff0c1\",\"subtype\":\"Figure\",\"type\":\"Plot\"},\"ticker\":{\"id\":\"e93fea3a-351e-411f-af8c-2935acea0f2a\",\"type\":\"BasicTicker\"}},\"id\":\"8b3f9bb2-af8f-4180-ab8a-5b29f9d68d23\",\"type\":\"LinearAxis\"},{\"attributes\":{\"active_drag\":\"auto\",\"active_inspect\":\"auto\",\"active_scroll\":\"auto\",\"active_tap\":\"auto\",\"tools\":[{\"id\":\"7a12cdac-a96e-4fe8-8311-b47c94c46251\",\"type\":\"HoverTool\"},{\"id\":\"c2114016-aea6-47c4-98c0-b1a247a0df91\",\"type\":\"WheelZoomTool\"},{\"id\":\"54b31150-e8c8-42b1-a8d0-248fe8afc3dc\",\"type\":\"BoxZoomTool\"},{\"id\":\"1fc444a2-41fa-43f4-85bf-647494417d90\",\"type\":\"ResetTool\"},{\"id\":\"a1b2f0a5-15bd-4f2b-be56-6082ee25e70e\",\"type\":\"TapTool\"},{\"id\":\"44228946-73c2-48e2-b551-b1a2e9630db0\",\"type\":\"PanTool\"}]},\"id\":\"146db186-b65d-48ef-9bed-81ecbd8eaba4\",\"type\":\"Toolbar\"},{\"attributes\":{\"fill_color\":{\"field\":\"color\"},\"line_color\":{\"field\":\"color\"},\"x\":{\"field\":\"x\"},\"y\":{\"field\":\"y\"}},\"id\":\"ee86a15c-7510-4c2a-87fe-93582394ed25\",\"type\":\"Circle\"},{\"attributes\":{\"overlay\":{\"id\":\"0162220b-0cb5-44b9-9827-2bc49e066d40\",\"type\":\"BoxAnnotation\"},\"plot\":{\"id\":\"5b1d3571-6450-4c3d-911d-cee09a5ff0c1\",\"subtype\":\"Figure\",\"type\":\"Plot\"}},\"id\":\"54b31150-e8c8-42b1-a8d0-248fe8afc3dc\",\"type\":\"BoxZoomTool\"},{\"attributes\":{},\"id\":\"e93fea3a-351e-411f-af8c-2935acea0f2a\",\"type\":\"BasicTicker\"},{\"attributes\":{\"formatter\":{\"id\":\"83878394-a162-46e6-96ba-8d5a78cb7e42\",\"type\":\"CategoricalTickFormatter\"},\"plot\":{\"id\":\"5b1d3571-6450-4c3d-911d-cee09a5ff0c1\",\"subtype\":\"Figure\",\"type\":\"Plot\"},\"ticker\":{\"id\":\"7ea252dd-e38f-46e5-91d9-99506699e8c3\",\"type\":\"CategoricalTicker\"}},\"id\":\"9fd68505-637b-42a8-9153-f4904495bb13\",\"type\":\"CategoricalAxis\"},{\"attributes\":{\"below\":[{\"id\":\"8b3f9bb2-af8f-4180-ab8a-5b29f9d68d23\",\"type\":\"LinearAxis\"}],\"left\":[{\"id\":\"9fd68505-637b-42a8-9153-f4904495bb13\",\"type\":\"CategoricalAxis\"}],\"renderers\":[{\"id\":\"8b3f9bb2-af8f-4180-ab8a-5b29f9d68d23\",\"type\":\"LinearAxis\"},{\"id\":\"3bdee3f9-fbe1-4670-bd34-b8d729541e86\",\"type\":\"Grid\"},{\"id\":\"9fd68505-637b-42a8-9153-f4904495bb13\",\"type\":\"CategoricalAxis\"},{\"id\":\"7f343053-b933-42dc-963b-b2ea7ded94ea\",\"type\":\"Grid\"},{\"id\":\"0162220b-0cb5-44b9-9827-2bc49e066d40\",\"type\":\"BoxAnnotation\"},{\"id\":\"e4f544ef-7576-4438-ae6f-dc4df84915c7\",\"type\":\"GlyphRenderer\"}],\"title\":{\"id\":\"682eb52e-5eeb-4164-b494-eb7dc84a1962\",\"type\":\"Title\"},\"tool_events\":{\"id\":\"2d0c9428-96ad-424c-9fe0-cec33a3ea93d\",\"type\":\"ToolEvents\"},\"toolbar\":{\"id\":\"146db186-b65d-48ef-9bed-81ecbd8eaba4\",\"type\":\"Toolbar\"},\"x_range\":{\"id\":\"f04dfcbe-682d-48a6-9c14-f67e198b849a\",\"type\":\"Range1d\"},\"x_scale\":{\"id\":\"5ca523ac-f050-4471-a567-bee55a31a27b\",\"type\":\"LinearScale\"},\"y_range\":{\"id\":\"419ab60a-9433-4fe0-bc86-4add586e3745\",\"type\":\"FactorRange\"},\"y_scale\":{\"id\":\"02b6219e-1940-4875-aefe-3a858846d5f3\",\"type\":\"CategoricalScale\"}},\"id\":\"5b1d3571-6450-4c3d-911d-cee09a5ff0c1\",\"subtype\":\"Figure\",\"type\":\"Plot\"},{\"attributes\":{},\"id\":\"83878394-a162-46e6-96ba-8d5a78cb7e42\",\"type\":\"CategoricalTickFormatter\"},{\"attributes\":{\"callback\":null,\"factors\":[\"QIN-HEADNECK-01-0003\",\"QIN-HEADNECK-01-0003\",\"QIN-HEADNECK-01-0003\",\"QIN-HEADNECK-01-0003\",\"QIN-HEADNECK-01-0003\",\"QIN-HEADNECK-01-0003\",\"QIN-HEADNECK-01-0003\",\"QIN-HEADNECK-01-0003\",\"QIN-HEADNECK-01-0003\",\"QIN-HEADNECK-01-0003\",\"QIN-HEADNECK-01-0003\",\"QIN-HEADNECK-01-0003\",\"QIN-HEADNECK-01-0017\",\"QIN-HEADNECK-01-0017\",\"QIN-HEADNECK-01-0017\",\"QIN-HEADNECK-01-0017\",\"QIN-HEADNECK-01-0017\",\"QIN-HEADNECK-01-0017\",\"QIN-HEADNECK-01-0017\",\"QIN-HEADNECK-01-0017\",\"QIN-HEADNECK-01-0017\",\"QIN-HEADNECK-01-0017\",\"QIN-HEADNECK-01-0017\",\"QIN-HEADNECK-01-0017\",\"QIN-HEADNECK-01-0024\",\"QIN-HEADNECK-01-0024\",\"QIN-HEADNECK-01-0024\",\"QIN-HEADNECK-01-0024\",\"QIN-HEADNECK-01-0024\",\"QIN-HEADNECK-01-0024\",\"QIN-HEADNECK-01-0024\",\"QIN-HEADNECK-01-0024\",\"QIN-HEADNECK-01-0024\",\"QIN-HEADNECK-01-0024\",\"QIN-HEADNECK-01-0024\",\"QIN-HEADNECK-01-0024\",\"QIN-HEADNECK-01-0026\",\"QIN-HEADNECK-01-0026\",\"QIN-HEADNECK-01-0026\",\"QIN-HEADNECK-01-0026\",\"QIN-HEADNECK-01-0026\",\"QIN-HEADNECK-01-0026\",\"QIN-HEADNECK-01-0026\",\"QIN-HEADNECK-01-0026\",\"QIN-HEADNECK-01-0026\",\"QIN-HEADNECK-01-0026\",\"QIN-HEADNECK-01-0026\",\"QIN-HEADNECK-01-0026\",\"QIN-HEADNECK-01-0028\",\"QIN-HEADNECK-01-0028\",\"QIN-HEADNECK-01-0028\",\"QIN-HEADNECK-01-0028\",\"QIN-HEADNECK-01-0028\",\"QIN-HEADNECK-01-0028\",\"QIN-HEADNECK-01-0028\",\"QIN-HEADNECK-01-0028\",\"QIN-HEADNECK-01-0028\",\"QIN-HEADNECK-01-0028\",\"QIN-HEADNECK-01-0028\",\"QIN-HEADNECK-01-0028\",\"QIN-HEADNECK-01-0034\",\"QIN-HEADNECK-01-0034\",\"QIN-HEADNECK-01-0034\",\"QIN-HEADNECK-01-0034\",\"QIN-HEADNECK-01-0034\",\"QIN-HEADNECK-01-0034\",\"QIN-HEADNECK-01-0034\",\"QIN-HEADNECK-01-0034\",\"QIN-HEADNECK-01-0034\",\"QIN-HEADNECK-01-0034\",\"QIN-HEADNECK-01-0034\",\"QIN-HEADNECK-01-0034\",\"QIN-HEADNECK-01-0041\",\"QIN-HEADNECK-01-0041\",\"QIN-HEADNECK-01-0041\",\"QIN-HEADNECK-01-0041\",\"QIN-HEADNECK-01-0041\",\"QIN-HEADNECK-01-0041\",\"QIN-HEADNECK-01-0041\",\"QIN-HEADNECK-01-0041\",\"QIN-HEADNECK-01-0041\",\"QIN-HEADNECK-01-0041\",\"QIN-HEADNECK-01-0041\",\"QIN-HEADNECK-01-0041\",\"QIN-HEADNECK-01-0046\",\"QIN-HEADNECK-01-0046\",\"QIN-HEADNECK-01-0046\",\"QIN-HEADNECK-01-0046\",\"QIN-HEADNECK-01-0046\",\"QIN-HEADNECK-01-0046\",\"QIN-HEADNECK-01-0046\",\"QIN-HEADNECK-01-0046\",\"QIN-HEADNECK-01-0046\",\"QIN-HEADNECK-01-0046\",\"QIN-HEADNECK-01-0046\",\"QIN-HEADNECK-01-0046\",\"QIN-HEADNECK-01-0047\",\"QIN-HEADNECK-01-0047\",\"QIN-HEADNECK-01-0047\",\"QIN-HEADNECK-01-0047\",\"QIN-HEADNECK-01-0047\",\"QIN-HEADNECK-01-0047\",\"QIN-HEADNECK-01-0047\",\"QIN-HEADNECK-01-0047\",\"QIN-HEADNECK-01-0047\",\"QIN-HEADNECK-01-0047\",\"QIN-HEADNECK-01-0047\",\"QIN-HEADNECK-01-0047\",\"QIN-HEADNECK-01-0055\",\"QIN-HEADNECK-01-0055\",\"QIN-HEADNECK-01-0055\",\"QIN-HEADNECK-01-0055\",\"QIN-HEADNECK-01-0055\",\"QIN-HEADNECK-01-0055\",\"QIN-HEADNECK-01-0055\",\"QIN-HEADNECK-01-0055\",\"QIN-HEADNECK-01-0055\",\"QIN-HEADNECK-01-0055\",\"QIN-HEADNECK-01-0055\",\"QIN-HEADNECK-01-0055\",\"QIN-HEADNECK-01-0057\",\"QIN-HEADNECK-01-0057\",\"QIN-HEADNECK-01-0057\",\"QIN-HEADNECK-01-0057\",\"QIN-HEADNECK-01-0057\",\"QIN-HEADNECK-01-0057\",\"QIN-HEADNECK-01-0057\",\"QIN-HEADNECK-01-0057\",\"QIN-HEADNECK-01-0057\",\"QIN-HEADNECK-01-0057\",\"QIN-HEADNECK-01-0057\",\"QIN-HEADNECK-01-0057\",\"QIN-HEADNECK-01-0060\",\"QIN-HEADNECK-01-0060\",\"QIN-HEADNECK-01-0060\",\"QIN-HEADNECK-01-0060\",\"QIN-HEADNECK-01-0060\",\"QIN-HEADNECK-01-0060\",\"QIN-HEADNECK-01-0060\",\"QIN-HEADNECK-01-0060\",\"QIN-HEADNECK-01-0060\",\"QIN-HEADNECK-01-0060\",\"QIN-HEADNECK-01-0060\",\"QIN-HEADNECK-01-0060\",\"QIN-HEADNECK-01-0062\",\"QIN-HEADNECK-01-0062\",\"QIN-HEADNECK-01-0062\",\"QIN-HEADNECK-01-0062\",\"QIN-HEADNECK-01-0062\",\"QIN-HEADNECK-01-0062\",\"QIN-HEADNECK-01-0062\",\"QIN-HEADNECK-01-0062\",\"QIN-HEADNECK-01-0062\",\"QIN-HEADNECK-01-0062\",\"QIN-HEADNECK-01-0062\",\"QIN-HEADNECK-01-0062\",\"QIN-HEADNECK-01-0064\",\"QIN-HEADNECK-01-0064\",\"QIN-HEADNECK-01-0064\",\"QIN-HEADNECK-01-0064\",\"QIN-HEADNECK-01-0064\",\"QIN-HEADNECK-01-0064\",\"QIN-HEADNECK-01-0064\",\"QIN-HEADNECK-01-0064\",\"QIN-HEADNECK-01-0064\",\"QIN-HEADNECK-01-0064\",\"QIN-HEADNECK-01-0064\",\"QIN-HEADNECK-01-0064\",\"QIN-HEADNECK-01-0065\",\"QIN-HEADNECK-01-0065\",\"QIN-HEADNECK-01-0065\",\"QIN-HEADNECK-01-0065\",\"QIN-HEADNECK-01-0065\",\"QIN-HEADNECK-01-0065\",\"QIN-HEADNECK-01-0065\",\"QIN-HEADNECK-01-0065\",\"QIN-HEADNECK-01-0065\",\"QIN-HEADNECK-01-0065\",\"QIN-HEADNECK-01-0065\",\"QIN-HEADNECK-01-0065\",\"QIN-HEADNECK-01-0067\",\"QIN-HEADNECK-01-0067\",\"QIN-HEADNECK-01-0067\",\"QIN-HEADNECK-01-0067\",\"QIN-HEADNECK-01-0067\",\"QIN-HEADNECK-01-0067\",\"QIN-HEADNECK-01-0067\",\"QIN-HEADNECK-01-0067\",\"QIN-HEADNECK-01-0067\",\"QIN-HEADNECK-01-0067\",\"QIN-HEADNECK-01-0067\",\"QIN-HEADNECK-01-0067\",\"QIN-HEADNECK-01-0071\",\"QIN-HEADNECK-01-0071\",\"QIN-HEADNECK-01-0071\",\"QIN-HEADNECK-01-0071\",\"QIN-HEADNECK-01-0071\",\"QIN-HEADNECK-01-0071\",\"QIN-HEADNECK-01-0071\",\"QIN-HEADNECK-01-0071\",\"QIN-HEADNECK-01-0071\",\"QIN-HEADNECK-01-0071\",\"QIN-HEADNECK-01-0071\",\"QIN-HEADNECK-01-0071\",\"QIN-HEADNECK-01-0074\",\"QIN-HEADNECK-01-0074\",\"QIN-HEADNECK-01-0074\",\"QIN-HEADNECK-01-0074\",\"QIN-HEADNECK-01-0074\",\"QIN-HEADNECK-01-0074\",\"QIN-HEADNECK-01-0074\",\"QIN-HEADNECK-01-0074\",\"QIN-HEADNECK-01-0074\",\"QIN-HEADNECK-01-0074\",\"QIN-HEADNECK-01-0074\",\"QIN-HEADNECK-01-0074\",\"QIN-HEADNECK-01-0079\",\"QIN-HEADNECK-01-0079\",\"QIN-HEADNECK-01-0079\",\"QIN-HEADNECK-01-0079\",\"QIN-HEADNECK-01-0079\",\"QIN-HEADNECK-01-0079\",\"QIN-HEADNECK-01-0079\",\"QIN-HEADNECK-01-0079\",\"QIN-HEADNECK-01-0079\",\"QIN-HEADNECK-01-0079\",\"QIN-HEADNECK-01-0079\",\"QIN-HEADNECK-01-0079\",\"QIN-HEADNECK-01-0081\",\"QIN-HEADNECK-01-0081\",\"QIN-HEADNECK-01-0081\",\"QIN-HEADNECK-01-0081\",\"QIN-HEADNECK-01-0081\",\"QIN-HEADNECK-01-0081\",\"QIN-HEADNECK-01-0081\",\"QIN-HEADNECK-01-0081\",\"QIN-HEADNECK-01-0081\",\"QIN-HEADNECK-01-0081\",\"QIN-HEADNECK-01-0081\",\"QIN-HEADNECK-01-0081\",\"QIN-HEADNECK-01-0086\",\"QIN-HEADNECK-01-0086\",\"QIN-HEADNECK-01-0086\",\"QIN-HEADNECK-01-0086\",\"QIN-HEADNECK-01-0086\",\"QIN-HEADNECK-01-0086\",\"QIN-HEADNECK-01-0086\",\"QIN-HEADNECK-01-0086\",\"QIN-HEADNECK-01-0086\",\"QIN-HEADNECK-01-0086\",\"QIN-HEADNECK-01-0086\",\"QIN-HEADNECK-01-0086\",\"QIN-HEADNECK-01-0089\",\"QIN-HEADNECK-01-0089\",\"QIN-HEADNECK-01-0089\",\"QIN-HEADNECK-01-0089\",\"QIN-HEADNECK-01-0089\",\"QIN-HEADNECK-01-0089\",\"QIN-HEADNECK-01-0089\",\"QIN-HEADNECK-01-0089\",\"QIN-HEADNECK-01-0089\",\"QIN-HEADNECK-01-0089\",\"QIN-HEADNECK-01-0089\",\"QIN-HEADNECK-01-0089\",\"QIN-HEADNECK-01-0091\",\"QIN-HEADNECK-01-0091\",\"QIN-HEADNECK-01-0091\",\"QIN-HEADNECK-01-0091\",\"QIN-HEADNECK-01-0091\",\"QIN-HEADNECK-01-0091\",\"QIN-HEADNECK-01-0091\",\"QIN-HEADNECK-01-0091\",\"QIN-HEADNECK-01-0091\",\"QIN-HEADNECK-01-0091\",\"QIN-HEADNECK-01-0091\",\"QIN-HEADNECK-01-0091\",\"QIN-HEADNECK-01-0098\",\"QIN-HEADNECK-01-0098\",\"QIN-HEADNECK-01-0098\",\"QIN-HEADNECK-01-0098\",\"QIN-HEADNECK-01-0098\",\"QIN-HEADNECK-01-0098\",\"QIN-HEADNECK-01-0098\",\"QIN-HEADNECK-01-0098\",\"QIN-HEADNECK-01-0098\",\"QIN-HEADNECK-01-0098\",\"QIN-HEADNECK-01-0098\",\"QIN-HEADNECK-01-0098\",\"QIN-HEADNECK-01-0100\",\"QIN-HEADNECK-01-0100\",\"QIN-HEADNECK-01-0100\",\"QIN-HEADNECK-01-0100\",\"QIN-HEADNECK-01-0100\",\"QIN-HEADNECK-01-0100\",\"QIN-HEADNECK-01-0100\",\"QIN-HEADNECK-01-0100\",\"QIN-HEADNECK-01-0100\",\"QIN-HEADNECK-01-0100\",\"QIN-HEADNECK-01-0100\",\"QIN-HEADNECK-01-0100\",\"QIN-HEADNECK-01-0112\",\"QIN-HEADNECK-01-0112\",\"QIN-HEADNECK-01-0112\",\"QIN-HEADNECK-01-0112\",\"QIN-HEADNECK-01-0112\",\"QIN-HEADNECK-01-0112\",\"QIN-HEADNECK-01-0112\",\"QIN-HEADNECK-01-0112\",\"QIN-HEADNECK-01-0112\",\"QIN-HEADNECK-01-0112\",\"QIN-HEADNECK-01-0112\",\"QIN-HEADNECK-01-0112\",\"QIN-HEADNECK-01-0115\",\"QIN-HEADNECK-01-0115\",\"QIN-HEADNECK-01-0115\",\"QIN-HEADNECK-01-0115\",\"QIN-HEADNECK-01-0115\",\"QIN-HEADNECK-01-0115\",\"QIN-HEADNECK-01-0115\",\"QIN-HEADNECK-01-0115\",\"QIN-HEADNECK-01-0115\",\"QIN-HEADNECK-01-0115\",\"QIN-HEADNECK-01-0115\",\"QIN-HEADNECK-01-0115\",\"QIN-HEADNECK-01-0116\",\"QIN-HEADNECK-01-0116\",\"QIN-HEADNECK-01-0116\",\"QIN-HEADNECK-01-0116\",\"QIN-HEADNECK-01-0116\",\"QIN-HEADNECK-01-0116\",\"QIN-HEADNECK-01-0116\",\"QIN-HEADNECK-01-0116\",\"QIN-HEADNECK-01-0116\",\"QIN-HEADNECK-01-0116\",\"QIN-HEADNECK-01-0116\",\"QIN-HEADNECK-01-0116\",\"QIN-HEADNECK-01-0118\",\"QIN-HEADNECK-01-0118\",\"QIN-HEADNECK-01-0118\",\"QIN-HEADNECK-01-0118\",\"QIN-HEADNECK-01-0118\",\"QIN-HEADNECK-01-0118\",\"QIN-HEADNECK-01-0118\",\"QIN-HEADNECK-01-0118\",\"QIN-HEADNECK-01-0118\",\"QIN-HEADNECK-01-0118\",\"QIN-HEADNECK-01-0118\",\"QIN-HEADNECK-01-0118\",\"QIN-HEADNECK-01-0120\",\"QIN-HEADNECK-01-0120\",\"QIN-HEADNECK-01-0120\",\"QIN-HEADNECK-01-0120\",\"QIN-HEADNECK-01-0120\",\"QIN-HEADNECK-01-0120\",\"QIN-HEADNECK-01-0120\",\"QIN-HEADNECK-01-0120\",\"QIN-HEADNECK-01-0120\",\"QIN-HEADNECK-01-0120\",\"QIN-HEADNECK-01-0120\",\"QIN-HEADNECK-01-0120\",\"QIN-HEADNECK-01-0127\",\"QIN-HEADNECK-01-0127\",\"QIN-HEADNECK-01-0127\",\"QIN-HEADNECK-01-0127\",\"QIN-HEADNECK-01-0127\",\"QIN-HEADNECK-01-0127\",\"QIN-HEADNECK-01-0127\",\"QIN-HEADNECK-01-0127\",\"QIN-HEADNECK-01-0127\",\"QIN-HEADNECK-01-0127\",\"QIN-HEADNECK-01-0127\",\"QIN-HEADNECK-01-0127\",\"QIN-HEADNECK-01-0129\",\"QIN-HEADNECK-01-0129\",\"QIN-HEADNECK-01-0129\",\"QIN-HEADNECK-01-0129\",\"QIN-HEADNECK-01-0129\",\"QIN-HEADNECK-01-0129\",\"QIN-HEADNECK-01-0129\",\"QIN-HEADNECK-01-0129\",\"QIN-HEADNECK-01-0129\",\"QIN-HEADNECK-01-0129\",\"QIN-HEADNECK-01-0129\",\"QIN-HEADNECK-01-0129\",\"QIN-HEADNECK-01-0131\",\"QIN-HEADNECK-01-0131\",\"QIN-HEADNECK-01-0131\",\"QIN-HEADNECK-01-0131\",\"QIN-HEADNECK-01-0131\",\"QIN-HEADNECK-01-0131\",\"QIN-HEADNECK-01-0131\",\"QIN-HEADNECK-01-0131\",\"QIN-HEADNECK-01-0131\",\"QIN-HEADNECK-01-0131\",\"QIN-HEADNECK-01-0131\",\"QIN-HEADNECK-01-0131\",\"QIN-HEADNECK-01-0135\",\"QIN-HEADNECK-01-0135\",\"QIN-HEADNECK-01-0135\",\"QIN-HEADNECK-01-0135\",\"QIN-HEADNECK-01-0135\",\"QIN-HEADNECK-01-0135\",\"QIN-HEADNECK-01-0135\",\"QIN-HEADNECK-01-0135\",\"QIN-HEADNECK-01-0135\",\"QIN-HEADNECK-01-0135\",\"QIN-HEADNECK-01-0135\",\"QIN-HEADNECK-01-0135\",\"QIN-HEADNECK-01-0137\",\"QIN-HEADNECK-01-0137\",\"QIN-HEADNECK-01-0137\",\"QIN-HEADNECK-01-0137\",\"QIN-HEADNECK-01-0137\",\"QIN-HEADNECK-01-0137\",\"QIN-HEADNECK-01-0137\",\"QIN-HEADNECK-01-0137\",\"QIN-HEADNECK-01-0137\",\"QIN-HEADNECK-01-0137\",\"QIN-HEADNECK-01-0137\",\"QIN-HEADNECK-01-0137\",\"QIN-HEADNECK-01-0139\",\"QIN-HEADNECK-01-0139\",\"QIN-HEADNECK-01-0139\",\"QIN-HEADNECK-01-0139\",\"QIN-HEADNECK-01-0139\",\"QIN-HEADNECK-01-0139\",\"QIN-HEADNECK-01-0139\",\"QIN-HEADNECK-01-0139\",\"QIN-HEADNECK-01-0139\",\"QIN-HEADNECK-01-0139\",\"QIN-HEADNECK-01-0139\",\"QIN-HEADNECK-01-0139\",\"QIN-HEADNECK-01-0140\",\"QIN-HEADNECK-01-0140\",\"QIN-HEADNECK-01-0140\",\"QIN-HEADNECK-01-0140\",\"QIN-HEADNECK-01-0140\",\"QIN-HEADNECK-01-0140\",\"QIN-HEADNECK-01-0140\",\"QIN-HEADNECK-01-0140\",\"QIN-HEADNECK-01-0140\",\"QIN-HEADNECK-01-0140\",\"QIN-HEADNECK-01-0140\",\"QIN-HEADNECK-01-0140\",\"QIN-HEADNECK-01-0157\",\"QIN-HEADNECK-01-0157\",\"QIN-HEADNECK-01-0157\",\"QIN-HEADNECK-01-0157\",\"QIN-HEADNECK-01-0157\",\"QIN-HEADNECK-01-0157\",\"QIN-HEADNECK-01-0157\",\"QIN-HEADNECK-01-0157\",\"QIN-HEADNECK-01-0157\",\"QIN-HEADNECK-01-0157\",\"QIN-HEADNECK-01-0157\",\"QIN-HEADNECK-01-0157\",\"QIN-HEADNECK-01-0164\",\"QIN-HEADNECK-01-0164\",\"QIN-HEADNECK-01-0164\",\"QIN-HEADNECK-01-0164\",\"QIN-HEADNECK-01-0164\",\"QIN-HEADNECK-01-0164\",\"QIN-HEADNECK-01-0164\",\"QIN-HEADNECK-01-0164\",\"QIN-HEADNECK-01-0164\",\"QIN-HEADNECK-01-0164\",\"QIN-HEADNECK-01-0164\",\"QIN-HEADNECK-01-0164\",\"QIN-HEADNECK-01-0165\",\"QIN-HEADNECK-01-0165\",\"QIN-HEADNECK-01-0165\",\"QIN-HEADNECK-01-0165\",\"QIN-HEADNECK-01-0165\",\"QIN-HEADNECK-01-0165\",\"QIN-HEADNECK-01-0165\",\"QIN-HEADNECK-01-0165\",\"QIN-HEADNECK-01-0165\",\"QIN-HEADNECK-01-0165\",\"QIN-HEADNECK-01-0165\",\"QIN-HEADNECK-01-0165\",\"QIN-HEADNECK-01-0172\",\"QIN-HEADNECK-01-0172\",\"QIN-HEADNECK-01-0172\",\"QIN-HEADNECK-01-0172\",\"QIN-HEADNECK-01-0172\",\"QIN-HEADNECK-01-0172\",\"QIN-HEADNECK-01-0172\",\"QIN-HEADNECK-01-0172\",\"QIN-HEADNECK-01-0172\",\"QIN-HEADNECK-01-0172\",\"QIN-HEADNECK-01-0172\",\"QIN-HEADNECK-01-0172\",\"QIN-HEADNECK-01-0180\",\"QIN-HEADNECK-01-0180\",\"QIN-HEADNECK-01-0180\",\"QIN-HEADNECK-01-0180\",\"QIN-HEADNECK-01-0180\",\"QIN-HEADNECK-01-0180\",\"QIN-HEADNECK-01-0180\",\"QIN-HEADNECK-01-0180\",\"QIN-HEADNECK-01-0180\",\"QIN-HEADNECK-01-0180\",\"QIN-HEADNECK-01-0180\",\"QIN-HEADNECK-01-0180\",\"QIN-HEADNECK-01-0184\",\"QIN-HEADNECK-01-0184\",\"QIN-HEADNECK-01-0184\",\"QIN-HEADNECK-01-0184\",\"QIN-HEADNECK-01-0184\",\"QIN-HEADNECK-01-0184\",\"QIN-HEADNECK-01-0184\",\"QIN-HEADNECK-01-0184\",\"QIN-HEADNECK-01-0184\",\"QIN-HEADNECK-01-0184\",\"QIN-HEADNECK-01-0184\",\"QIN-HEADNECK-01-0184\",\"QIN-HEADNECK-01-0186\",\"QIN-HEADNECK-01-0186\",\"QIN-HEADNECK-01-0186\",\"QIN-HEADNECK-01-0186\",\"QIN-HEADNECK-01-0186\",\"QIN-HEADNECK-01-0186\",\"QIN-HEADNECK-01-0186\",\"QIN-HEADNECK-01-0186\",\"QIN-HEADNECK-01-0186\",\"QIN-HEADNECK-01-0186\",\"QIN-HEADNECK-01-0186\",\"QIN-HEADNECK-01-0186\",\"QIN-HEADNECK-01-0190\",\"QIN-HEADNECK-01-0190\",\"QIN-HEADNECK-01-0190\",\"QIN-HEADNECK-01-0190\",\"QIN-HEADNECK-01-0190\",\"QIN-HEADNECK-01-0190\",\"QIN-HEADNECK-01-0190\",\"QIN-HEADNECK-01-0190\",\"QIN-HEADNECK-01-0190\",\"QIN-HEADNECK-01-0190\",\"QIN-HEADNECK-01-0190\",\"QIN-HEADNECK-01-0190\",\"QIN-HEADNECK-01-0199\",\"QIN-HEADNECK-01-0199\",\"QIN-HEADNECK-01-0199\",\"QIN-HEADNECK-01-0199\",\"QIN-HEADNECK-01-0199\",\"QIN-HEADNECK-01-0199\",\"QIN-HEADNECK-01-0199\",\"QIN-HEADNECK-01-0199\",\"QIN-HEADNECK-01-0199\",\"QIN-HEADNECK-01-0199\",\"QIN-HEADNECK-01-0199\",\"QIN-HEADNECK-01-0199\",\"QIN-HEADNECK-01-0200\",\"QIN-HEADNECK-01-0200\",\"QIN-HEADNECK-01-0200\",\"QIN-HEADNECK-01-0200\",\"QIN-HEADNECK-01-0200\",\"QIN-HEADNECK-01-0200\",\"QIN-HEADNECK-01-0200\",\"QIN-HEADNECK-01-0200\",\"QIN-HEADNECK-01-0200\",\"QIN-HEADNECK-01-0200\",\"QIN-HEADNECK-01-0200\",\"QIN-HEADNECK-01-0200\",\"QIN-HEADNECK-01-0201\",\"QIN-HEADNECK-01-0201\",\"QIN-HEADNECK-01-0201\",\"QIN-HEADNECK-01-0201\",\"QIN-HEADNECK-01-0201\",\"QIN-HEADNECK-01-0201\",\"QIN-HEADNECK-01-0201\",\"QIN-HEADNECK-01-0201\",\"QIN-HEADNECK-01-0201\",\"QIN-HEADNECK-01-0201\",\"QIN-HEADNECK-01-0201\",\"QIN-HEADNECK-01-0201\",\"QIN-HEADNECK-01-0203\",\"QIN-HEADNECK-01-0203\",\"QIN-HEADNECK-01-0203\",\"QIN-HEADNECK-01-0203\",\"QIN-HEADNECK-01-0203\",\"QIN-HEADNECK-01-0203\",\"QIN-HEADNECK-01-0203\",\"QIN-HEADNECK-01-0203\",\"QIN-HEADNECK-01-0203\",\"QIN-HEADNECK-01-0203\",\"QIN-HEADNECK-01-0203\",\"QIN-HEADNECK-01-0203\",\"QIN-HEADNECK-01-0212\",\"QIN-HEADNECK-01-0212\",\"QIN-HEADNECK-01-0212\",\"QIN-HEADNECK-01-0212\",\"QIN-HEADNECK-01-0212\",\"QIN-HEADNECK-01-0212\",\"QIN-HEADNECK-01-0212\",\"QIN-HEADNECK-01-0212\",\"QIN-HEADNECK-01-0212\",\"QIN-HEADNECK-01-0212\",\"QIN-HEADNECK-01-0212\",\"QIN-HEADNECK-01-0212\",\"QIN-HEADNECK-01-0214\",\"QIN-HEADNECK-01-0214\",\"QIN-HEADNECK-01-0214\",\"QIN-HEADNECK-01-0214\",\"QIN-HEADNECK-01-0214\",\"QIN-HEADNECK-01-0214\",\"QIN-HEADNECK-01-0214\",\"QIN-HEADNECK-01-0214\",\"QIN-HEADNECK-01-0214\",\"QIN-HEADNECK-01-0214\",\"QIN-HEADNECK-01-0214\",\"QIN-HEADNECK-01-0214\",\"QIN-HEADNECK-01-0220\",\"QIN-HEADNECK-01-0220\",\"QIN-HEADNECK-01-0220\",\"QIN-HEADNECK-01-0220\",\"QIN-HEADNECK-01-0220\",\"QIN-HEADNECK-01-0220\",\"QIN-HEADNECK-01-0220\",\"QIN-HEADNECK-01-0220\",\"QIN-HEADNECK-01-0220\",\"QIN-HEADNECK-01-0220\",\"QIN-HEADNECK-01-0220\",\"QIN-HEADNECK-01-0220\",\"QIN-HEADNECK-01-0222\",\"QIN-HEADNECK-01-0222\",\"QIN-HEADNECK-01-0222\",\"QIN-HEADNECK-01-0222\",\"QIN-HEADNECK-01-0222\",\"QIN-HEADNECK-01-0222\",\"QIN-HEADNECK-01-0222\",\"QIN-HEADNECK-01-0222\",\"QIN-HEADNECK-01-0222\",\"QIN-HEADNECK-01-0222\",\"QIN-HEADNECK-01-0222\",\"QIN-HEADNECK-01-0222\",\"QIN-HEADNECK-01-0224\",\"QIN-HEADNECK-01-0224\",\"QIN-HEADNECK-01-0224\",\"QIN-HEADNECK-01-0224\",\"QIN-HEADNECK-01-0224\",\"QIN-HEADNECK-01-0224\",\"QIN-HEADNECK-01-0224\",\"QIN-HEADNECK-01-0224\",\"QIN-HEADNECK-01-0224\",\"QIN-HEADNECK-01-0224\",\"QIN-HEADNECK-01-0224\",\"QIN-HEADNECK-01-0224\",\"QIN-HEADNECK-01-0228\",\"QIN-HEADNECK-01-0228\",\"QIN-HEADNECK-01-0228\",\"QIN-HEADNECK-01-0228\",\"QIN-HEADNECK-01-0228\",\"QIN-HEADNECK-01-0228\",\"QIN-HEADNECK-01-0228\",\"QIN-HEADNECK-01-0228\",\"QIN-HEADNECK-01-0228\",\"QIN-HEADNECK-01-0228\",\"QIN-HEADNECK-01-0228\",\"QIN-HEADNECK-01-0228\",\"QIN-HEADNECK-01-0239\",\"QIN-HEADNECK-01-0239\",\"QIN-HEADNECK-01-0239\",\"QIN-HEADNECK-01-0239\",\"QIN-HEADNECK-01-0239\",\"QIN-HEADNECK-01-0239\",\"QIN-HEADNECK-01-0239\",\"QIN-HEADNECK-01-0239\",\"QIN-HEADNECK-01-0239\",\"QIN-HEADNECK-01-0239\",\"QIN-HEADNECK-01-0239\",\"QIN-HEADNECK-01-0239\",\"QIN-HEADNECK-01-0244\",\"QIN-HEADNECK-01-0244\",\"QIN-HEADNECK-01-0244\",\"QIN-HEADNECK-01-0244\",\"QIN-HEADNECK-01-0244\",\"QIN-HEADNECK-01-0244\",\"QIN-HEADNECK-01-0244\",\"QIN-HEADNECK-01-0244\",\"QIN-HEADNECK-01-0244\",\"QIN-HEADNECK-01-0244\",\"QIN-HEADNECK-01-0244\",\"QIN-HEADNECK-01-0244\",\"QIN-HEADNECK-01-0275\",\"QIN-HEADNECK-01-0275\",\"QIN-HEADNECK-01-0275\",\"QIN-HEADNECK-01-0275\",\"QIN-HEADNECK-01-0275\",\"QIN-HEADNECK-01-0275\",\"QIN-HEADNECK-01-0275\",\"QIN-HEADNECK-01-0275\",\"QIN-HEADNECK-01-0275\",\"QIN-HEADNECK-01-0275\",\"QIN-HEADNECK-01-0275\",\"QIN-HEADNECK-01-0275\",\"QIN-HEADNECK-01-0366\",\"QIN-HEADNECK-01-0366\",\"QIN-HEADNECK-01-0366\",\"QIN-HEADNECK-01-0366\",\"QIN-HEADNECK-01-0366\",\"QIN-HEADNECK-01-0366\",\"QIN-HEADNECK-01-0366\",\"QIN-HEADNECK-01-0366\",\"QIN-HEADNECK-01-0366\",\"QIN-HEADNECK-01-0366\",\"QIN-HEADNECK-01-0366\",\"QIN-HEADNECK-01-0366\"]},\"id\":\"419ab60a-9433-4fe0-bc86-4add586e3745\",\"type\":\"FactorRange\"},{\"attributes\":{},\"id\":\"02b6219e-1940-4875-aefe-3a858846d5f3\",\"type\":\"CategoricalScale\"},{\"attributes\":{\"plot\":{\"id\":\"5b1d3571-6450-4c3d-911d-cee09a5ff0c1\",\"subtype\":\"Figure\",\"type\":\"Plot\"}},\"id\":\"44228946-73c2-48e2-b551-b1a2e9630db0\",\"type\":\"PanTool\"},{\"attributes\":{\"callback\":null,\"column_names\":[\"color\",\"x\",\"labels\",\"seriesUID\",\"y\"],\"data\":{\"color\":[\"red\",\"red\",\"red\",\"red\",\"green\",\"green\",\"green\",\"green\",\"blue\",\"blue\",\"blue\",\"blue\",\"red\",\"red\",\"red\",\"red\",\"green\",\"green\",\"green\",\"green\",\"blue\",\"blue\",\"blue\",\"blue\",\"red\",\"red\",\"red\",\"red\",\"green\",\"green\",\"green\",\"green\",\"blue\",\"blue\",\"blue\",\"blue\",\"red\",\"red\",\"red\",\"red\",\"green\",\"green\",\"green\",\"green\",\"blue\",\"blue\",\"blue\",\"blue\",\"red\",\"red\",\"red\",\"red\",\"green\",\"green\",\"green\",\"green\",\"blue\",\"blue\",\"blue\",\"blue\",\"red\",\"red\",\"red\",\"red\",\"green\",\"green\",\"green\",\"green\",\"blue\",\"blue\",\"blue\",\"blue\",\"red\",\"red\",\"red\",\"red\",\"green\",\"green\",\"green\",\"green\",\"blue\",\"blue\",\"blue\",\"blue\",\"red\",\"red\",\"red\",\"red\",\"green\",\"green\",\"green\",\"green\",\"blue\",\"blue\",\"blue\",\"blue\",\"red\",\"red\",\"red\",\"red\",\"green\",\"green\",\"green\",\"green\",\"blue\",\"blue\",\"blue\",\"blue\",\"blue\",\"red\",\"red\",\"red\",\"red\",\"green\",\"green\",\"green\",\"green\",\"blue\",\"blue\",\"blue\",\"red\",\"red\",\"red\",\"green\",\"green\",\"green\",\"green\",\"blue\",\"blue\",\"blue\",\"blue\",\"red\",\"red\",\"red\",\"red\",\"red\",\"green\",\"green\",\"green\",\"green\",\"blue\",\"blue\",\"blue\",\"blue\",\"red\",\"red\",\"red\",\"red\",\"green\",\"green\",\"green\",\"green\",\"blue\",\"blue\",\"blue\",\"blue\",\"red\",\"red\",\"red\",\"red\",\"green\",\"green\",\"green\",\"green\",\"blue\",\"blue\",\"blue\",\"blue\",\"red\",\"red\",\"red\",\"red\",\"green\",\"green\",\"green\",\"green\",\"blue\",\"blue\",\"blue\",\"blue\",\"red\",\"red\",\"red\",\"green\",\"green\",\"green\",\"green\",\"blue\",\"blue\",\"blue\",\"blue\",\"red\",\"red\",\"red\",\"red\",\"red\",\"green\",\"green\",\"green\",\"green\",\"blue\",\"blue\",\"blue\",\"blue\",\"red\",\"red\",\"red\",\"red\",\"green\",\"green\",\"green\",\"green\",\"blue\",\"blue\",\"blue\",\"blue\",\"red\",\"red\",\"red\",\"red\",\"green\",\"green\",\"green\",\"green\",\"blue\",\"blue\",\"blue\",\"blue\",\"red\",\"red\",\"red\",\"red\",\"green\",\"green\",\"green\",\"green\",\"blue\",\"blue\",\"blue\",\"blue\",\"red\",\"red\",\"red\",\"red\",\"green\",\"green\",\"green\",\"green\",\"blue\",\"blue\",\"blue\",\"blue\",\"red\",\"red\",\"red\",\"red\",\"green\",\"green\",\"green\",\"green\",\"blue\",\"blue\",\"blue\",\"blue\",\"red\",\"red\",\"red\",\"red\",\"green\",\"green\",\"green\",\"green\",\"blue\",\"blue\",\"blue\",\"blue\",\"red\",\"red\",\"red\",\"red\",\"green\",\"green\",\"green\",\"green\",\"blue\",\"blue\",\"blue\",\"blue\",\"red\",\"red\",\"red\",\"red\",\"green\",\"green\",\"green\",\"green\",\"blue\",\"blue\",\"blue\",\"blue\",\"red\",\"red\",\"red\",\"red\",\"green\",\"green\",\"green\",\"green\",\"blue\",\"blue\",\"blue\",\"blue\",\"red\",\"red\",\"red\",\"red\",\"green\",\"green\",\"green\",\"green\",\"blue\",\"blue\",\"blue\",\"blue\",\"red\",\"red\",\"red\",\"red\",\"green\",\"green\",\"green\",\"green\",\"blue\",\"blue\",\"blue\",\"blue\",\"red\",\"red\",\"red\",\"red\",\"green\",\"green\",\"green\",\"green\",\"blue\",\"blue\",\"blue\",\"blue\",\"red\",\"red\",\"red\",\"red\",\"green\",\"green\",\"green\",\"green\",\"blue\",\"blue\",\"blue\",\"blue\",\"red\",\"red\",\"red\",\"red\",\"green\",\"green\",\"green\",\"green\",\"blue\",\"blue\",\"blue\",\"blue\",\"red\",\"red\",\"red\",\"red\",\"green\",\"green\",\"green\",\"green\",\"blue\",\"blue\",\"blue\",\"blue\",\"blue\",\"blue\",\"red\",\"red\",\"red\",\"red\",\"green\",\"green\",\"green\",\"green\",\"blue\",\"blue\",\"red\",\"red\",\"red\",\"red\",\"green\",\"green\",\"green\",\"green\",\"blue\",\"blue\",\"blue\",\"blue\",\"red\",\"red\",\"red\",\"red\",\"green\",\"green\",\"green\",\"green\",\"blue\",\"blue\",\"blue\",\"blue\",\"red\",\"red\",\"red\",\"red\",\"green\",\"green\",\"green\",\"green\",\"blue\",\"blue\",\"blue\",\"blue\",\"red\",\"red\",\"red\",\"red\",\"green\",\"green\",\"green\",\"green\",\"blue\",\"blue\",\"blue\",\"blue\",\"red\",\"red\",\"red\",\"red\",\"green\",\"green\",\"green\",\"green\",\"blue\",\"blue\",\"blue\",\"blue\",\"red\",\"red\",\"red\",\"red\",\"green\",\"green\",\"green\",\"green\",\"blue\",\"blue\",\"blue\",\"blue\",\"red\",\"red\",\"red\",\"red\",\"green\",\"green\",\"green\",\"green\",\"blue\",\"blue\",\"blue\",\"blue\",\"red\",\"red\",\"red\",\"red\",\"green\",\"green\",\"green\",\"green\",\"blue\",\"blue\",\"blue\",\"blue\",\"red\",\"red\",\"red\",\"red\",\"green\",\"green\",\"green\",\"green\",\"blue\",\"blue\",\"blue\",\"blue\",\"red\",\"red\",\"red\",\"red\",\"green\",\"green\",\"green\",\"green\",\"blue\",\"blue\",\"blue\",\"blue\",\"green\",\"green\",\"green\",\"green\",\"blue\",\"blue\",\"blue\",\"blue\",\"red\",\"red\",\"red\",\"red\",\"red\",\"red\",\"red\",\"red\",\"green\",\"green\",\"green\",\"green\",\"blue\",\"blue\",\"blue\",\"blue\",\"red\",\"red\",\"red\",\"red\",\"green\",\"green\",\"green\",\"green\",\"blue\",\"blue\",\"blue\",\"blue\",\"red\",\"red\",\"red\",\"red\",\"green\",\"green\",\"green\",\"green\",\"blue\",\"blue\",\"blue\",\"blue\",\"green\",\"blue\",\"blue\",\"blue\",\"blue\",\"red\",\"red\",\"red\",\"red\",\"green\",\"green\",\"green\",\"red\",\"red\",\"red\",\"red\",\"green\",\"green\",\"green\",\"green\",\"blue\",\"blue\",\"blue\",\"blue\",\"red\",\"red\",\"red\",\"red\",\"green\",\"green\",\"green\",\"green\",\"blue\",\"blue\",\"blue\",\"blue\",\"red\",\"red\",\"red\",\"red\",\"green\",\"green\",\"green\",\"green\",\"blue\",\"blue\",\"blue\",\"blue\",\"red\",\"red\",\"red\",\"red\",\"green\",\"green\",\"green\",\"green\",\"blue\",\"blue\",\"blue\",\"blue\",\"red\",\"red\",\"red\",\"red\",\"green\",\"green\",\"green\",\"green\",\"blue\",\"blue\",\"blue\",\"blue\",\"red\",\"red\",\"red\",\"red\",\"green\",\"green\",\"green\",\"green\",\"blue\",\"blue\",\"blue\",\"blue\",\"red\",\"red\",\"red\",\"red\",\"green\",\"green\",\"green\",\"green\",\"blue\",\"blue\",\"blue\",\"blue\",\"red\",\"red\",\"red\",\"red\",\"green\",\"green\",\"green\",\"green\",\"blue\",\"blue\",\"blue\",\"blue\",\"red\",\"red\",\"red\",\"red\",\"green\",\"green\",\"green\",\"green\",\"blue\",\"blue\",\"blue\",\"blue\",\"red\",\"red\",\"red\",\"red\",\"green\",\"green\",\"green\",\"green\",\"blue\",\"blue\",\"blue\",\"blue\",\"red\",\"red\",\"red\",\"red\",\"green\",\"green\",\"green\",\"green\",\"blue\",\"blue\",\"blue\",\"blue\"],\"labels\":[\"User1\",\"User1\",\"User1\",\"User1\",\"User2\",\"User2\",\"User2\",\"User2\",\"User3\",\"User3\",\"User3\",\"User3\",\"User1\",\"User1\",\"User1\",\"User1\",\"User2\",\"User2\",\"User2\",\"User2\",\"User3\",\"User3\",\"User3\",\"User3\",\"User1\",\"User1\",\"User1\",\"User1\",\"User2\",\"User2\",\"User2\",\"User2\",\"User3\",\"User3\",\"User3\",\"User3\",\"User1\",\"User1\",\"User1\",\"User1\",\"User2\",\"User2\",\"User2\",\"User2\",\"User3\",\"User3\",\"User3\",\"User3\",\"User1\",\"User1\",\"User1\",\"User1\",\"User2\",\"User2\",\"User2\",\"User2\",\"User3\",\"User3\",\"User3\",\"User3\",\"User1\",\"User1\",\"User1\",\"User1\",\"User2\",\"User2\",\"User2\",\"User2\",\"User3\",\"User3\",\"User3\",\"User3\",\"User1\",\"User1\",\"User1\",\"User1\",\"User2\",\"User2\",\"User2\",\"User2\",\"User3\",\"User3\",\"User3\",\"User3\",\"User1\",\"User1\",\"User1\",\"User1\",\"User2\",\"User2\",\"User2\",\"User2\",\"User3\",\"User3\",\"User3\",\"User3\",\"User1\",\"User1\",\"User1\",\"User1\",\"User2\",\"User2\",\"User2\",\"User2\",\"User3\",\"User3\",\"User3\",\"User3\",\"User3\",\"User1\",\"User1\",\"User1\",\"User1\",\"User2\",\"User2\",\"User2\",\"User2\",\"User3\",\"User3\",\"User3\",\"User1\",\"User1\",\"User1\",\"User2\",\"User2\",\"User2\",\"User2\",\"User3\",\"User3\",\"User3\",\"User3\",\"User1\",\"User1\",\"User1\",\"User1\",\"User1\",\"User2\",\"User2\",\"User2\",\"User2\",\"User3\",\"User3\",\"User3\",\"User3\",\"User1\",\"User1\",\"User1\",\"User1\",\"User2\",\"User2\",\"User2\",\"User2\",\"User3\",\"User3\",\"User3\",\"User3\",\"User1\",\"User1\",\"User1\",\"User1\",\"User2\",\"User2\",\"User2\",\"User2\",\"User3\",\"User3\",\"User3\",\"User3\",\"User1\",\"User1\",\"User1\",\"User1\",\"User2\",\"User2\",\"User2\",\"User2\",\"User3\",\"User3\",\"User3\",\"User3\",\"User1\",\"User1\",\"User1\",\"User2\",\"User2\",\"User2\",\"User2\",\"User3\",\"User3\",\"User3\",\"User3\",\"User1\",\"User1\",\"User1\",\"User1\",\"User1\",\"User2\",\"User2\",\"User2\",\"User2\",\"User3\",\"User3\",\"User3\",\"User3\",\"User1\",\"User1\",\"User1\",\"User1\",\"User2\",\"User2\",\"User2\",\"User2\",\"User3\",\"User3\",\"User3\",\"User3\",\"User1\",\"User1\",\"User1\",\"User1\",\"User2\",\"User2\",\"User2\",\"User2\",\"User3\",\"User3\",\"User3\",\"User3\",\"User1\",\"User1\",\"User1\",\"User1\",\"User2\",\"User2\",\"User2\",\"User2\",\"User3\",\"User3\",\"User3\",\"User3\",\"User1\",\"User1\",\"User1\",\"User1\",\"User2\",\"User2\",\"User2\",\"User2\",\"User3\",\"User3\",\"User3\",\"User3\",\"User1\",\"User1\",\"User1\",\"User1\",\"User2\",\"User2\",\"User2\",\"User2\",\"User3\",\"User3\",\"User3\",\"User3\",\"User1\",\"User1\",\"User1\",\"User1\",\"User2\",\"User2\",\"User2\",\"User2\",\"User3\",\"User3\",\"User3\",\"User3\",\"User1\",\"User1\",\"User1\",\"User1\",\"User2\",\"User2\",\"User2\",\"User2\",\"User3\",\"User3\",\"User3\",\"User3\",\"User1\",\"User1\",\"User1\",\"User1\",\"User2\",\"User2\",\"User2\",\"User2\",\"User3\",\"User3\",\"User3\",\"User3\",\"User1\",\"User1\",\"User1\",\"User1\",\"User2\",\"User2\",\"User2\",\"User2\",\"User3\",\"User3\",\"User3\",\"User3\",\"User1\",\"User1\",\"User1\",\"User1\",\"User2\",\"User2\",\"User2\",\"User2\",\"User3\",\"User3\",\"User3\",\"User3\",\"User1\",\"User1\",\"User1\",\"User1\",\"User2\",\"User2\",\"User2\",\"User2\",\"User3\",\"User3\",\"User3\",\"User3\",\"User1\",\"User1\",\"User1\",\"User1\",\"User2\",\"User2\",\"User2\",\"User2\",\"User3\",\"User3\",\"User3\",\"User3\",\"User1\",\"User1\",\"User1\",\"User1\",\"User2\",\"User2\",\"User2\",\"User2\",\"User3\",\"User3\",\"User3\",\"User3\",\"User1\",\"User1\",\"User1\",\"User1\",\"User2\",\"User2\",\"User2\",\"User2\",\"User3\",\"User3\",\"User3\",\"User3\",\"User1\",\"User1\",\"User1\",\"User1\",\"User2\",\"User2\",\"User2\",\"User2\",\"User3\",\"User3\",\"User3\",\"User3\",\"User3\",\"User3\",\"User1\",\"User1\",\"User1\",\"User1\",\"User2\",\"User2\",\"User2\",\"User2\",\"User3\",\"User3\",\"User1\",\"User1\",\"User1\",\"User1\",\"User2\",\"User2\",\"User2\",\"User2\",\"User3\",\"User3\",\"User3\",\"User3\",\"User1\",\"User1\",\"User1\",\"User1\",\"User2\",\"User2\",\"User2\",\"User2\",\"User3\",\"User3\",\"User3\",\"User3\",\"User1\",\"User1\",\"User1\",\"User1\",\"User2\",\"User2\",\"User2\",\"User2\",\"User3\",\"User3\",\"User3\",\"User3\",\"User1\",\"User1\",\"User1\",\"User1\",\"User2\",\"User2\",\"User2\",\"User2\",\"User3\",\"User3\",\"User3\",\"User3\",\"User1\",\"User1\",\"User1\",\"User1\",\"User2\",\"User2\",\"User2\",\"User2\",\"User3\",\"User3\",\"User3\",\"User3\",\"User1\",\"User1\",\"User1\",\"User1\",\"User2\",\"User2\",\"User2\",\"User2\",\"User3\",\"User3\",\"User3\",\"User3\",\"User1\",\"User1\",\"User1\",\"User1\",\"User2\",\"User2\",\"User2\",\"User2\",\"User3\",\"User3\",\"User3\",\"User3\",\"User1\",\"User1\",\"User1\",\"User1\",\"User2\",\"User2\",\"User2\",\"User2\",\"User3\",\"User3\",\"User3\",\"User3\",\"User1\",\"User1\",\"User1\",\"User1\",\"User2\",\"User2\",\"User2\",\"User2\",\"User3\",\"User3\",\"User3\",\"User3\",\"User1\",\"User1\",\"User1\",\"User1\",\"User2\",\"User2\",\"User2\",\"User2\",\"User3\",\"User3\",\"User3\",\"User3\",\"User2\",\"User2\",\"User2\",\"User2\",\"User3\",\"User3\",\"User3\",\"User3\",\"User1\",\"User1\",\"User1\",\"User1\",\"User1\",\"User1\",\"User1\",\"User1\",\"User2\",\"User2\",\"User2\",\"User2\",\"User3\",\"User3\",\"User3\",\"User3\",\"User1\",\"User1\",\"User1\",\"User1\",\"User2\",\"User2\",\"User2\",\"User2\",\"User3\",\"User3\",\"User3\",\"User3\",\"User1\",\"User1\",\"User1\",\"User1\",\"User2\",\"User2\",\"User2\",\"User2\",\"User3\",\"User3\",\"User3\",\"User3\",\"User2\",\"User3\",\"User3\",\"User3\",\"User3\",\"User1\",\"User1\",\"User1\",\"User1\",\"User2\",\"User2\",\"User2\",\"User1\",\"User1\",\"User1\",\"User1\",\"User2\",\"User2\",\"User2\",\"User2\",\"User3\",\"User3\",\"User3\",\"User3\",\"User1\",\"User1\",\"User1\",\"User1\",\"User2\",\"User2\",\"User2\",\"User2\",\"User3\",\"User3\",\"User3\",\"User3\",\"User1\",\"User1\",\"User1\",\"User1\",\"User2\",\"User2\",\"User2\",\"User2\",\"User3\",\"User3\",\"User3\",\"User3\",\"User1\",\"User1\",\"User1\",\"User1\",\"User2\",\"User2\",\"User2\",\"User2\",\"User3\",\"User3\",\"User3\",\"User3\",\"User1\",\"User1\",\"User1\",\"User1\",\"User2\",\"User2\",\"User2\",\"User2\",\"User3\",\"User3\",\"User3\",\"User3\",\"User1\",\"User1\",\"User1\",\"User1\",\"User2\",\"User2\",\"User2\",\"User2\",\"User3\",\"User3\",\"User3\",\"User3\",\"User1\",\"User1\",\"User1\",\"User1\",\"User2\",\"User2\",\"User2\",\"User2\",\"User3\",\"User3\",\"User3\",\"User3\",\"User1\",\"User1\",\"User1\",\"User1\",\"User2\",\"User2\",\"User2\",\"User2\",\"User3\",\"User3\",\"User3\",\"User3\",\"User1\",\"User1\",\"User1\",\"User1\",\"User2\",\"User2\",\"User2\",\"User2\",\"User3\",\"User3\",\"User3\",\"User3\",\"User1\",\"User1\",\"User1\",\"User1\",\"User2\",\"User2\",\"User2\",\"User2\",\"User3\",\"User3\",\"User3\",\"User3\",\"User1\",\"User1\",\"User1\",\"User1\",\"User2\",\"User2\",\"User2\",\"User2\",\"User3\",\"User3\",\"User3\",\"User3\"],\"seriesUID\":[\"1.2.276.0.7230010.3.1.3.8323329.18355.1440001308.643361\",\"1.2.276.0.7230010.3.1.3.8323329.18414.1440001309.742216\",\"1.2.276.0.7230010.3.1.3.8323329.18473.1440001310.727494\",\"1.2.276.0.7230010.3.1.3.8323329.18532.1440001311.773521\",\"1.2.276.0.7230010.3.1.3.8323329.18591.1440001312.777032\",\"1.2.276.0.7230010.3.1.3.8323329.18648.1440001313.775070\",\"1.2.276.0.7230010.3.1.3.8323329.18707.1440001314.880294\",\"1.2.276.0.7230010.3.1.3.8323329.18766.1440001315.894930\",\"1.2.276.0.7230010.3.1.3.8323329.18826.1440001316.863788\",\"1.2.276.0.7230010.3.1.3.8323329.18885.1440001317.872307\",\"1.2.276.0.7230010.3.1.3.8323329.18945.1440001318.898974\",\"1.2.276.0.7230010.3.1.3.8323329.19004.1440001319.883811\",\"1.2.276.0.7230010.3.1.3.8323329.19180.1440001330.907567\",\"1.2.276.0.7230010.3.1.3.8323329.19236.1440001331.990059\",\"1.2.276.0.7230010.3.1.3.8323329.19291.1440001333.6180\",\"1.2.276.0.7230010.3.1.3.8323329.19346.1440001334.11577\",\"1.2.276.0.7230010.3.1.3.8323329.19401.1440001335.123850\",\"1.2.276.0.7230010.3.1.3.8323329.19456.1440001336.228851\",\"1.2.276.0.7230010.3.1.3.8323329.19515.1440001337.180088\",\"1.2.276.0.7230010.3.1.3.8323329.19574.1440001338.128873\",\"1.2.276.0.7230010.3.1.3.8323329.19632.1440001339.100665\",\"1.2.276.0.7230010.3.1.3.8323329.19689.1440001340.126626\",\"1.2.276.0.7230010.3.1.3.8323329.19746.1440001341.179872\",\"1.2.276.0.7230010.3.1.3.8323329.19805.1440001342.141990\",\"1.2.276.0.7230010.3.1.3.8323329.20013.1440001360.529935\",\"1.2.276.0.7230010.3.1.3.8323329.20093.1440001362.811455\",\"1.2.276.0.7230010.3.1.3.8323329.20179.1440001365.123123\",\"1.2.276.0.7230010.3.1.3.8323329.20256.1440001367.522636\",\"1.2.276.0.7230010.3.1.3.8323329.20338.1440001369.877605\",\"1.2.276.0.7230010.3.1.3.8323329.20425.1440001372.331792\",\"1.2.276.0.7230010.3.1.3.8323329.20509.1440001374.798372\",\"1.2.276.0.7230010.3.1.3.8323329.20592.1440001377.53064\",\"1.2.276.0.7230010.3.1.3.8323329.20674.1440001379.516579\",\"1.2.276.0.7230010.3.1.3.8323329.20762.1440001381.783642\",\"1.2.276.0.7230010.3.1.3.8323329.20838.1440001384.73094\",\"1.2.276.0.7230010.3.1.3.8323329.20914.1440001386.374537\",\"1.2.276.0.7230010.3.1.3.8323329.21173.1440001399.543798\",\"1.2.276.0.7230010.3.1.3.8323329.21323.1440001402.346570\",\"1.2.276.0.7230010.3.1.3.8323329.21461.1440001405.32419\",\"1.2.276.0.7230010.3.1.3.8323329.21598.1440001407.831200\",\"1.2.276.0.7230010.3.1.3.8323329.21737.1440001410.683988\",\"1.2.276.0.7230010.3.1.3.8323329.21879.1440001413.377102\",\"1.2.276.0.7230010.3.1.3.8323329.22048.1440001416.180010\",\"1.2.276.0.7230010.3.1.3.8323329.22206.1440001418.977007\",\"1.2.276.0.7230010.3.1.3.8323329.22348.1440001421.904480\",\"1.2.276.0.7230010.3.1.3.8323329.22501.1440001424.807662\",\"1.2.276.0.7230010.3.1.3.8323329.22651.1440001427.437107\",\"1.2.276.0.7230010.3.1.3.8323329.22797.1440001430.98598\",\"1.2.276.0.7230010.3.1.3.8323329.23038.1440001445.681019\",\"1.2.276.0.7230010.3.1.3.8323329.23151.1440001448.237456\",\"1.2.276.0.7230010.3.1.3.8323329.23276.1440001450.741668\",\"1.2.276.0.7230010.3.1.3.8323329.23394.1440001453.236500\",\"1.2.276.0.7230010.3.1.3.8323329.23515.1440001455.734962\",\"1.2.276.0.7230010.3.1.3.8323329.23640.1440001458.213956\",\"1.2.276.0.7230010.3.1.3.8323329.23761.1440001460.804686\",\"1.2.276.0.7230010.3.1.3.8323329.23880.1440001463.235343\",\"1.2.276.0.7230010.3.1.3.8323329.23997.1440001465.650295\",\"1.2.276.0.7230010.3.1.3.8323329.24107.1440001468.244441\",\"1.2.276.0.7230010.3.1.3.8323329.24230.1440001470.874670\",\"1.2.276.0.7230010.3.1.3.8323329.24353.1440001473.520337\",\"1.2.276.0.7230010.3.1.3.8323329.24556.1440001487.397825\",\"1.2.276.0.7230010.3.1.3.8323329.24639.1440001489.314199\",\"1.2.276.0.7230010.3.1.3.8323329.24720.1440001491.161531\",\"1.2.276.0.7230010.3.1.3.8323329.24800.1440001493.214177\",\"1.2.276.0.7230010.3.1.3.8323329.24881.1440001494.985826\",\"1.2.276.0.7230010.3.1.3.8323329.24964.1440001496.805935\",\"1.2.276.0.7230010.3.1.3.8323329.25045.1440001498.703406\",\"1.2.276.0.7230010.3.1.3.8323329.25125.1440001500.485017\",\"1.2.276.0.7230010.3.1.3.8323329.25209.1440001502.327137\",\"1.2.276.0.7230010.3.1.3.8323329.25293.1440001504.189553\",\"1.2.276.0.7230010.3.1.3.8323329.25373.1440001505.981640\",\"1.2.276.0.7230010.3.1.3.8323329.25454.1440001507.788144\",\"1.2.276.0.7230010.3.1.3.8323329.25691.1440001525.382651\",\"1.2.276.0.7230010.3.1.3.8323329.25808.1440001528.740146\",\"1.2.276.0.7230010.3.1.3.8323329.25927.1440001531.592682\",\"1.2.276.0.7230010.3.1.3.8323329.26046.1440001534.442557\",\"1.2.276.0.7230010.3.1.3.8323329.26155.1440001537.203725\",\"1.2.276.0.7230010.3.1.3.8323329.26266.1440001539.997611\",\"1.2.276.0.7230010.3.1.3.8323329.26385.1440001542.796637\",\"1.2.276.0.7230010.3.1.3.8323329.26504.1440001545.644952\",\"1.2.276.0.7230010.3.1.3.8323329.26617.1440001548.588240\",\"1.2.276.0.7230010.3.1.3.8323329.26730.1440001551.537913\",\"1.2.276.0.7230010.3.1.3.8323329.26845.1440001554.527796\",\"1.2.276.0.7230010.3.1.3.8323329.26964.1440001557.308726\",\"1.2.276.0.7230010.3.1.3.8323329.27170.1440001576.468579\",\"1.2.276.0.7230010.3.1.3.8323329.27254.1440001579.306027\",\"1.2.276.0.7230010.3.1.3.8323329.27340.1440001581.746325\",\"1.2.276.0.7230010.3.1.3.8323329.27428.1440001584.203284\",\"1.2.276.0.7230010.3.1.3.8323329.27522.1440001586.649443\",\"1.2.276.0.7230010.3.1.3.8323329.27609.1440001588.941074\",\"1.2.276.0.7230010.3.1.3.8323329.27693.1440001591.348499\",\"1.2.276.0.7230010.3.1.3.8323329.27777.1440001593.743894\",\"1.2.276.0.7230010.3.1.3.8323329.27863.1440001596.325361\",\"1.2.276.0.7230010.3.1.3.8323329.27951.1440001598.858702\",\"1.2.276.0.7230010.3.1.3.8323329.28035.1440001601.188764\",\"1.2.276.0.7230010.3.1.3.8323329.28123.1440001603.551562\",\"1.2.276.0.7230010.3.1.3.8323329.28391.1440001623.327940\",\"1.2.276.0.7230010.3.1.3.8323329.28543.1440001627.600164\",\"1.2.276.0.7230010.3.1.3.8323329.28685.1440001631.835834\",\"1.2.276.0.7230010.3.1.3.8323329.28827.1440001635.904064\",\"1.2.276.0.7230010.3.1.3.8323329.28981.1440001639.952487\",\"1.2.276.0.7230010.3.1.3.8323329.29129.1440001643.962930\",\"1.2.276.0.7230010.3.1.3.8323329.29274.1440001648.92654\",\"1.2.276.0.7230010.3.1.3.8323329.29414.1440001652.285858\",\"1.2.276.0.7230010.3.1.3.8323329.29557.1440001656.411388\",\"1.2.276.0.7230010.3.1.3.8323329.29701.1440001660.649934\",\"1.2.276.0.7230010.3.1.3.8323329.29839.1440001664.642549\",\"1.2.276.0.7230010.3.1.3.8323329.29979.1440001669.96997\",\"1.2.276.0.7230010.3.1.3.8323329.32756.1440001764.26054\",\"1.2.276.0.7230010.3.1.3.8323329.32095.1440001749.393569\",\"1.2.276.0.7230010.3.1.3.8323329.32154.1440001750.785503\",\"1.2.276.0.7230010.3.1.3.8323329.32217.1440001752.111117\",\"1.2.276.0.7230010.3.1.3.8323329.32280.1440001753.499212\",\"1.2.276.0.7230010.3.1.3.8323329.32333.1440001754.783566\",\"1.2.276.0.7230010.3.1.3.8323329.32392.1440001756.161963\",\"1.2.276.0.7230010.3.1.3.8323329.32455.1440001757.453406\",\"1.2.276.0.7230010.3.1.3.8323329.32518.1440001758.837162\",\"1.2.276.0.7230010.3.1.3.8323329.32577.1440001760.112009\",\"1.2.276.0.7230010.3.1.3.8323329.32630.1440001761.442540\",\"1.2.276.0.7230010.3.1.3.8323329.32693.1440001762.711411\",\"1.2.276.0.7230010.3.1.3.8323329.1022.1440001797.169591\",\"1.2.276.0.7230010.3.1.3.8323329.1345.1440001805.696241\",\"1.2.276.0.7230010.3.1.3.8323329.1658.1440001814.123253\",\"1.2.276.0.7230010.3.1.3.8323329.1966.1440001822.716215\",\"1.2.276.0.7230010.3.1.3.8323329.2304.1440001831.490316\",\"1.2.276.0.7230010.3.1.3.8323329.2726.1440001839.804798\",\"1.2.276.0.7230010.3.1.3.8323329.3029.1440001848.194973\",\"1.2.276.0.7230010.3.1.3.8323329.3326.1440001856.453037\",\"1.2.276.0.7230010.3.1.3.8323329.3743.1440001864.930693\",\"1.2.276.0.7230010.3.1.3.8323329.4100.1440001873.131909\",\"1.2.276.0.7230010.3.1.3.8323329.4402.1440001881.445044\",\"1.2.276.0.7230010.3.1.3.8323329.721.1440001788.799439\",\"1.2.276.0.7230010.3.1.3.8323329.4612.1440001897.831593\",\"1.2.276.0.7230010.3.1.3.8323329.4698.1440001900.146295\",\"1.2.276.0.7230010.3.1.3.8323329.4784.1440001902.201860\",\"1.2.276.0.7230010.3.1.3.8323329.4873.1440001904.322344\",\"1.2.276.0.7230010.3.1.3.8323329.4960.1440001906.574541\",\"1.2.276.0.7230010.3.1.3.8323329.5046.1440001908.716268\",\"1.2.276.0.7230010.3.1.3.8323329.5136.1440001910.867013\",\"1.2.276.0.7230010.3.1.3.8323329.5226.1440001912.968329\",\"1.2.276.0.7230010.3.1.3.8323329.5314.1440001915.55770\",\"1.2.276.0.7230010.3.1.3.8323329.5400.1440001917.170633\",\"1.2.276.0.7230010.3.1.3.8323329.5484.1440001919.475280\",\"1.2.276.0.7230010.3.1.3.8323329.5597.1440001921.497416\",\"1.2.276.0.7230010.3.1.3.8323329.5819.1440001940.850838\",\"1.2.276.0.7230010.3.1.3.8323329.5911.1440001943.143534\",\"1.2.276.0.7230010.3.1.3.8323329.5994.1440001945.588552\",\"1.2.276.0.7230010.3.1.3.8323329.6075.1440001947.894748\",\"1.2.276.0.7230010.3.1.3.8323329.6155.1440001950.324235\",\"1.2.276.0.7230010.3.1.3.8323329.6247.1440001952.859006\",\"1.2.276.0.7230010.3.1.3.8323329.6327.1440001955.235623\",\"1.2.276.0.7230010.3.1.3.8323329.6407.1440001957.580491\",\"1.2.276.0.7230010.3.1.3.8323329.6492.1440001959.966259\",\"1.2.276.0.7230010.3.1.3.8323329.6575.1440001962.502008\",\"1.2.276.0.7230010.3.1.3.8323329.6659.1440001964.838313\",\"1.2.276.0.7230010.3.1.3.8323329.6739.1440001967.237269\",\"1.2.276.0.7230010.3.1.3.8323329.6994.1440001986.64930\",\"1.2.276.0.7230010.3.1.3.8323329.7140.1440001990.116567\",\"1.2.276.0.7230010.3.1.3.8323329.7280.1440001994.218258\",\"1.2.276.0.7230010.3.1.3.8323329.7426.1440001998.290869\",\"1.2.276.0.7230010.3.1.3.8323329.7572.1440002002.260820\",\"1.2.276.0.7230010.3.1.3.8323329.7722.1440002006.338154\",\"1.2.276.0.7230010.3.1.3.8323329.7869.1440002010.443359\",\"1.2.276.0.7230010.3.1.3.8323329.8006.1440002014.448937\",\"1.2.276.0.7230010.3.1.3.8323329.8149.1440002018.547967\",\"1.2.276.0.7230010.3.1.3.8323329.8290.1440002022.666567\",\"1.2.276.0.7230010.3.1.3.8323329.8426.1440002026.953655\",\"1.2.276.0.7230010.3.1.3.8323329.8552.1440002031.197176\",\"1.2.276.0.7230010.3.1.3.8323329.8732.1440002048.761231\",\"1.2.276.0.7230010.3.1.3.8323329.8791.1440002050.289716\",\"1.2.276.0.7230010.3.1.3.8323329.8852.1440002051.835312\",\"1.2.276.0.7230010.3.1.3.8323329.8913.1440002053.472719\",\"1.2.276.0.7230010.3.1.3.8323329.8974.1440002054.936911\",\"1.2.276.0.7230010.3.1.3.8323329.9035.1440002056.470698\",\"1.2.276.0.7230010.3.1.3.8323329.9096.1440002057.913186\",\"1.2.276.0.7230010.3.1.3.8323329.9155.1440002059.385360\",\"1.2.276.0.7230010.3.1.3.8323329.9216.1440002060.863454\",\"1.2.276.0.7230010.3.1.3.8323329.9277.1440002062.393795\",\"1.2.276.0.7230010.3.1.3.8323329.9339.1440002063.870203\",\"1.2.276.0.7230010.3.1.3.8323329.9400.1440002065.418356\",\"1.2.276.0.7230010.3.1.3.8323329.10283.1440002100.119442\",\"1.2.276.0.7230010.3.1.3.8323329.10655.1440002109.662336\",\"1.2.276.0.7230010.3.1.3.8323329.11024.1440002119.559791\",\"1.2.276.0.7230010.3.1.3.8323329.11415.1440002129.667172\",\"1.2.276.0.7230010.3.1.3.8323329.11809.1440002140.46058\",\"1.2.276.0.7230010.3.1.3.8323329.12185.1440002149.542324\",\"1.2.276.0.7230010.3.1.3.8323329.12561.1440002159.322891\",\"1.2.276.0.7230010.3.1.3.8323329.12948.1440002169.301261\",\"1.2.276.0.7230010.3.1.3.8323329.13334.1440002179.527769\",\"1.2.276.0.7230010.3.1.3.8323329.13724.1440002189.142546\",\"1.2.276.0.7230010.3.1.3.8323329.14098.1440002198.704085\",\"1.2.276.0.7230010.3.1.3.8323329.9908.1440002090.541917\",\"1.2.276.0.7230010.3.1.3.8323329.14352.1440002219.325637\",\"1.2.276.0.7230010.3.1.3.8323329.14484.1440002223.355129\",\"1.2.276.0.7230010.3.1.3.8323329.14616.1440002227.389443\",\"1.2.276.0.7230010.3.1.3.8323329.14764.1440002231.557641\",\"1.2.276.0.7230010.3.1.3.8323329.14898.1440002235.521010\",\"1.2.276.0.7230010.3.1.3.8323329.15034.1440002239.558407\",\"1.2.276.0.7230010.3.1.3.8323329.15166.1440002243.527412\",\"1.2.276.0.7230010.3.1.3.8323329.15299.1440002247.549255\",\"1.2.276.0.7230010.3.1.3.8323329.15439.1440002251.515408\",\"1.2.276.0.7230010.3.1.3.8323329.15577.1440002255.690629\",\"1.2.276.0.7230010.3.1.3.8323329.15713.1440002259.710540\",\"1.2.276.0.7230010.3.1.3.8323329.15847.1440002263.667070\",\"1.2.276.0.7230010.3.1.3.8323329.16115.1440002283.903816\",\"1.2.276.0.7230010.3.1.3.8323329.16273.1440002287.895942\",\"1.2.276.0.7230010.3.1.3.8323329.16424.1440002291.926817\",\"1.2.276.0.7230010.3.1.3.8323329.16573.1440002296.25348\",\"1.2.276.0.7230010.3.1.3.8323329.16721.1440002299.978656\",\"1.2.276.0.7230010.3.1.3.8323329.16880.1440002304.170501\",\"1.2.276.0.7230010.3.1.3.8323329.17030.1440002308.220649\",\"1.2.276.0.7230010.3.1.3.8323329.17178.1440002312.275674\",\"1.2.276.0.7230010.3.1.3.8323329.17319.1440002316.422969\",\"1.2.276.0.7230010.3.1.3.8323329.17461.1440002320.409552\",\"1.2.276.0.7230010.3.1.3.8323329.17608.1440002324.419490\",\"1.2.276.0.7230010.3.1.3.8323329.17757.1440002328.436338\",\"1.2.276.0.7230010.3.1.3.8323329.18002.1440002365.914699\",\"1.2.276.0.7230010.3.1.3.8323329.18133.1440002373.731977\",\"1.2.276.0.7230010.3.1.3.8323329.18270.1440002381.495022\",\"1.2.276.0.7230010.3.1.3.8323329.18402.1440002389.692346\",\"1.2.276.0.7230010.3.1.3.8323329.18539.1440002397.660584\",\"1.2.276.0.7230010.3.1.3.8323329.18675.1440002405.498929\",\"1.2.276.0.7230010.3.1.3.8323329.18809.1440002413.335537\",\"1.2.276.0.7230010.3.1.3.8323329.18948.1440002421.203270\",\"1.2.276.0.7230010.3.1.3.8323329.19090.1440002429.313059\",\"1.2.276.0.7230010.3.1.3.8323329.19227.1440002437.80037\",\"1.2.276.0.7230010.3.1.3.8323329.19361.1440002445.459962\",\"1.2.276.0.7230010.3.1.3.8323329.19497.1440002453.599768\",\"1.2.276.0.7230010.3.1.3.8323329.19702.1440002484.332434\",\"1.2.276.0.7230010.3.1.3.8323329.19783.1440002488.528710\",\"1.2.276.0.7230010.3.1.3.8323329.19863.1440002492.568409\",\"1.2.276.0.7230010.3.1.3.8323329.19945.1440002496.803551\",\"1.2.276.0.7230010.3.1.3.8323329.20023.1440002500.872945\",\"1.2.276.0.7230010.3.1.3.8323329.20101.1440002505.40941\",\"1.2.276.0.7230010.3.1.3.8323329.20183.1440002509.106324\",\"1.2.276.0.7230010.3.1.3.8323329.20266.1440002513.224775\",\"1.2.276.0.7230010.3.1.3.8323329.20350.1440002517.244132\",\"1.2.276.0.7230010.3.1.3.8323329.20430.1440002521.379827\",\"1.2.276.0.7230010.3.1.3.8323329.20510.1440002525.367378\",\"1.2.276.0.7230010.3.1.3.8323329.20594.1440002529.366642\",\"1.2.276.0.7230010.3.1.3.8323329.20850.1440002565.196766\",\"1.2.276.0.7230010.3.1.3.8323329.20992.1440002574.745482\",\"1.2.276.0.7230010.3.1.3.8323329.21140.1440002584.160892\",\"1.2.276.0.7230010.3.1.3.8323329.21288.1440002593.502466\",\"1.2.276.0.7230010.3.1.3.8323329.21428.1440002602.880886\",\"1.2.276.0.7230010.3.1.3.8323329.21574.1440002611.982793\",\"1.2.276.0.7230010.3.1.3.8323329.21727.1440002621.685822\",\"1.2.276.0.7230010.3.1.3.8323329.21872.1440002630.979371\",\"1.2.276.0.7230010.3.1.3.8323329.22025.1440002640.512355\",\"1.2.276.0.7230010.3.1.3.8323329.22175.1440002649.862143\",\"1.2.276.0.7230010.3.1.3.8323329.22317.1440002659.503996\",\"1.2.276.0.7230010.3.1.3.8323329.22463.1440002669.333569\",\"1.2.276.0.7230010.3.1.3.8323329.22788.1440002718.954977\",\"1.2.276.0.7230010.3.1.3.8323329.22986.1440002735.393725\",\"1.2.276.0.7230010.3.1.3.8323329.23184.1440002751.869146\",\"1.2.276.0.7230010.3.1.3.8323329.23380.1440002768.328440\",\"1.2.276.0.7230010.3.1.3.8323329.23582.1440002786.46483\",\"1.2.276.0.7230010.3.1.3.8323329.23778.1440002802.977187\",\"1.2.276.0.7230010.3.1.3.8323329.23970.1440002820.841605\",\"1.2.276.0.7230010.3.1.3.8323329.24167.1440002837.659602\",\"1.2.276.0.7230010.3.1.3.8323329.24384.1440002854.499306\",\"1.2.276.0.7230010.3.1.3.8323329.24590.1440002871.107053\",\"1.2.276.0.7230010.3.1.3.8323329.24783.1440002888.40728\",\"1.2.276.0.7230010.3.1.3.8323329.24977.1440002904.915792\",\"1.2.276.0.7230010.3.1.3.8323329.25193.1440002944.757658\",\"1.2.276.0.7230010.3.1.3.8323329.25287.1440002951.209718\",\"1.2.276.0.7230010.3.1.3.8323329.25381.1440002957.617419\",\"1.2.276.0.7230010.3.1.3.8323329.25476.1440002964.610967\",\"1.2.276.0.7230010.3.1.3.8323329.25569.1440002971.233968\",\"1.2.276.0.7230010.3.1.3.8323329.25659.1440002977.655916\",\"1.2.276.0.7230010.3.1.3.8323329.25751.1440002984.420534\",\"1.2.276.0.7230010.3.1.3.8323329.25843.1440002990.945371\",\"1.2.276.0.7230010.3.1.3.8323329.25938.1440002997.335690\",\"1.2.276.0.7230010.3.1.3.8323329.26026.1440003003.950410\",\"1.2.276.0.7230010.3.1.3.8323329.26120.1440003010.842885\",\"1.2.276.0.7230010.3.1.3.8323329.26214.1440003017.311633\",\"1.2.276.0.7230010.3.1.3.8323329.26413.1440003036.112570\",\"1.2.276.0.7230010.3.1.3.8323329.26493.1440003038.427995\",\"1.2.276.0.7230010.3.1.3.8323329.26587.1440003040.838586\",\"1.2.276.0.7230010.3.1.3.8323329.26673.1440003043.428981\",\"1.2.276.0.7230010.3.1.3.8323329.26765.1440003045.851018\",\"1.2.276.0.7230010.3.1.3.8323329.26853.1440003048.100288\",\"1.2.276.0.7230010.3.1.3.8323329.26939.1440003050.369055\",\"1.2.276.0.7230010.3.1.3.8323329.27025.1440003052.826992\",\"1.2.276.0.7230010.3.1.3.8323329.27119.1440003055.90953\",\"1.2.276.0.7230010.3.1.3.8323329.27211.1440003057.509381\",\"1.2.276.0.7230010.3.1.3.8323329.27297.1440003059.825942\",\"1.2.276.0.7230010.3.1.3.8323329.27383.1440003062.161214\",\"1.2.276.0.7230010.3.1.3.8323329.27699.1440003082.71777\",\"1.2.276.0.7230010.3.1.3.8323329.27896.1440003087.279881\",\"1.2.276.0.7230010.3.1.3.8323329.28098.1440003092.430508\",\"1.2.276.0.7230010.3.1.3.8323329.28293.1440003097.533367\",\"1.2.276.0.7230010.3.1.3.8323329.28489.1440003102.812160\",\"1.2.276.0.7230010.3.1.3.8323329.28693.1440003107.964168\",\"1.2.276.0.7230010.3.1.3.8323329.28899.1440003113.516579\",\"1.2.276.0.7230010.3.1.3.8323329.29101.1440003118.761878\",\"1.2.276.0.7230010.3.1.3.8323329.29305.1440003123.739546\",\"1.2.276.0.7230010.3.1.3.8323329.29500.1440003128.810730\",\"1.2.276.0.7230010.3.1.3.8323329.29700.1440003133.939895\",\"1.2.276.0.7230010.3.1.3.8323329.29900.1440003139.27900\",\"1.2.276.0.7230010.3.1.3.8323329.30221.1440003178.555143\",\"1.2.276.0.7230010.3.1.3.8323329.30419.1440003191.894551\",\"1.2.276.0.7230010.3.1.3.8323329.30623.1440003205.89332\",\"1.2.276.0.7230010.3.1.3.8323329.30824.1440003218.358890\",\"1.2.276.0.7230010.3.1.3.8323329.31023.1440003231.613018\",\"1.2.276.0.7230010.3.1.3.8323329.31217.1440003245.96243\",\"1.2.276.0.7230010.3.1.3.8323329.31417.1440003258.926861\",\"1.2.276.0.7230010.3.1.3.8323329.31619.1440003273.329503\",\"1.2.276.0.7230010.3.1.3.8323329.31823.1440003286.601887\",\"1.2.276.0.7230010.3.1.3.8323329.32028.1440003300.133044\",\"1.2.276.0.7230010.3.1.3.8323329.32230.1440003313.456455\",\"1.2.276.0.7230010.3.1.3.8323329.32430.1440003326.785885\",\"1.2.276.0.7230010.3.1.3.8323329.32610.1440003361.868282\",\"1.2.276.0.7230010.3.1.3.8323329.32671.1440003365.521712\",\"1.2.276.0.7230010.3.1.3.8323329.32732.1440003369.470824\",\"1.2.276.0.7230010.3.1.3.8323329.326.1440003372.926746\",\"1.2.276.0.7230010.3.1.3.8323329.387.1440003376.655541\",\"1.2.276.0.7230010.3.1.3.8323329.455.1440003380.455517\",\"1.2.276.0.7230010.3.1.3.8323329.515.1440003384.42870\",\"1.2.276.0.7230010.3.1.3.8323329.583.1440003387.640662\",\"1.2.276.0.7230010.3.1.3.8323329.642.1440003391.571966\",\"1.2.276.0.7230010.3.1.3.8323329.701.1440003395.341255\",\"1.2.276.0.7230010.3.1.3.8323329.762.1440003398.857980\",\"1.2.276.0.7230010.3.1.3.8323329.823.1440003402.586836\",\"1.2.276.0.7230010.3.1.3.8323329.1029.1440003442.531877\",\"1.2.276.0.7230010.3.1.3.8323329.1119.1440003449.121953\",\"1.2.276.0.7230010.3.1.3.8323329.1215.1440003455.978829\",\"1.2.276.0.7230010.3.1.3.8323329.1305.1440003462.430084\",\"1.2.276.0.7230010.3.1.3.8323329.1404.1440003468.793272\",\"1.2.276.0.7230010.3.1.3.8323329.1505.1440003475.368556\",\"1.2.276.0.7230010.3.1.3.8323329.1593.1440003482.215614\",\"1.2.276.0.7230010.3.1.3.8323329.1681.1440003489.160549\",\"1.2.276.0.7230010.3.1.3.8323329.1773.1440003495.743049\",\"1.2.276.0.7230010.3.1.3.8323329.1861.1440003502.687976\",\"1.2.276.0.7230010.3.1.3.8323329.1948.1440003509.418381\",\"1.2.276.0.7230010.3.1.3.8323329.2035.1440003516.228796\",\"1.2.276.0.7230010.3.1.3.8323329.2405.1440003562.391081\",\"1.2.276.0.7230010.3.1.3.8323329.2602.1440003574.442792\",\"1.2.276.0.7230010.3.1.3.8323329.2763.1440003586.247509\",\"1.2.276.0.7230010.3.1.3.8323329.2916.1440003598.312054\",\"1.2.276.0.7230010.3.1.3.8323329.3080.1440003610.194335\",\"1.2.276.0.7230010.3.1.3.8323329.3238.1440003621.871330\",\"1.2.276.0.7230010.3.1.3.8323329.3443.1440003633.669865\",\"1.2.276.0.7230010.3.1.3.8323329.3670.1440003645.32892\",\"1.2.276.0.7230010.3.1.3.8323329.3896.1440003656.808149\",\"1.2.276.0.7230010.3.1.3.8323329.4049.1440003668.152162\",\"1.2.276.0.7230010.3.1.3.8323329.4207.1440003679.649754\",\"1.2.276.0.7230010.3.1.3.8323329.4364.1440003690.1355\",\"1.2.276.0.7230010.3.1.3.8323329.4600.1440003710.427472\",\"1.2.276.0.7230010.3.1.3.8323329.4723.1440003713.667235\",\"1.2.276.0.7230010.3.1.3.8323329.4845.1440003716.961146\",\"1.2.276.0.7230010.3.1.3.8323329.4967.1440003720.265840\",\"1.2.276.0.7230010.3.1.3.8323329.5082.1440003723.440749\",\"1.2.276.0.7230010.3.1.3.8323329.5203.1440003726.541270\",\"1.2.276.0.7230010.3.1.3.8323329.5324.1440003729.782444\",\"1.2.276.0.7230010.3.1.3.8323329.5445.1440003733.32098\",\"1.2.276.0.7230010.3.1.3.8323329.5551.1440003736.349227\",\"1.2.276.0.7230010.3.1.3.8323329.5707.1440003739.596125\",\"1.2.276.0.7230010.3.1.3.8323329.5829.1440003742.808807\",\"1.2.276.0.7230010.3.1.3.8323329.5940.1440003745.927483\",\"1.2.276.0.7230010.3.1.3.8323329.6141.1440003764.256389\",\"1.2.276.0.7230010.3.1.3.8323329.6223.1440003766.712100\",\"1.2.276.0.7230010.3.1.3.8323329.6305.1440003769.199654\",\"1.2.276.0.7230010.3.1.3.8323329.6385.1440003771.551835\",\"1.2.276.0.7230010.3.1.3.8323329.6469.1440003774.17271\",\"1.2.276.0.7230010.3.1.3.8323329.6551.1440003776.390205\",\"1.2.276.0.7230010.3.1.3.8323329.6637.1440003778.752811\",\"1.2.276.0.7230010.3.1.3.8323329.6723.1440003781.211676\",\"1.2.276.0.7230010.3.1.3.8323329.6807.1440003783.581064\",\"1.2.276.0.7230010.3.1.3.8323329.6893.1440003786.108355\",\"1.2.276.0.7230010.3.1.3.8323329.6975.1440003788.473723\",\"1.2.276.0.7230010.3.1.3.8323329.7057.1440003790.827815\",\"1.2.276.0.7230010.3.1.3.8323329.7319.1440003830.869197\",\"1.2.276.0.7230010.3.1.3.8323329.7464.1440003841.462390\",\"1.2.276.0.7230010.3.1.3.8323329.7612.1440003851.819824\",\"1.2.276.0.7230010.3.1.3.8323329.7756.1440003862.345734\",\"1.2.276.0.7230010.3.1.3.8323329.7893.1440003873.96882\",\"1.2.276.0.7230010.3.1.3.8323329.8036.1440003883.621815\",\"1.2.276.0.7230010.3.1.3.8323329.8178.1440003893.994397\",\"1.2.276.0.7230010.3.1.3.8323329.8325.1440003904.647666\",\"1.2.276.0.7230010.3.1.3.8323329.8473.1440003915.20282\",\"1.2.276.0.7230010.3.1.3.8323329.8615.1440003925.521998\",\"1.2.276.0.7230010.3.1.3.8323329.8759.1440003936.78920\",\"1.2.276.0.7230010.3.1.3.8323329.8905.1440003946.678330\",\"1.2.276.0.7230010.3.1.3.8323329.10009.1440004053.644734\",\"1.2.276.0.7230010.3.1.3.8323329.10097.1440004060.607667\",\"1.2.276.0.7230010.3.1.3.8323329.9120.1440003986.251961\",\"1.2.276.0.7230010.3.1.3.8323329.9208.1440003992.831778\",\"1.2.276.0.7230010.3.1.3.8323329.9296.1440003999.409397\",\"1.2.276.0.7230010.3.1.3.8323329.9385.1440004006.14525\",\"1.2.276.0.7230010.3.1.3.8323329.9472.1440004013.262036\",\"1.2.276.0.7230010.3.1.3.8323329.9560.1440004020.313929\",\"1.2.276.0.7230010.3.1.3.8323329.9648.1440004026.711413\",\"1.2.276.0.7230010.3.1.3.8323329.9736.1440004033.471954\",\"1.2.276.0.7230010.3.1.3.8323329.9826.1440004040.200327\",\"1.2.276.0.7230010.3.1.3.8323329.9920.1440004046.920968\",\"1.2.276.0.7230010.3.1.3.8323329.10451.1440004107.874118\",\"1.2.276.0.7230010.3.1.3.8323329.10683.1440004124.739109\",\"1.2.276.0.7230010.3.1.3.8323329.10918.1440004141.936505\",\"1.2.276.0.7230010.3.1.3.8323329.11152.1440004159.218252\",\"1.2.276.0.7230010.3.1.3.8323329.11378.1440004176.685402\",\"1.2.276.0.7230010.3.1.3.8323329.11614.1440004194.108520\",\"1.2.276.0.7230010.3.1.3.8323329.11846.1440004211.182626\",\"1.2.276.0.7230010.3.1.3.8323329.12079.1440004228.609942\",\"1.2.276.0.7230010.3.1.3.8323329.12316.1440004245.801888\",\"1.2.276.0.7230010.3.1.3.8323329.12555.1440004263.504442\",\"1.2.276.0.7230010.3.1.3.8323329.12794.1440004280.922958\",\"1.2.276.0.7230010.3.1.3.8323329.13036.1440004298.75112\",\"1.2.276.0.7230010.3.1.3.8323329.13246.1440004315.87298\",\"1.2.276.0.7230010.3.1.3.8323329.13336.1440004317.493692\",\"1.2.276.0.7230010.3.1.3.8323329.13426.1440004319.649436\",\"1.2.276.0.7230010.3.1.3.8323329.13517.1440004321.901241\",\"1.2.276.0.7230010.3.1.3.8323329.13605.1440004324.148065\",\"1.2.276.0.7230010.3.1.3.8323329.13693.1440004326.353051\",\"1.2.276.0.7230010.3.1.3.8323329.13781.1440004328.472577\",\"1.2.276.0.7230010.3.1.3.8323329.13869.1440004330.482783\",\"1.2.276.0.7230010.3.1.3.8323329.13961.1440004332.662788\",\"1.2.276.0.7230010.3.1.3.8323329.14051.1440004334.876320\",\"1.2.276.0.7230010.3.1.3.8323329.14141.1440004336.984455\",\"1.2.276.0.7230010.3.1.3.8323329.14231.1440004338.979778\",\"1.2.276.0.7230010.3.1.3.8323329.14724.1440004401.888205\",\"1.2.276.0.7230010.3.1.3.8323329.15075.1440004431.710298\",\"1.2.276.0.7230010.3.1.3.8323329.15426.1440004461.582693\",\"1.2.276.0.7230010.3.1.3.8323329.15824.1440004495.328691\",\"1.2.276.0.7230010.3.1.3.8323329.16388.1440004535.875451\",\"1.2.276.0.7230010.3.1.3.8323329.17023.1440004576.837083\",\"1.2.276.0.7230010.3.1.3.8323329.17772.1440004617.955983\",\"1.2.276.0.7230010.3.1.3.8323329.18284.1440004658.570148\",\"1.2.276.0.7230010.3.1.3.8323329.18982.1440004697.687\",\"1.2.276.0.7230010.3.1.3.8323329.19478.1440004739.504748\",\"1.2.276.0.7230010.3.1.3.8323329.20009.1440004784.9295\",\"1.2.276.0.7230010.3.1.3.8323329.20564.1440004826.703782\",\"1.2.276.0.7230010.3.1.3.8323329.20883.1440004849.260420\",\"1.2.276.0.7230010.3.1.3.8323329.21031.1440004853.21979\",\"1.2.276.0.7230010.3.1.3.8323329.21177.1440004856.831083\",\"1.2.276.0.7230010.3.1.3.8323329.21323.1440004860.553756\",\"1.2.276.0.7230010.3.1.3.8323329.21469.1440004864.312794\",\"1.2.276.0.7230010.3.1.3.8323329.21617.1440004868.294914\",\"1.2.276.0.7230010.3.1.3.8323329.21766.1440004872.108624\",\"1.2.276.0.7230010.3.1.3.8323329.21913.1440004875.830611\",\"1.2.276.0.7230010.3.1.3.8323329.22068.1440004879.519718\",\"1.2.276.0.7230010.3.1.3.8323329.22216.1440004883.158487\",\"1.2.276.0.7230010.3.1.3.8323329.22371.1440004887.20131\",\"1.2.276.0.7230010.3.1.3.8323329.22515.1440004890.591797\",\"1.2.276.0.7230010.3.1.3.8323329.22726.1440004902.767253\",\"1.2.276.0.7230010.3.1.3.8323329.22814.1440004904.261022\",\"1.2.276.0.7230010.3.1.3.8323329.22900.1440004905.846590\",\"1.2.276.0.7230010.3.1.3.8323329.22987.1440004907.337513\",\"1.2.276.0.7230010.3.1.3.8323329.23077.1440004908.924486\",\"1.2.276.0.7230010.3.1.3.8323329.23161.1440004910.580776\",\"1.2.276.0.7230010.3.1.3.8323329.23247.1440004912.224894\",\"1.2.276.0.7230010.3.1.3.8323329.23333.1440004913.784209\",\"1.2.276.0.7230010.3.1.3.8323329.23419.1440004915.296024\",\"1.2.276.0.7230010.3.1.3.8323329.23509.1440004916.910672\",\"1.2.276.0.7230010.3.1.3.8323329.23597.1440004918.411788\",\"1.2.276.0.7230010.3.1.3.8323329.23683.1440004919.960112\",\"1.2.276.0.7230010.3.1.3.8323329.23886.1440004934.342398\",\"1.2.276.0.7230010.3.1.3.8323329.23970.1440004936.152878\",\"1.2.276.0.7230010.3.1.3.8323329.24050.1440004937.949605\",\"1.2.276.0.7230010.3.1.3.8323329.24131.1440004939.912878\",\"1.2.276.0.7230010.3.1.3.8323329.24221.1440004941.721851\",\"1.2.276.0.7230010.3.1.3.8323329.24311.1440004943.452993\",\"1.2.276.0.7230010.3.1.3.8323329.24391.1440004945.290337\",\"1.2.276.0.7230010.3.1.3.8323329.24471.1440004947.116738\",\"1.2.276.0.7230010.3.1.3.8323329.24556.1440004948.928394\",\"1.2.276.0.7230010.3.1.3.8323329.24641.1440004950.888981\",\"1.2.276.0.7230010.3.1.3.8323329.24721.1440004952.710341\",\"1.2.276.0.7230010.3.1.3.8323329.24801.1440004954.541445\",\"1.2.276.0.7230010.3.1.3.8323329.25115.1440004970.908554\",\"1.2.276.0.7230010.3.1.3.8323329.25306.1440004974.657646\",\"1.2.276.0.7230010.3.1.3.8323329.25476.1440004978.313928\",\"1.2.276.0.7230010.3.1.3.8323329.25644.1440004982.186431\",\"1.2.276.0.7230010.3.1.3.8323329.25829.1440004985.908169\",\"1.2.276.0.7230010.3.1.3.8323329.26014.1440004989.697859\",\"1.2.276.0.7230010.3.1.3.8323329.26193.1440004993.431983\",\"1.2.276.0.7230010.3.1.3.8323329.26372.1440004997.110180\",\"1.2.276.0.7230010.3.1.3.8323329.26551.1440005000.904210\",\"1.2.276.0.7230010.3.1.3.8323329.26714.1440005004.637021\",\"1.2.276.0.7230010.3.1.3.8323329.26885.1440005008.413731\",\"1.2.276.0.7230010.3.1.3.8323329.27076.1440005012.251700\",\"1.2.276.0.7230010.3.1.3.8323329.27286.1440005024.544278\",\"1.2.276.0.7230010.3.1.3.8323329.27376.1440005026.122038\",\"1.2.276.0.7230010.3.1.3.8323329.27468.1440005027.653559\",\"1.2.276.0.7230010.3.1.3.8323329.27559.1440005029.251402\",\"1.2.276.0.7230010.3.1.3.8323329.27649.1440005030.727428\",\"1.2.276.0.7230010.3.1.3.8323329.27739.1440005032.418470\",\"1.2.276.0.7230010.3.1.3.8323329.27829.1440005034.18576\",\"1.2.276.0.7230010.3.1.3.8323329.27919.1440005035.608661\",\"1.2.276.0.7230010.3.1.3.8323329.28001.1440005037.252287\",\"1.2.276.0.7230010.3.1.3.8323329.28082.1440005038.801559\",\"1.2.276.0.7230010.3.1.3.8323329.28176.1440005040.311401\",\"1.2.276.0.7230010.3.1.3.8323329.28266.1440005041.768531\",\"1.2.276.0.7230010.3.1.3.8323329.28618.1440005056.95960\",\"1.2.276.0.7230010.3.1.3.8323329.28849.1440005060.521933\",\"1.2.276.0.7230010.3.1.3.8323329.29086.1440005064.650053\",\"1.2.276.0.7230010.3.1.3.8323329.29319.1440005069.47950\",\"1.2.276.0.7230010.3.1.3.8323329.29547.1440005073.499008\",\"1.2.276.0.7230010.3.1.3.8323329.29774.1440005077.668549\",\"1.2.276.0.7230010.3.1.3.8323329.30005.1440005082.52293\",\"1.2.276.0.7230010.3.1.3.8323329.30237.1440005086.332032\",\"1.2.276.0.7230010.3.1.3.8323329.30468.1440005090.808740\",\"1.2.276.0.7230010.3.1.3.8323329.30710.1440005095.250212\",\"1.2.276.0.7230010.3.1.3.8323329.30942.1440005099.584427\",\"1.2.276.0.7230010.3.1.3.8323329.31177.1440005103.863525\",\"1.2.276.0.7230010.3.1.3.8323329.31419.1440005123.449037\",\"1.2.276.0.7230010.3.1.3.8323329.31542.1440005126.675494\",\"1.2.276.0.7230010.3.1.3.8323329.31649.1440005130.45870\",\"1.2.276.0.7230010.3.1.3.8323329.31756.1440005133.194251\",\"1.2.276.0.7230010.3.1.3.8323329.31879.1440005136.437542\",\"1.2.276.0.7230010.3.1.3.8323329.32000.1440005139.609767\",\"1.2.276.0.7230010.3.1.3.8323329.32129.1440005142.894192\",\"1.2.276.0.7230010.3.1.3.8323329.32238.1440005146.153308\",\"1.2.276.0.7230010.3.1.3.8323329.32355.1440005149.287441\",\"1.2.276.0.7230010.3.1.3.8323329.32474.1440005152.381170\",\"1.2.276.0.7230010.3.1.3.8323329.32582.1440005155.726587\",\"1.2.276.0.7230010.3.1.3.8323329.32691.1440005158.977243\",\"1.2.276.0.7230010.3.1.3.8323329.1076.1440005187.300026\",\"1.2.276.0.7230010.3.1.3.8323329.1226.1440005190.585683\",\"1.2.276.0.7230010.3.1.3.8323329.1380.1440005193.666010\",\"1.2.276.0.7230010.3.1.3.8323329.1537.1440005196.978636\",\"1.2.276.0.7230010.3.1.3.8323329.1677.1440005200.106441\",\"1.2.276.0.7230010.3.1.3.8323329.1825.1440005203.127343\",\"1.2.276.0.7230010.3.1.3.8323329.1966.1440005206.138707\",\"1.2.276.0.7230010.3.1.3.8323329.2125.1440005209.324671\",\"1.2.276.0.7230010.3.1.3.8323329.499.1440005174.626704\",\"1.2.276.0.7230010.3.1.3.8323329.648.1440005177.765188\",\"1.2.276.0.7230010.3.1.3.8323329.788.1440005181.52273\",\"1.2.276.0.7230010.3.1.3.8323329.934.1440005184.190395\",\"1.2.276.0.7230010.3.1.3.8323329.2633.1440005230.100082\",\"1.2.276.0.7230010.3.1.3.8323329.2899.1440005236.685974\",\"1.2.276.0.7230010.3.1.3.8323329.3158.1440005243.257541\",\"1.2.276.0.7230010.3.1.3.8323329.3501.1440005249.858684\",\"1.2.276.0.7230010.3.1.3.8323329.3878.1440005256.519382\",\"1.2.276.0.7230010.3.1.3.8323329.4135.1440005263.4989\",\"1.2.276.0.7230010.3.1.3.8323329.4392.1440005269.761377\",\"1.2.276.0.7230010.3.1.3.8323329.4640.1440005276.504196\",\"1.2.276.0.7230010.3.1.3.8323329.4899.1440005283.266279\",\"1.2.276.0.7230010.3.1.3.8323329.5148.1440005289.779842\",\"1.2.276.0.7230010.3.1.3.8323329.5405.1440005296.558097\",\"1.2.276.0.7230010.3.1.3.8323329.5695.1440005303.301748\",\"1.2.276.0.7230010.3.1.3.8323329.5936.1440005318.56104\",\"1.2.276.0.7230010.3.1.3.8323329.6062.1440005320.559865\",\"1.2.276.0.7230010.3.1.3.8323329.6188.1440005323.14334\",\"1.2.276.0.7230010.3.1.3.8323329.6305.1440005325.446104\",\"1.2.276.0.7230010.3.1.3.8323329.6424.1440005327.880479\",\"1.2.276.0.7230010.3.1.3.8323329.6547.1440005330.317365\",\"1.2.276.0.7230010.3.1.3.8323329.6676.1440005332.997160\",\"1.2.276.0.7230010.3.1.3.8323329.6801.1440005335.555224\",\"1.2.276.0.7230010.3.1.3.8323329.6922.1440005338.126874\",\"1.2.276.0.7230010.3.1.3.8323329.7031.1440005340.689872\",\"1.2.276.0.7230010.3.1.3.8323329.7156.1440005343.152712\",\"1.2.276.0.7230010.3.1.3.8323329.7283.1440005345.716781\",\"1.2.276.0.7230010.3.1.3.8323329.7481.1440005360.175077\",\"1.2.276.0.7230010.3.1.3.8323329.7559.1440005361.942714\",\"1.2.276.0.7230010.3.1.3.8323329.7637.1440005363.698103\",\"1.2.276.0.7230010.3.1.3.8323329.7715.1440005365.568293\",\"1.2.276.0.7230010.3.1.3.8323329.7802.1440005367.463831\",\"1.2.276.0.7230010.3.1.3.8323329.7880.1440005369.332541\",\"1.2.276.0.7230010.3.1.3.8323329.7958.1440005371.181142\",\"1.2.276.0.7230010.3.1.3.8323329.8038.1440005372.991007\",\"1.2.276.0.7230010.3.1.3.8323329.8118.1440005374.890231\",\"1.2.276.0.7230010.3.1.3.8323329.8196.1440005376.725110\",\"1.2.276.0.7230010.3.1.3.8323329.8274.1440005378.595621\",\"1.2.276.0.7230010.3.1.3.8323329.8352.1440005380.541915\",\"1.2.276.0.7230010.3.1.3.8323329.10148.1440005421.967254\",\"1.2.276.0.7230010.3.1.3.8323329.10364.1440005425.680620\",\"1.2.276.0.7230010.3.1.3.8323329.10574.1440005429.360182\",\"1.2.276.0.7230010.3.1.3.8323329.10786.1440005433.255787\",\"1.2.276.0.7230010.3.1.3.8323329.10991.1440005436.980080\",\"1.2.276.0.7230010.3.1.3.8323329.8685.1440005395.525097\",\"1.2.276.0.7230010.3.1.3.8323329.8902.1440005399.285153\",\"1.2.276.0.7230010.3.1.3.8323329.9106.1440005403.77409\",\"1.2.276.0.7230010.3.1.3.8323329.9311.1440005406.788112\",\"1.2.276.0.7230010.3.1.3.8323329.9520.1440005410.445870\",\"1.2.276.0.7230010.3.1.3.8323329.9726.1440005414.202604\",\"1.2.276.0.7230010.3.1.3.8323329.9938.1440005418.54243\",\"1.2.276.0.7230010.3.1.3.8323329.11236.1440005452.353355\",\"1.2.276.0.7230010.3.1.3.8323329.11379.1440005455.469290\",\"1.2.276.0.7230010.3.1.3.8323329.11511.1440005458.722557\",\"1.2.276.0.7230010.3.1.3.8323329.11650.1440005461.843824\",\"1.2.276.0.7230010.3.1.3.8323329.11782.1440005465.8910\",\"1.2.276.0.7230010.3.1.3.8323329.11926.1440005468.113515\",\"1.2.276.0.7230010.3.1.3.8323329.12061.1440005471.236365\",\"1.2.276.0.7230010.3.1.3.8323329.12197.1440005474.327994\",\"1.2.276.0.7230010.3.1.3.8323329.12329.1440005477.486962\",\"1.2.276.0.7230010.3.1.3.8323329.12469.1440005480.660376\",\"1.2.276.0.7230010.3.1.3.8323329.12603.1440005483.891468\",\"1.2.276.0.7230010.3.1.3.8323329.12743.1440005487.21344\",\"1.2.276.0.7230010.3.1.3.8323329.12956.1440005499.340396\",\"1.2.276.0.7230010.3.1.3.8323329.13042.1440005501.153034\",\"1.2.276.0.7230010.3.1.3.8323329.13128.1440005502.747426\",\"1.2.276.0.7230010.3.1.3.8323329.13217.1440005504.368507\",\"1.2.276.0.7230010.3.1.3.8323329.13311.1440005506.53998\",\"1.2.276.0.7230010.3.1.3.8323329.13405.1440005507.616561\",\"1.2.276.0.7230010.3.1.3.8323329.13492.1440005509.310229\",\"1.2.276.0.7230010.3.1.3.8323329.13578.1440005510.917710\",\"1.2.276.0.7230010.3.1.3.8323329.13668.1440005512.542246\",\"1.2.276.0.7230010.3.1.3.8323329.13756.1440005514.367330\",\"1.2.276.0.7230010.3.1.3.8323329.13842.1440005515.884356\",\"1.2.276.0.7230010.3.1.3.8323329.13928.1440005517.574923\",\"1.2.276.0.7230010.3.1.3.8323329.14106.1440005535.691368\",\"1.2.276.0.7230010.3.1.3.8323329.14165.1440005537.240227\",\"1.2.276.0.7230010.3.1.3.8323329.14224.1440005538.750207\",\"1.2.276.0.7230010.3.1.3.8323329.14284.1440005540.170431\",\"1.2.276.0.7230010.3.1.3.8323329.14343.1440005541.721881\",\"1.2.276.0.7230010.3.1.3.8323329.14402.1440005543.226170\",\"1.2.276.0.7230010.3.1.3.8323329.14461.1440005544.749240\",\"1.2.276.0.7230010.3.1.3.8323329.14520.1440005546.344565\",\"1.2.276.0.7230010.3.1.3.8323329.14580.1440005547.810307\",\"1.2.276.0.7230010.3.1.3.8323329.14651.1440005549.318618\",\"1.2.276.0.7230010.3.1.3.8323329.14710.1440005550.770023\",\"1.2.276.0.7230010.3.1.3.8323329.14769.1440005552.281582\",\"1.2.276.0.7230010.3.1.3.8323329.15032.1440005565.457174\",\"1.2.276.0.7230010.3.1.3.8323329.15174.1440005568.63384\",\"1.2.276.0.7230010.3.1.3.8323329.15316.1440005570.809533\",\"1.2.276.0.7230010.3.1.3.8323329.15456.1440005573.519303\",\"1.2.276.0.7230010.3.1.3.8323329.15594.1440005576.224771\",\"1.2.276.0.7230010.3.1.3.8323329.15734.1440005578.934833\",\"1.2.276.0.7230010.3.1.3.8323329.15875.1440005581.618328\",\"1.2.276.0.7230010.3.1.3.8323329.16017.1440005584.350900\",\"1.2.276.0.7230010.3.1.3.8323329.16167.1440005587.135384\",\"1.2.276.0.7230010.3.1.3.8323329.16322.1440005589.954771\",\"1.2.276.0.7230010.3.1.3.8323329.16455.1440005592.596748\",\"1.2.276.0.7230010.3.1.3.8323329.16594.1440005595.310514\",\"1.2.276.0.7230010.3.1.3.8323329.16797.1440005607.758677\",\"1.2.276.0.7230010.3.1.3.8323329.16883.1440005609.398865\",\"1.2.276.0.7230010.3.1.3.8323329.16967.1440005610.939172\",\"1.2.276.0.7230010.3.1.3.8323329.17053.1440005612.580139\",\"1.2.276.0.7230010.3.1.3.8323329.17137.1440005614.119009\",\"1.2.276.0.7230010.3.1.3.8323329.17220.1440005615.691945\",\"1.2.276.0.7230010.3.1.3.8323329.17304.1440005617.263245\",\"1.2.276.0.7230010.3.1.3.8323329.17390.1440005618.902763\",\"1.2.276.0.7230010.3.1.3.8323329.17476.1440005620.556596\",\"1.2.276.0.7230010.3.1.3.8323329.17562.1440005622.115583\",\"1.2.276.0.7230010.3.1.3.8323329.17651.1440005623.725212\",\"1.2.276.0.7230010.3.1.3.8323329.17738.1440005625.250619\",\"1.2.276.0.7230010.3.1.3.8323329.17985.1440005642.137087\",\"1.2.276.0.7230010.3.1.3.8323329.18110.1440005645.108001\",\"1.2.276.0.7230010.3.1.3.8323329.18234.1440005647.850619\",\"1.2.276.0.7230010.3.1.3.8323329.18359.1440005650.622424\",\"1.2.276.0.7230010.3.1.3.8323329.18476.1440005653.359278\",\"1.2.276.0.7230010.3.1.3.8323329.18593.1440005656.414795\",\"1.2.276.0.7230010.3.1.3.8323329.18717.1440005659.179178\",\"1.2.276.0.7230010.3.1.3.8323329.18841.1440005661.957186\",\"1.2.276.0.7230010.3.1.3.8323329.18967.1440005664.755724\",\"1.2.276.0.7230010.3.1.3.8323329.19082.1440005667.567578\",\"1.2.276.0.7230010.3.1.3.8323329.19204.1440005670.312739\",\"1.2.276.0.7230010.3.1.3.8323329.19327.1440005673.123212\",\"1.2.276.0.7230010.3.1.3.8323329.19624.1440005692.252349\",\"1.2.276.0.7230010.3.1.3.8323329.19793.1440005696.467710\",\"1.2.276.0.7230010.3.1.3.8323329.19955.1440005701.72038\",\"1.2.276.0.7230010.3.1.3.8323329.20116.1440005705.543159\",\"1.2.276.0.7230010.3.1.3.8323329.20280.1440005709.931122\",\"1.2.276.0.7230010.3.1.3.8323329.20446.1440005714.318877\",\"1.2.276.0.7230010.3.1.3.8323329.20611.1440005718.728187\",\"1.2.276.0.7230010.3.1.3.8323329.20770.1440005723.206351\",\"1.2.276.0.7230010.3.1.3.8323329.20941.1440005727.571129\",\"1.2.276.0.7230010.3.1.3.8323329.21112.1440005732.76032\",\"1.2.276.0.7230010.3.1.3.8323329.21273.1440005736.372962\",\"1.2.276.0.7230010.3.1.3.8323329.21438.1440005740.915455\",\"1.2.276.0.7230010.3.1.3.8323329.21837.1440005787.413079\",\"1.2.276.0.7230010.3.1.3.8323329.22113.1440005806.474007\",\"1.2.276.0.7230010.3.1.3.8323329.22388.1440005825.628582\",\"1.2.276.0.7230010.3.1.3.8323329.22661.1440005844.966184\",\"1.2.276.0.7230010.3.1.3.8323329.22927.1440005864.558940\",\"1.2.276.0.7230010.3.1.3.8323329.23198.1440005884.64684\",\"1.2.276.0.7230010.3.1.3.8323329.23467.1440005903.27680\",\"1.2.276.0.7230010.3.1.3.8323329.23736.1440005922.101900\",\"1.2.276.0.7230010.3.1.3.8323329.24008.1440005941.499357\",\"1.2.276.0.7230010.3.1.3.8323329.24286.1440005960.998402\",\"1.2.276.0.7230010.3.1.3.8323329.24559.1440005980.140882\",\"1.2.276.0.7230010.3.1.3.8323329.24831.1440005999.379854\",\"1.2.276.0.7230010.3.1.3.8323329.25108.1440006045.207962\",\"1.2.276.0.7230010.3.1.3.8323329.25256.1440006056.880941\",\"1.2.276.0.7230010.3.1.3.8323329.25410.1440006068.611749\",\"1.2.276.0.7230010.3.1.3.8323329.25564.1440006080.491279\",\"1.2.276.0.7230010.3.1.3.8323329.25723.1440006092.685762\",\"1.2.276.0.7230010.3.1.3.8323329.25879.1440006104.692683\",\"1.2.276.0.7230010.3.1.3.8323329.26035.1440006116.699053\",\"1.2.276.0.7230010.3.1.3.8323329.26191.1440006128.730946\",\"1.2.276.0.7230010.3.1.3.8323329.26347.1440006140.624750\",\"1.2.276.0.7230010.3.1.3.8323329.26506.1440006152.98008\",\"1.2.276.0.7230010.3.1.3.8323329.26658.1440006163.567345\",\"1.2.276.0.7230010.3.1.3.8323329.26810.1440006175.162471\",\"1.2.276.0.7230010.3.1.3.8323329.27046.1440006189.61402\",\"1.2.276.0.7230010.3.1.3.8323329.27163.1440006191.301669\",\"1.2.276.0.7230010.3.1.3.8323329.27284.1440006193.331330\",\"1.2.276.0.7230010.3.1.3.8323329.27395.1440006195.350485\",\"1.2.276.0.7230010.3.1.3.8323329.27510.1440006197.398048\",\"1.2.276.0.7230010.3.1.3.8323329.27626.1440006199.543941\",\"1.2.276.0.7230010.3.1.3.8323329.27737.1440006201.690932\",\"1.2.276.0.7230010.3.1.3.8323329.27848.1440006203.668821\",\"1.2.276.0.7230010.3.1.3.8323329.27971.1440006205.727300\",\"1.2.276.0.7230010.3.1.3.8323329.28084.1440006207.780922\",\"1.2.276.0.7230010.3.1.3.8323329.28198.1440006209.791951\",\"1.2.276.0.7230010.3.1.3.8323329.28309.1440006211.824006\",\"1.2.276.0.7230010.3.1.3.8323329.28761.1440006231.577637\",\"1.2.276.0.7230010.3.1.3.8323329.29091.1440006238.764005\",\"1.2.276.0.7230010.3.1.3.8323329.29423.1440006245.941049\",\"1.2.276.0.7230010.3.1.3.8323329.29756.1440006252.860610\",\"1.2.276.0.7230010.3.1.3.8323329.30077.1440006259.837527\",\"1.2.276.0.7230010.3.1.3.8323329.30411.1440006266.868118\",\"1.2.276.0.7230010.3.1.3.8323329.30748.1440006273.876270\",\"1.2.276.0.7230010.3.1.3.8323329.31074.1440006280.885309\",\"1.2.276.0.7230010.3.1.3.8323329.31384.1440006287.920516\",\"1.2.276.0.7230010.3.1.3.8323329.31670.1440006295.201792\",\"1.2.276.0.7230010.3.1.3.8323329.32006.1440006302.549520\",\"1.2.276.0.7230010.3.1.3.8323329.32340.1440006309.679201\"],\"x\":{\"__ndarray__\":\"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\",\"dtype\":\"float64\",\"shape\":[708]},\"y\":[\"QIN-HEADNECK-01-0003\",\"QIN-HEADNECK-01-0003\",\"QIN-HEADNECK-01-0003\",\"QIN-HEADNECK-01-0003\",\"QIN-HEADNECK-01-0003\",\"QIN-HEADNECK-01-0003\",\"QIN-HEADNECK-01-0003\",\"QIN-HEADNECK-01-0003\",\"QIN-HEADNECK-01-0003\",\"QIN-HEADNECK-01-0003\",\"QIN-HEADNECK-01-0003\",\"QIN-HEADNECK-01-0003\",\"QIN-HEADNECK-01-0017\",\"QIN-HEADNECK-01-0017\",\"QIN-HEADNECK-01-0017\",\"QIN-HEADNECK-01-0017\",\"QIN-HEADNECK-01-0017\",\"QIN-HEADNECK-01-0017\",\"QIN-HEADNECK-01-0017\",\"QIN-HEADNECK-01-0017\",\"QIN-HEADNECK-01-0017\",\"QIN-HEADNECK-01-0017\",\"QIN-HEADNECK-01-0017\",\"QIN-HEADNECK-01-0017\",\"QIN-HEADNECK-01-0024\",\"QIN-HEADNECK-01-0024\",\"QIN-HEADNECK-01-0024\",\"QIN-HEADNECK-01-0024\",\"QIN-HEADNECK-01-0024\",\"QIN-HEADNECK-01-0024\",\"QIN-HEADNECK-01-0024\",\"QIN-HEADNECK-01-0024\",\"QIN-HEADNECK-01-0024\",\"QIN-HEADNECK-01-0024\",\"QIN-HEADNECK-01-0024\",\"QIN-HEADNECK-01-0024\",\"QIN-HEADNECK-01-0026\",\"QIN-HEADNECK-01-0026\",\"QIN-HEADNECK-01-0026\",\"QIN-HEADNECK-01-0026\",\"QIN-HEADNECK-01-0026\",\"QIN-HEADNECK-01-0026\",\"QIN-HEADNECK-01-0026\",\"QIN-HEADNECK-01-0026\",\"QIN-HEADNECK-01-0026\",\"QIN-HEADNECK-01-0026\",\"QIN-HEADNECK-01-0026\",\"QIN-HEADNECK-01-0026\",\"QIN-HEADNECK-01-0028\",\"QIN-HEADNECK-01-0028\",\"QIN-HEADNECK-01-0028\",\"QIN-HEADNECK-01-0028\",\"QIN-HEADNECK-01-0028\",\"QIN-HEADNECK-01-0028\",\"QIN-HEADNECK-01-0028\",\"QIN-HEADNECK-01-0028\",\"QIN-HEADNECK-01-0028\",\"QIN-HEADNECK-01-0028\",\"QIN-HEADNECK-01-0028\",\"QIN-HEADNECK-01-0028\",\"QIN-HEADNECK-01-0034\",\"QIN-HEADNECK-01-0034\",\"QIN-HEADNECK-01-0034\",\"QIN-HEADNECK-01-0034\",\"QIN-HEADNECK-01-0034\",\"QIN-HEADNECK-01-0034\",\"QIN-HEADNECK-01-0034\",\"QIN-HEADNECK-01-0034\",\"QIN-HEADNECK-01-0034\",\"QIN-HEADNECK-01-0034\",\"QIN-HEADNECK-01-0034\",\"QIN-HEADNECK-01-0034\",\"QIN-HEADNECK-01-0041\",\"QIN-HEADNECK-01-0041\",\"QIN-HEADNECK-01-0041\",\"QIN-HEADNECK-01-0041\",\"QIN-HEADNECK-01-0041\",\"QIN-HEADNECK-01-0041\",\"QIN-HEADNECK-01-0041\",\"QIN-HEADNECK-01-0041\",\"QIN-HEADNECK-01-0041\",\"QIN-HEADNECK-01-0041\",\"QIN-HEADNECK-01-0041\",\"QIN-HEADNECK-01-0041\",\"QIN-HEADNECK-01-0046\",\"QIN-HEADNECK-01-0046\",\"QIN-HEADNECK-01-0046\",\"QIN-HEADNECK-01-0046\",\"QIN-HEADNECK-01-0046\",\"QIN-HEADNECK-01-0046\",\"QIN-HEADNECK-01-0046\",\"QIN-HEADNECK-01-0046\",\"QIN-HEADNECK-01-0046\",\"QIN-HEADNECK-01-0046\",\"QIN-HEADNECK-01-0046\",\"QIN-HEADNECK-01-0046\",\"QIN-HEADNECK-01-0047\",\"QIN-HEADNECK-01-0047\",\"QIN-HEADNECK-01-0047\",\"QIN-HEADNECK-01-0047\",\"QIN-HEADNECK-01-0047\",\"QIN-HEADNECK-01-0047\",\"QIN-HEADNECK-01-0047\",\"QIN-HEADNECK-01-0047\",\"QIN-HEADNECK-01-0047\",\"QIN-HEADNECK-01-0047\",\"QIN-HEADNECK-01-0047\",\"QIN-HEADNECK-01-0047\",\"QIN-HEADNECK-01-0055\",\"QIN-HEADNECK-01-0055\",\"QIN-HEADNECK-01-0055\",\"QIN-HEADNECK-01-0055\",\"QIN-HEADNECK-01-0055\",\"QIN-HEADNECK-01-0055\",\"QIN-HEADNECK-01-0055\",\"QIN-HEADNECK-01-0055\",\"QIN-HEADNECK-01-0055\",\"QIN-HEADNECK-01-0055\",\"QIN-HEADNECK-01-0055\",\"QIN-HEADNECK-01-0055\",\"QIN-HEADNECK-01-0057\",\"QIN-HEADNECK-01-0057\",\"QIN-HEADNECK-01-0057\",\"QIN-HEADNECK-01-0057\",\"QIN-HEADNECK-01-0057\",\"QIN-HEADNECK-01-0057\",\"QIN-HEADNECK-01-0057\",\"QIN-HEADNECK-01-0057\",\"QIN-HEADNECK-01-0057\",\"QIN-HEADNECK-01-0057\",\"QIN-HEADNECK-01-0057\",\"QIN-HEADNECK-01-0057\",\"QIN-HEADNECK-01-0060\",\"QIN-HEADNECK-01-0060\",\"QIN-HEADNECK-01-0060\",\"QIN-HEADNECK-01-0060\",\"QIN-HEADNECK-01-0060\",\"QIN-HEADNECK-01-0060\",\"QIN-HEADNECK-01-0060\",\"QIN-HEADNECK-01-0060\",\"QIN-HEADNECK-01-0060\",\"QIN-HEADNECK-01-0060\",\"QIN-HEADNECK-01-0060\",\"QIN-HEADNECK-01-0060\",\"QIN-HEADNECK-01-0062\",\"QIN-HEADNECK-01-0062\",\"QIN-HEADNECK-01-0062\",\"QIN-HEADNECK-01-0062\",\"QIN-HEADNECK-01-0062\",\"QIN-HEADNECK-01-0062\",\"QIN-HEADNECK-01-0062\",\"QIN-HEADNECK-01-0062\",\"QIN-HEADNECK-01-0062\",\"QIN-HEADNECK-01-0062\",\"QIN-HEADNECK-01-0062\",\"QIN-HEADNECK-01-0062\",\"QIN-HEADNECK-01-0064\",\"QIN-HEADNECK-01-0064\",\"QIN-HEADNECK-01-0064\",\"QIN-HEADNECK-01-0064\",\"QIN-HEADNECK-01-0064\",\"QIN-HEADNECK-01-0064\",\"QIN-HEADNECK-01-0064\",\"QIN-HEADNECK-01-0064\",\"QIN-HEADNECK-01-0064\",\"QIN-HEADNECK-01-0064\",\"QIN-HEADNECK-01-0064\",\"QIN-HEADNECK-01-0064\",\"QIN-HEADNECK-01-0065\",\"QIN-HEADNECK-01-0065\",\"QIN-HEADNECK-01-0065\",\"QIN-HEADNECK-01-0065\",\"QIN-HEADNECK-01-0065\",\"QIN-HEADNECK-01-0065\",\"QIN-HEADNECK-01-0065\",\"QIN-HEADNECK-01-0065\",\"QIN-HEADNECK-01-0065\",\"QIN-HEADNECK-01-0065\",\"QIN-HEADNECK-01-0065\",\"QIN-HEADNECK-01-0065\",\"QIN-HEADNECK-01-0067\",\"QIN-HEADNECK-01-0067\",\"QIN-HEADNECK-01-0067\",\"QIN-HEADNECK-01-0067\",\"QIN-HEADNECK-01-0067\",\"QIN-HEADNECK-01-0067\",\"QIN-HEADNECK-01-0067\",\"QIN-HEADNECK-01-0067\",\"QIN-HEADNECK-01-0067\",\"QIN-HEADNECK-01-0067\",\"QIN-HEADNECK-01-0067\",\"QIN-HEADNECK-01-0067\",\"QIN-HEADNECK-01-0071\",\"QIN-HEADNECK-01-0071\",\"QIN-HEADNECK-01-0071\",\"QIN-HEADNECK-01-0071\",\"QIN-HEADNECK-01-0071\",\"QIN-HEADNECK-01-0071\",\"QIN-HEADNECK-01-0071\",\"QIN-HEADNECK-01-0071\",\"QIN-HEADNECK-01-0071\",\"QIN-HEADNECK-01-0071\",\"QIN-HEADNECK-01-0071\",\"QIN-HEADNECK-01-0071\",\"QIN-HEADNECK-01-0074\",\"QIN-HEADNECK-01-0074\",\"QIN-HEADNECK-01-0074\",\"QIN-HEADNECK-01-0074\",\"QIN-HEADNECK-01-0074\",\"QIN-HEADNECK-01-0074\",\"QIN-HEADNECK-01-0074\",\"QIN-HEADNECK-01-0074\",\"QIN-HEADNECK-01-0074\",\"QIN-HEADNECK-01-0074\",\"QIN-HEADNECK-01-0074\",\"QIN-HEADNECK-01-0074\",\"QIN-HEADNECK-01-0079\",\"QIN-HEADNECK-01-0079\",\"QIN-HEADNECK-01-0079\",\"QIN-HEADNECK-01-0079\",\"QIN-HEADNECK-01-0079\",\"QIN-HEADNECK-01-0079\",\"QIN-HEADNECK-01-0079\",\"QIN-HEADNECK-01-0079\",\"QIN-HEADNECK-01-0079\",\"QIN-HEADNECK-01-0079\",\"QIN-HEADNECK-01-0079\",\"QIN-HEADNECK-01-0079\",\"QIN-HEADNECK-01-0081\",\"QIN-HEADNECK-01-0081\",\"QIN-HEADNECK-01-0081\",\"QIN-HEADNECK-01-0081\",\"QIN-HEADNECK-01-0081\",\"QIN-HEADNECK-01-0081\",\"QIN-HEADNECK-01-0081\",\"QIN-HEADNECK-01-0081\",\"QIN-HEADNECK-01-0081\",\"QIN-HEADNECK-01-0081\",\"QIN-HEADNECK-01-0081\",\"QIN-HEADNECK-01-0081\",\"QIN-HEADNECK-01-0086\",\"QIN-HEADNECK-01-0086\",\"QIN-HEADNECK-01-0086\",\"QIN-HEADNECK-01-0086\",\"QIN-HEADNECK-01-0086\",\"QIN-HEADNECK-01-0086\",\"QIN-HEADNECK-01-0086\",\"QIN-HEADNECK-01-0086\",\"QIN-HEADNECK-01-0086\",\"QIN-HEADNECK-01-0086\",\"QIN-HEADNECK-01-0086\",\"QIN-HEADNECK-01-0086\",\"QIN-HEADNECK-01-0089\",\"QIN-HEADNECK-01-0089\",\"QIN-HEADNECK-01-0089\",\"QIN-HEADNECK-01-0089\",\"QIN-HEADNECK-01-0089\",\"QIN-HEADNECK-01-0089\",\"QIN-HEADNECK-01-0089\",\"QIN-HEADNECK-01-0089\",\"QIN-HEADNECK-01-0089\",\"QIN-HEADNECK-01-0089\",\"QIN-HEADNECK-01-0089\",\"QIN-HEADNECK-01-0089\",\"QIN-HEADNECK-01-0091\",\"QIN-HEADNECK-01-0091\",\"QIN-HEADNECK-01-0091\",\"QIN-HEADNECK-01-0091\",\"QIN-HEADNECK-01-0091\",\"QIN-HEADNECK-01-0091\",\"QIN-HEADNECK-01-0091\",\"QIN-HEADNECK-01-0091\",\"QIN-HEADNECK-01-0091\",\"QIN-HEADNECK-01-0091\",\"QIN-HEADNECK-01-0091\",\"QIN-HEADNECK-01-0091\",\"QIN-HEADNECK-01-0098\",\"QIN-HEADNECK-01-0098\",\"QIN-HEADNECK-01-0098\",\"QIN-HEADNECK-01-0098\",\"QIN-HEADNECK-01-0098\",\"QIN-HEADNECK-01-0098\",\"QIN-HEADNECK-01-0098\",\"QIN-HEADNECK-01-0098\",\"QIN-HEADNECK-01-0098\",\"QIN-HEADNECK-01-0098\",\"QIN-HEADNECK-01-0098\",\"QIN-HEADNECK-01-0098\",\"QIN-HEADNECK-01-0100\",\"QIN-HEADNECK-01-0100\",\"QIN-HEADNECK-01-0100\",\"QIN-HEADNECK-01-0100\",\"QIN-HEADNECK-01-0100\",\"QIN-HEADNECK-01-0100\",\"QIN-HEADNECK-01-0100\",\"QIN-HEADNECK-01-0100\",\"QIN-HEADNECK-01-0100\",\"QIN-HEADNECK-01-0100\",\"QIN-HEADNECK-01-0100\",\"QIN-HEADNECK-01-0100\",\"QIN-HEADNECK-01-0112\",\"QIN-HEADNECK-01-0112\",\"QIN-HEADNECK-01-0112\",\"QIN-HEADNECK-01-0112\",\"QIN-HEADNECK-01-0112\",\"QIN-HEADNECK-01-0112\",\"QIN-HEADNECK-01-0112\",\"QIN-HEADNECK-01-0112\",\"QIN-HEADNECK-01-0112\",\"QIN-HEADNECK-01-0112\",\"QIN-HEADNECK-01-0112\",\"QIN-HEADNECK-01-0112\",\"QIN-HEADNECK-01-0115\",\"QIN-HEADNECK-01-0115\",\"QIN-HEADNECK-01-0115\",\"QIN-HEADNECK-01-0115\",\"QIN-HEADNECK-01-0115\",\"QIN-HEADNECK-01-0115\",\"QIN-HEADNECK-01-0115\",\"QIN-HEADNECK-01-0115\",\"QIN-HEADNECK-01-0115\",\"QIN-HEADNECK-01-0115\",\"QIN-HEADNECK-01-0115\",\"QIN-HEADNECK-01-0115\",\"QIN-HEADNECK-01-0116\",\"QIN-HEADNECK-01-0116\",\"QIN-HEADNECK-01-0116\",\"QIN-HEADNECK-01-0116\",\"QIN-HEADNECK-01-0116\",\"QIN-HEADNECK-01-0116\",\"QIN-HEADNECK-01-0116\",\"QIN-HEADNECK-01-0116\",\"QIN-HEADNECK-01-0116\",\"QIN-HEADNECK-01-0116\",\"QIN-HEADNECK-01-0116\",\"QIN-HEADNECK-01-0116\",\"QIN-HEADNECK-01-0118\",\"QIN-HEADNECK-01-0118\",\"QIN-HEADNECK-01-0118\",\"QIN-HEADNECK-01-0118\",\"QIN-HEADNECK-01-0118\",\"QIN-HEADNECK-01-0118\",\"QIN-HEADNECK-01-0118\",\"QIN-HEADNECK-01-0118\",\"QIN-HEADNECK-01-0118\",\"QIN-HEADNECK-01-0118\",\"QIN-HEADNECK-01-0118\",\"QIN-HEADNECK-01-0118\",\"QIN-HEADNECK-01-0120\",\"QIN-HEADNECK-01-0120\",\"QIN-HEADNECK-01-0120\",\"QIN-HEADNECK-01-0120\",\"QIN-HEADNECK-01-0120\",\"QIN-HEADNECK-01-0120\",\"QIN-HEADNECK-01-0120\",\"QIN-HEADNECK-01-0120\",\"QIN-HEADNECK-01-0120\",\"QIN-HEADNECK-01-0120\",\"QIN-HEADNECK-01-0120\",\"QIN-HEADNECK-01-0120\",\"QIN-HEADNECK-01-0127\",\"QIN-HEADNECK-01-0127\",\"QIN-HEADNECK-01-0127\",\"QIN-HEADNECK-01-0127\",\"QIN-HEADNECK-01-0127\",\"QIN-HEADNECK-01-0127\",\"QIN-HEADNECK-01-0127\",\"QIN-HEADNECK-01-0127\",\"QIN-HEADNECK-01-0127\",\"QIN-HEADNECK-01-0127\",\"QIN-HEADNECK-01-0127\",\"QIN-HEADNECK-01-0127\",\"QIN-HEADNECK-01-0129\",\"QIN-HEADNECK-01-0129\",\"QIN-HEADNECK-01-0129\",\"QIN-HEADNECK-01-0129\",\"QIN-HEADNECK-01-0129\",\"QIN-HEADNECK-01-0129\",\"QIN-HEADNECK-01-0129\",\"QIN-HEADNECK-01-0129\",\"QIN-HEADNECK-01-0129\",\"QIN-HEADNECK-01-0129\",\"QIN-HEADNECK-01-0129\",\"QIN-HEADNECK-01-0129\",\"QIN-HEADNECK-01-0131\",\"QIN-HEADNECK-01-0131\",\"QIN-HEADNECK-01-0131\",\"QIN-HEADNECK-01-0131\",\"QIN-HEADNECK-01-0131\",\"QIN-HEADNECK-01-0131\",\"QIN-HEADNECK-01-0131\",\"QIN-HEADNECK-01-0131\",\"QIN-HEADNECK-01-0131\",\"QIN-HEADNECK-01-0131\",\"QIN-HEADNECK-01-0131\",\"QIN-HEADNECK-01-0131\",\"QIN-HEADNECK-01-0135\",\"QIN-HEADNECK-01-0135\",\"QIN-HEADNECK-01-0135\",\"QIN-HEADNECK-01-0135\",\"QIN-HEADNECK-01-0135\",\"QIN-HEADNECK-01-0135\",\"QIN-HEADNECK-01-0135\",\"QIN-HEADNECK-01-0135\",\"QIN-HEADNECK-01-0135\",\"QIN-HEADNECK-01-0135\",\"QIN-HEADNECK-01-0135\",\"QIN-HEADNECK-01-0135\",\"QIN-HEADNECK-01-0137\",\"QIN-HEADNECK-01-0137\",\"QIN-HEADNECK-01-0137\",\"QIN-HEADNECK-01-0137\",\"QIN-HEADNECK-01-0137\",\"QIN-HEADNECK-01-0137\",\"QIN-HEADNECK-01-0137\",\"QIN-HEADNECK-01-0137\",\"QIN-HEADNECK-01-0137\",\"QIN-HEADNECK-01-0137\",\"QIN-HEADNECK-01-0137\",\"QIN-HEADNECK-01-0137\",\"QIN-HEADNECK-01-0139\",\"QIN-HEADNECK-01-0139\",\"QIN-HEADNECK-01-0139\",\"QIN-HEADNECK-01-0139\",\"QIN-HEADNECK-01-0139\",\"QIN-HEADNECK-01-0139\",\"QIN-HEADNECK-01-0139\",\"QIN-HEADNECK-01-0139\",\"QIN-HEADNECK-01-0139\",\"QIN-HEADNECK-01-0139\",\"QIN-HEADNECK-01-0139\",\"QIN-HEADNECK-01-0139\",\"QIN-HEADNECK-01-0140\",\"QIN-HEADNECK-01-0140\",\"QIN-HEADNECK-01-0140\",\"QIN-HEADNECK-01-0140\",\"QIN-HEADNECK-01-0140\",\"QIN-HEADNECK-01-0140\",\"QIN-HEADNECK-01-0140\",\"QIN-HEADNECK-01-0140\",\"QIN-HEADNECK-01-0140\",\"QIN-HEADNECK-01-0140\",\"QIN-HEADNECK-01-0140\",\"QIN-HEADNECK-01-0140\",\"QIN-HEADNECK-01-0157\",\"QIN-HEADNECK-01-0157\",\"QIN-HEADNECK-01-0157\",\"QIN-HEADNECK-01-0157\",\"QIN-HEADNECK-01-0157\",\"QIN-HEADNECK-01-0157\",\"QIN-HEADNECK-01-0157\",\"QIN-HEADNECK-01-0157\",\"QIN-HEADNECK-01-0157\",\"QIN-HEADNECK-01-0157\",\"QIN-HEADNECK-01-0157\",\"QIN-HEADNECK-01-0157\",\"QIN-HEADNECK-01-0164\",\"QIN-HEADNECK-01-0164\",\"QIN-HEADNECK-01-0164\",\"QIN-HEADNECK-01-0164\",\"QIN-HEADNECK-01-0164\",\"QIN-HEADNECK-01-0164\",\"QIN-HEADNECK-01-0164\",\"QIN-HEADNECK-01-0164\",\"QIN-HEADNECK-01-0164\",\"QIN-HEADNECK-01-0164\",\"QIN-HEADNECK-01-0164\",\"QIN-HEADNECK-01-0164\",\"QIN-HEADNECK-01-0165\",\"QIN-HEADNECK-01-0165\",\"QIN-HEADNECK-01-0165\",\"QIN-HEADNECK-01-0165\",\"QIN-HEADNECK-01-0165\",\"QIN-HEADNECK-01-0165\",\"QIN-HEADNECK-01-0165\",\"QIN-HEADNECK-01-0165\",\"QIN-HEADNECK-01-0165\",\"QIN-HEADNECK-01-0165\",\"QIN-HEADNECK-01-0165\",\"QIN-HEADNECK-01-0165\",\"QIN-HEADNECK-01-0172\",\"QIN-HEADNECK-01-0172\",\"QIN-HEADNECK-01-0172\",\"QIN-HEADNECK-01-0172\",\"QIN-HEADNECK-01-0172\",\"QIN-HEADNECK-01-0172\",\"QIN-HEADNECK-01-0172\",\"QIN-HEADNECK-01-0172\",\"QIN-HEADNECK-01-0172\",\"QIN-HEADNECK-01-0172\",\"QIN-HEADNECK-01-0172\",\"QIN-HEADNECK-01-0172\",\"QIN-HEADNECK-01-0180\",\"QIN-HEADNECK-01-0180\",\"QIN-HEADNECK-01-0180\",\"QIN-HEADNECK-01-0180\",\"QIN-HEADNECK-01-0180\",\"QIN-HEADNECK-01-0180\",\"QIN-HEADNECK-01-0180\",\"QIN-HEADNECK-01-0180\",\"QIN-HEADNECK-01-0180\",\"QIN-HEADNECK-01-0180\",\"QIN-HEADNECK-01-0180\",\"QIN-HEADNECK-01-0180\",\"QIN-HEADNECK-01-0184\",\"QIN-HEADNECK-01-0184\",\"QIN-HEADNECK-01-0184\",\"QIN-HEADNECK-01-0184\",\"QIN-HEADNECK-01-0184\",\"QIN-HEADNECK-01-0184\",\"QIN-HEADNECK-01-0184\",\"QIN-HEADNECK-01-0184\",\"QIN-HEADNECK-01-0184\",\"QIN-HEADNECK-01-0184\",\"QIN-HEADNECK-01-0184\",\"QIN-HEADNECK-01-0184\",\"QIN-HEADNECK-01-0186\",\"QIN-HEADNECK-01-0186\",\"QIN-HEADNECK-01-0186\",\"QIN-HEADNECK-01-0186\",\"QIN-HEADNECK-01-0186\",\"QIN-HEADNECK-01-0186\",\"QIN-HEADNECK-01-0186\",\"QIN-HEADNECK-01-0186\",\"QIN-HEADNECK-01-0186\",\"QIN-HEADNECK-01-0186\",\"QIN-HEADNECK-01-0186\",\"QIN-HEADNECK-01-0186\",\"QIN-HEADNECK-01-0190\",\"QIN-HEADNECK-01-0190\",\"QIN-HEADNECK-01-0190\",\"QIN-HEADNECK-01-0190\",\"QIN-HEADNECK-01-0190\",\"QIN-HEADNECK-01-0190\",\"QIN-HEADNECK-01-0190\",\"QIN-HEADNECK-01-0190\",\"QIN-HEADNECK-01-0190\",\"QIN-HEADNECK-01-0190\",\"QIN-HEADNECK-01-0190\",\"QIN-HEADNECK-01-0190\",\"QIN-HEADNECK-01-0199\",\"QIN-HEADNECK-01-0199\",\"QIN-HEADNECK-01-0199\",\"QIN-HEADNECK-01-0199\",\"QIN-HEADNECK-01-0199\",\"QIN-HEADNECK-01-0199\",\"QIN-HEADNECK-01-0199\",\"QIN-HEADNECK-01-0199\",\"QIN-HEADNECK-01-0199\",\"QIN-HEADNECK-01-0199\",\"QIN-HEADNECK-01-0199\",\"QIN-HEADNECK-01-0199\",\"QIN-HEADNECK-01-0200\",\"QIN-HEADNECK-01-0200\",\"QIN-HEADNECK-01-0200\",\"QIN-HEADNECK-01-0200\",\"QIN-HEADNECK-01-0200\",\"QIN-HEADNECK-01-0200\",\"QIN-HEADNECK-01-0200\",\"QIN-HEADNECK-01-0200\",\"QIN-HEADNECK-01-0200\",\"QIN-HEADNECK-01-0200\",\"QIN-HEADNECK-01-0200\",\"QIN-HEADNECK-01-0200\",\"QIN-HEADNECK-01-0201\",\"QIN-HEADNECK-01-0201\",\"QIN-HEADNECK-01-0201\",\"QIN-HEADNECK-01-0201\",\"QIN-HEADNECK-01-0201\",\"QIN-HEADNECK-01-0201\",\"QIN-HEADNECK-01-0201\",\"QIN-HEADNECK-01-0201\",\"QIN-HEADNECK-01-0201\",\"QIN-HEADNECK-01-0201\",\"QIN-HEADNECK-01-0201\",\"QIN-HEADNECK-01-0201\",\"QIN-HEADNECK-01-0203\",\"QIN-HEADNECK-01-0203\",\"QIN-HEADNECK-01-0203\",\"QIN-HEADNECK-01-0203\",\"QIN-HEADNECK-01-0203\",\"QIN-HEADNECK-01-0203\",\"QIN-HEADNECK-01-0203\",\"QIN-HEADNECK-01-0203\",\"QIN-HEADNECK-01-0203\",\"QIN-HEADNECK-01-0203\",\"QIN-HEADNECK-01-0203\",\"QIN-HEADNECK-01-0203\",\"QIN-HEADNECK-01-0212\",\"QIN-HEADNECK-01-0212\",\"QIN-HEADNECK-01-0212\",\"QIN-HEADNECK-01-0212\",\"QIN-HEADNECK-01-0212\",\"QIN-HEADNECK-01-0212\",\"QIN-HEADNECK-01-0212\",\"QIN-HEADNECK-01-0212\",\"QIN-HEADNECK-01-0212\",\"QIN-HEADNECK-01-0212\",\"QIN-HEADNECK-01-0212\",\"QIN-HEADNECK-01-0212\",\"QIN-HEADNECK-01-0214\",\"QIN-HEADNECK-01-0214\",\"QIN-HEADNECK-01-0214\",\"QIN-HEADNECK-01-0214\",\"QIN-HEADNECK-01-0214\",\"QIN-HEADNECK-01-0214\",\"QIN-HEADNECK-01-0214\",\"QIN-HEADNECK-01-0214\",\"QIN-HEADNECK-01-0214\",\"QIN-HEADNECK-01-0214\",\"QIN-HEADNECK-01-0214\",\"QIN-HEADNECK-01-0214\",\"QIN-HEADNECK-01-0220\",\"QIN-HEADNECK-01-0220\",\"QIN-HEADNECK-01-0220\",\"QIN-HEADNECK-01-0220\",\"QIN-HEADNECK-01-0220\",\"QIN-HEADNECK-01-0220\",\"QIN-HEADNECK-01-0220\",\"QIN-HEADNECK-01-0220\",\"QIN-HEADNECK-01-0220\",\"QIN-HEADNECK-01-0220\",\"QIN-HEADNECK-01-0220\",\"QIN-HEADNECK-01-0220\",\"QIN-HEADNECK-01-0222\",\"QIN-HEADNECK-01-0222\",\"QIN-HEADNECK-01-0222\",\"QIN-HEADNECK-01-0222\",\"QIN-HEADNECK-01-0222\",\"QIN-HEADNECK-01-0222\",\"QIN-HEADNECK-01-0222\",\"QIN-HEADNECK-01-0222\",\"QIN-HEADNECK-01-0222\",\"QIN-HEADNECK-01-0222\",\"QIN-HEADNECK-01-0222\",\"QIN-HEADNECK-01-0222\",\"QIN-HEADNECK-01-0224\",\"QIN-HEADNECK-01-0224\",\"QIN-HEADNECK-01-0224\",\"QIN-HEADNECK-01-0224\",\"QIN-HEADNECK-01-0224\",\"QIN-HEADNECK-01-0224\",\"QIN-HEADNECK-01-0224\",\"QIN-HEADNECK-01-0224\",\"QIN-HEADNECK-01-0224\",\"QIN-HEADNECK-01-0224\",\"QIN-HEADNECK-01-0224\",\"QIN-HEADNECK-01-0224\",\"QIN-HEADNECK-01-0228\",\"QIN-HEADNECK-01-0228\",\"QIN-HEADNECK-01-0228\",\"QIN-HEADNECK-01-0228\",\"QIN-HEADNECK-01-0228\",\"QIN-HEADNECK-01-0228\",\"QIN-HEADNECK-01-0228\",\"QIN-HEADNECK-01-0228\",\"QIN-HEADNECK-01-0228\",\"QIN-HEADNECK-01-0228\",\"QIN-HEADNECK-01-0228\",\"QIN-HEADNECK-01-0228\",\"QIN-HEADNECK-01-0239\",\"QIN-HEADNECK-01-0239\",\"QIN-HEADNECK-01-0239\",\"QIN-HEADNECK-01-0239\",\"QIN-HEADNECK-01-0239\",\"QIN-HEADNECK-01-0239\",\"QIN-HEADNECK-01-0239\",\"QIN-HEADNECK-01-0239\",\"QIN-HEADNECK-01-0239\",\"QIN-HEADNECK-01-0239\",\"QIN-HEADNECK-01-0239\",\"QIN-HEADNECK-01-0239\",\"QIN-HEADNECK-01-0244\",\"QIN-HEADNECK-01-0244\",\"QIN-HEADNECK-01-0244\",\"QIN-HEADNECK-01-0244\",\"QIN-HEADNECK-01-0244\",\"QIN-HEADNECK-01-0244\",\"QIN-HEADNECK-01-0244\",\"QIN-HEADNECK-01-0244\",\"QIN-HEADNECK-01-0244\",\"QIN-HEADNECK-01-0244\",\"QIN-HEADNECK-01-0244\",\"QIN-HEADNECK-01-0244\",\"QIN-HEADNECK-01-0275\",\"QIN-HEADNECK-01-0275\",\"QIN-HEADNECK-01-0275\",\"QIN-HEADNECK-01-0275\",\"QIN-HEADNECK-01-0275\",\"QIN-HEADNECK-01-0275\",\"QIN-HEADNECK-01-0275\",\"QIN-HEADNECK-01-0275\",\"QIN-HEADNECK-01-0275\",\"QIN-HEADNECK-01-0275\",\"QIN-HEADNECK-01-0275\",\"QIN-HEADNECK-01-0275\",\"QIN-HEADNECK-01-0366\",\"QIN-HEADNECK-01-0366\",\"QIN-HEADNECK-01-0366\",\"QIN-HEADNECK-01-0366\",\"QIN-HEADNECK-01-0366\",\"QIN-HEADNECK-01-0366\",\"QIN-HEADNECK-01-0366\",\"QIN-HEADNECK-01-0366\",\"QIN-HEADNECK-01-0366\",\"QIN-HEADNECK-01-0366\",\"QIN-HEADNECK-01-0366\",\"QIN-HEADNECK-01-0366\"]}},\"id\":\"ff779eba-4346-4747-848d-18ec2578051b\",\"type\":\"ColumnDataSource\"},{\"attributes\":{\"fill_alpha\":{\"value\":0.1},\"fill_color\":{\"value\":\"#1f77b4\"},\"line_alpha\":{\"value\":0.1},\"line_color\":{\"value\":\"#1f77b4\"},\"x\":{\"field\":\"x\"},\"y\":{\"field\":\"y\"}},\"id\":\"dfb87ce2-8c8a-4c0a-9307-d5d88a5502b3\",\"type\":\"Circle\"},{\"attributes\":{\"plot\":null,\"text\":\"Variability of primary neoplasm volume by reader\"},\"id\":\"682eb52e-5eeb-4164-b494-eb7dc84a1962\",\"type\":\"Title\"},{\"attributes\":{\"bottom_units\":\"screen\",\"fill_alpha\":{\"value\":0.5},\"fill_color\":{\"value\":\"lightgrey\"},\"left_units\":\"screen\",\"level\":\"overlay\",\"line_alpha\":{\"value\":1.0},\"line_color\":{\"value\":\"black\"},\"line_dash\":[4,4],\"line_width\":{\"value\":2},\"plot\":null,\"render_mode\":\"css\",\"right_units\":\"screen\",\"top_units\":\"screen\"},\"id\":\"0162220b-0cb5-44b9-9827-2bc49e066d40\",\"type\":\"BoxAnnotation\"},{\"attributes\":{\"callback\":null,\"end\":98.4239,\"start\":1.10586},\"id\":\"f04dfcbe-682d-48a6-9c14-f67e198b849a\",\"type\":\"Range1d\"},{\"attributes\":{\"plot\":{\"id\":\"5b1d3571-6450-4c3d-911d-cee09a5ff0c1\",\"subtype\":\"Figure\",\"type\":\"Plot\"}},\"id\":\"c2114016-aea6-47c4-98c0-b1a247a0df91\",\"type\":\"WheelZoomTool\"},{\"attributes\":{\"url\":\"http://pieper.github.com/dcmjs/examples/qiicr/?seriesUID=@seriesUID\"},\"id\":\"bebc748d-e611-4170-932f-f605d8050f04\",\"type\":\"OpenURL\"},{\"attributes\":{},\"id\":\"5ca523ac-f050-4471-a567-bee55a31a27b\",\"type\":\"LinearScale\"},{\"attributes\":{},\"id\":\"4eca7045-4526-42bf-9e50-97fd1a9eeb6d\",\"type\":\"BasicTickFormatter\"},{\"attributes\":{\"callback\":{\"id\":\"bebc748d-e611-4170-932f-f605d8050f04\",\"type\":\"OpenURL\"},\"plot\":{\"id\":\"5b1d3571-6450-4c3d-911d-cee09a5ff0c1\",\"subtype\":\"Figure\",\"type\":\"Plot\"}},\"id\":\"a1b2f0a5-15bd-4f2b-be56-6082ee25e70e\",\"type\":\"TapTool\"},{\"attributes\":{\"dimension\":1,\"plot\":{\"id\":\"5b1d3571-6450-4c3d-911d-cee09a5ff0c1\",\"subtype\":\"Figure\",\"type\":\"Plot\"},\"ticker\":{\"id\":\"7ea252dd-e38f-46e5-91d9-99506699e8c3\",\"type\":\"CategoricalTicker\"}},\"id\":\"7f343053-b933-42dc-963b-b2ea7ded94ea\",\"type\":\"Grid\"},{\"attributes\":{\"data_source\":{\"id\":\"ff779eba-4346-4747-848d-18ec2578051b\",\"type\":\"ColumnDataSource\"},\"glyph\":{\"id\":\"ee86a15c-7510-4c2a-87fe-93582394ed25\",\"type\":\"Circle\"},\"hover_glyph\":null,\"muted_glyph\":null,\"nonselection_glyph\":{\"id\":\"dfb87ce2-8c8a-4c0a-9307-d5d88a5502b3\",\"type\":\"Circle\"},\"selection_glyph\":null},\"id\":\"e4f544ef-7576-4438-ae6f-dc4df84915c7\",\"type\":\"GlyphRenderer\"},{\"attributes\":{\"callback\":null,\"plot\":{\"id\":\"5b1d3571-6450-4c3d-911d-cee09a5ff0c1\",\"subtype\":\"Figure\",\"type\":\"Plot\"},\"tooltips\":[[\"(Volume, Subject)\",\"($x, $y)\"]]},\"id\":\"7a12cdac-a96e-4fe8-8311-b47c94c46251\",\"type\":\"HoverTool\"},{\"attributes\":{\"plot\":{\"id\":\"5b1d3571-6450-4c3d-911d-cee09a5ff0c1\",\"subtype\":\"Figure\",\"type\":\"Plot\"}},\"id\":\"1fc444a2-41fa-43f4-85bf-647494417d90\",\"type\":\"ResetTool\"}],\"root_ids\":[\"5b1d3571-6450-4c3d-911d-cee09a5ff0c1\"]},\"title\":\"Bokeh Application\",\"version\":\"0.12.6\"}};\n",
       "            var render_items = [{\"docid\":\"89a79d59-3422-4a59-8bb1-d99baf503b5e\",\"elementid\":\"d22cfb76-ce4b-42e9-9333-b4b7244a809f\",\"modelid\":\"5b1d3571-6450-4c3d-911d-cee09a5ff0c1\"}];\n",
       "            \n",
       "            Bokeh.embed.embed_items(docs_json, render_items);\n",
       "          };\n",
       "          if (document.readyState != \"loading\") fn();\n",
       "          else document.addEventListener(\"DOMContentLoaded\", fn);\n",
       "        })();\n",
       "      },\n",
       "      function(Bokeh) {\n",
       "      }\n",
       "    ];\n",
       "  \n",
       "    function run_inline_js() {\n",
       "      \n",
       "      if ((window.Bokeh !== undefined) || (force === true)) {\n",
       "        for (var i = 0; i < inline_js.length; i++) {\n",
       "          inline_js[i](window.Bokeh);\n",
       "        }if (force === true) {\n",
       "          display_loaded();\n",
       "        }} else if (Date.now() < window._bokeh_timeout) {\n",
       "        setTimeout(run_inline_js, 100);\n",
       "      } else if (!window._bokeh_failed_load) {\n",
       "        console.log(\"Bokeh: BokehJS failed to load within specified timeout.\");\n",
       "        window._bokeh_failed_load = true;\n",
       "      } else if (force !== true) {\n",
       "        var cell = $(document.getElementById(\"d22cfb76-ce4b-42e9-9333-b4b7244a809f\")).parents('.cell').data().cell;\n",
       "        cell.output_area.append_execute_result(NB_LOAD_WARNING)\n",
       "      }\n",
       "  \n",
       "    }\n",
       "  \n",
       "    if (window._bokeh_is_loading === 0) {\n",
       "      console.log(\"Bokeh: BokehJS loaded, going straight to plotting\");\n",
       "      run_inline_js();\n",
       "    } else {\n",
       "      load_libs(js_urls, function() {\n",
       "        console.log(\"Bokeh: BokehJS plotting callback run at\", now());\n",
       "        run_inline_js();\n",
       "      });\n",
       "    }\n",
       "  }(this));\n",
       "</script>"
      ]
     },
     "metadata": {},
     "output_type": "display_data"
    }
   ],
   "source": [
    "subset = Measurements_merged[Measurements_merged[\"Finding_CodeMeaning\"]==\"Neoplasm, Primary\"]\n",
    "subset = subset[subset[\"quantity_CodeMeaning\"]==\"Volume\"]\n",
    "\n",
    "volumes = subset[\"value\"].values\n",
    "observers = subset[\"PersonObserverName\"].values\n",
    "subjects = subset[\"PatientID\"].values\n",
    "\n",
    "colormap = {'User1': 'red', 'User2': 'green', 'User3': 'blue'}\n",
    "colors = [colormap[x] for x in subset['PersonObserverName'].tolist()]\n",
    "\n",
    "source = ColumnDataSource(data=dict(\n",
    "    x=volumes,\n",
    "    y=subjects,\n",
    "    color=colors,\n",
    "    labels = subset[\"PersonObserverName\"].tolist(),\n",
    "    seriesUID=subset[\"ReferencedSeriesInstanceUID\"]\n",
    "    ))\n",
    "\n",
    "hover = HoverTool(tooltips=[\n",
    "    (\"(Volume, Subject)\", \"($x, $y)\")\n",
    "])\n",
    "\n",
    "wZoom = WheelZoomTool()\n",
    "bZoom = BoxZoomTool()\n",
    "reset = ResetTool()\n",
    "tap = TapTool()\n",
    "pan = PanTool()\n",
    "\n",
    "p = figure(x_range=[np.min(volumes),np.max(volumes)], \\\n",
    "           y_range=subjects.tolist(), \\\n",
    "           tools = [hover, wZoom, bZoom, reset, tap, pan],\n",
    "           title=\"Variability of primary neoplasm volume by reader\")\n",
    "\n",
    "p.circle('x','y',color='color',source=source)\n",
    "\n",
    "url = \"http://pieper.github.com/dcmjs/examples/qiicr/?seriesUID=@seriesUID\"\n",
    "taptool = p.select(type=TapTool)\n",
    "taptool.callback = OpenURL(url=url)\n",
    "\n",
    "p.xaxis.axis_label = subset[\"quantity_CodeMeaning\"].values[0]+', '+subset['units_CodeMeaning'].values[0]\n",
    "p.legend.location = \"bottom_right\"\n",
    "\n",
    "show(p)"
   ]
  },
  {
   "cell_type": "markdown",
   "metadata": {},
   "source": [
    "You can check how the segmentation you did in the first part of the tutorial for subject QIN-HEADNECK-01-0024 agrees with those done by the domain experts!"
   ]
  },
  {
   "cell_type": "markdown",
   "metadata": {},
   "source": [
    "# Further reading\n",
    "\n",
    "* Excellent introductory book about DICOM: Pianykh, Oleg S. _Digital imaging and communications in medicine (DICOM): a practical introduction and survival guide_. Springer Science & Business Media, 2009.\n",
    "* DICOM4MICCAI tutorial at MICCAI 2017 where this notebook was first presented: http://qiicr.org/dicom4miccai\n",
    "* C++ library and command line conversion tools between research formats and DICOM: https://github.com/qiicr/dcmqi\n",
    "* TCIA QIN-HEADNECK collection explored in this notebook: https://wiki.cancerimagingarchive.net/display/Public/QIN-HEADNECK\n",
    "* Manuscript covering everything DICOM about QIN-HEADNECK: Fedorov A., Clunie D., Ulrich E., Bauer C., Wahle A., Brown B., Onken M., Riesmeier J., Pieper S., Kikinis R., Buatti J., Beichel RR. _DICOM for quantitative imaging biomarker development: a standards based approach to sharing clinical data and structured PET/CT analysis results in head and neck cancer research_. PeerJ 4:e2057, 2016. DOI: [10.7717/peerj.2057](https://dx.doi.org/10.7717/peerj.2057)"
   ]
  },
  {
   "cell_type": "code",
   "execution_count": null,
   "metadata": {
    "collapsed": true
   },
   "outputs": [],
   "source": []
  }
 ],
 "metadata": {
  "kernelspec": {
   "display_name": "Python 3",
   "language": "python",
   "name": "python3"
  },
  "language_info": {
   "codemirror_mode": {
    "name": "ipython",
    "version": 3
   },
   "file_extension": ".py",
   "mimetype": "text/x-python",
   "name": "python",
   "nbconvert_exporter": "python",
   "pygments_lexer": "ipython3",
   "version": "3.5.3"
  }
 },
 "nbformat": 4,
 "nbformat_minor": 2
}
